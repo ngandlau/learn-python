{
 "cells": [
  {
   "cell_type": "code",
   "execution_count": 3,
   "metadata": {},
   "outputs": [],
   "source": [
    "from typing import Any"
   ]
  },
  {
   "cell_type": "code",
   "execution_count": 4,
   "metadata": {},
   "outputs": [],
   "source": [
    "# when a type checker sees this:\n",
    "def double(x):\n",
    "    return x * 2\n",
    "\n",
    "# it assumes this:\n",
    "def double(x: Any):\n",
    "    return x * 2"
   ]
  },
  {
   "cell_type": "code",
   "execution_count": 5,
   "metadata": {},
   "outputs": [],
   "source": [
    "# object doesn't support multiply, hence type error.\n",
    "# more general types support fewer operations\n",
    "def double(x: object) -> object:\n",
    "    return 2 * x"
   ]
  },
  {
   "attachments": {},
   "cell_type": "markdown",
   "metadata": {},
   "source": [
    "> \"If possible, avoid creating functions that return Union types, as they put an extra burden on the user -- forcing them to check the type of the returned value at runtime to know what to do with it.\""
   ]
  },
  {
   "cell_type": "code",
   "execution_count": 7,
   "metadata": {},
   "outputs": [],
   "source": [
    "from typing import NamedTuple, Tuple\n",
    "\n",
    "# Empfohlene Implementierung:\n",
    "class Coordinate(NamedTuple):\n",
    "    lat: float\n",
    "    lon: float\n",
    "\n",
    "def geohash(coord: Coordinate):\n",
    "    pass\n",
    "\n",
    "# suboptimale Alternative, da Reihenfolge von lat/lon kritisch\n",
    "def geohash(coord: Tuple[float, float]):\n",
    "    pass\n",
    "\n",
    "# suboptimale Alternative, da Reihenfolge von lat/lon kritisch\n",
    "Coordinate = Tuple[float, float]\n",
    "\n",
    "def geohash(coord: Coordinate):\n",
    "    pass\n",
    "\n",
    "# ggf. tricksen mit arg name\n",
    "def geohash(lat_lon: Tuple[float, float]):\n",
    "    pass"
   ]
  },
  {
   "cell_type": "code",
   "execution_count": 8,
   "metadata": {},
   "outputs": [],
   "source": [
    "# Tuple mit beliebiger Anzahl Elementen von Typ \"int\" möglich\n",
    "def sum_all_elements(tpl: Tuple[int, ...]):\n",
    "    pass"
   ]
  },
  {
   "attachments": {},
   "cell_type": "markdown",
   "metadata": {},
   "source": [
    "## Type Alias"
   ]
  },
  {
   "cell_type": "code",
   "execution_count": null,
   "metadata": {},
   "outputs": [],
   "source": [
    "# python <3.10\n",
    "Coordinate = Tuple[float, float]\n",
    "\n",
    "# python >=3.10\n",
    "from typing import TypeAlias\n",
    "Coordinate: TypeAlias = tuple[float, float]"
   ]
  },
  {
   "attachments": {},
   "cell_type": "markdown",
   "metadata": {},
   "source": [
    "## Parametrized Generics\n"
   ]
  },
  {
   "cell_type": "code",
   "execution_count": null,
   "metadata": {},
   "outputs": [],
   "source": [
    "# falsch. warum?\n",
    "from random import shuffle\n",
    "from typing import List, Sequence\n",
    "\n",
    "def sample(population: Sequence[Any], size: int) -> List[Any]:\n",
    "    result = list(population)\n",
    "    shuffle(result)\n",
    "    return result[:size]"
   ]
  },
  {
   "cell_type": "code",
   "execution_count": null,
   "metadata": {},
   "outputs": [],
   "source": [
    "# korrekt\n",
    "from random import shuffle\n",
    "from typing import List, Sequence, TypeVar\n",
    "\n",
    "T = TypeVar('T') # can be anything\n",
    "\n",
    "def sample(population: Sequence[T], size: int) -> List[T]:\n",
    "    result = list(population)\n",
    "    shuffle(result)\n",
    "    return result[:size]\n",
    "\n",
    "\n",
    "# -> Wenn ich eine Sequenz von Typ \"int\" reinstecke, kommt eine Liste von \"int\" raus.\n",
    "#                                  \"str\"                                  \"str\" \n",
    "#                                   ...                                    ..."
   ]
  },
  {
   "attachments": {},
   "cell_type": "markdown",
   "metadata": {},
   "source": [
    "## Numeric Tower"
   ]
  },
  {
   "cell_type": "code",
   "execution_count": null,
   "metadata": {},
   "outputs": [],
   "source": []
  },
  {
   "cell_type": "code",
   "execution_count": null,
   "metadata": {},
   "outputs": [],
   "source": []
  }
 ],
 "metadata": {
  "kernelspec": {
   "display_name": "Python 3",
   "language": "python",
   "name": "python3"
  },
  "language_info": {
   "codemirror_mode": {
    "name": "ipython",
    "version": 3
   },
   "file_extension": ".py",
   "mimetype": "text/x-python",
   "name": "python",
   "nbconvert_exporter": "python",
   "pygments_lexer": "ipython3",
   "version": "3.9.6"
  },
  "orig_nbformat": 4
 },
 "nbformat": 4,
 "nbformat_minor": 2
}
