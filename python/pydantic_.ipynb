{
 "cells": [
  {
   "cell_type": "code",
   "execution_count": 5,
   "metadata": {},
   "outputs": [],
   "source": [
    "from typing import List, Optional\n",
    "from pydantic import BaseModel\n",
    "\n",
    "class Variant(BaseModel):\n",
    "    name: str\n",
    "    sku: str\n",
    "    available: bool\n",
    "    price: float\n",
    "\n",
    "class Product(BaseModel):\n",
    "    id: int\n",
    "    title: str\n",
    "    variants: Optional[List[Variant]] # Optional[] because not all products have variantsimport BaseModel"
   ]
  },
  {
   "cell_type": "code",
   "execution_count": 8,
   "metadata": {},
   "outputs": [
    {
     "ename": "ValidationError",
     "evalue": "3 validation errors for Product\nvariants -> 0\n  value is not a valid dict (type=type_error.dict)\nvariants -> 1\n  value is not a valid dict (type=type_error.dict)\nvariants -> 2\n  value is not a valid dict (type=type_error.dict)",
     "output_type": "error",
     "traceback": [
      "\u001b[0;31m---------------------------------------------------------------------------\u001b[0m",
      "\u001b[0;31mValidationError\u001b[0m                           Traceback (most recent call last)",
      "\u001b[1;32m/home/nilsgandlau/projects/learning/python/pydantic_.ipynb Cell 2\u001b[0m in \u001b[0;36m<cell line: 2>\u001b[0;34m()\u001b[0m\n\u001b[1;32m      <a href='vscode-notebook-cell://wsl%2Bubuntu-22.04/home/nilsgandlau/projects/learning/python/pydantic_.ipynb#ch0000001vscode-remote?line=0'>1</a>\u001b[0m \u001b[39m# raises type validation error: the 'variants' argument receives a list of strings, instead of list of Variants\u001b[39;00m\n\u001b[0;32m----> <a href='vscode-notebook-cell://wsl%2Bubuntu-22.04/home/nilsgandlau/projects/learning/python/pydantic_.ipynb#ch0000001vscode-remote?line=1'>2</a>\u001b[0m item \u001b[39m=\u001b[39m Product(\n\u001b[1;32m      <a href='vscode-notebook-cell://wsl%2Bubuntu-22.04/home/nilsgandlau/projects/learning/python/pydantic_.ipynb#ch0000001vscode-remote?line=2'>3</a>\u001b[0m     \u001b[39mid\u001b[39;49m\u001b[39m=\u001b[39;49m\u001b[39m123\u001b[39;49m,\n\u001b[1;32m      <a href='vscode-notebook-cell://wsl%2Bubuntu-22.04/home/nilsgandlau/projects/learning/python/pydantic_.ipynb#ch0000001vscode-remote?line=3'>4</a>\u001b[0m     title\u001b[39m=\u001b[39;49m\u001b[39m'\u001b[39;49m\u001b[39mtshirt\u001b[39;49m\u001b[39m'\u001b[39;49m,\n\u001b[1;32m      <a href='vscode-notebook-cell://wsl%2Bubuntu-22.04/home/nilsgandlau/projects/learning/python/pydantic_.ipynb#ch0000001vscode-remote?line=4'>5</a>\u001b[0m     variants\u001b[39m=\u001b[39;49m[\u001b[39m'\u001b[39;49m\u001b[39mshould\u001b[39;49m\u001b[39m'\u001b[39;49m, \u001b[39m'\u001b[39;49m\u001b[39mnot\u001b[39;49m\u001b[39m'\u001b[39;49m, \u001b[39m'\u001b[39;49m\u001b[39mwork\u001b[39;49m\u001b[39m'\u001b[39;49m]\n\u001b[1;32m      <a href='vscode-notebook-cell://wsl%2Bubuntu-22.04/home/nilsgandlau/projects/learning/python/pydantic_.ipynb#ch0000001vscode-remote?line=5'>6</a>\u001b[0m )\n",
      "File \u001b[0;32m~/projects/learning/env/lib/python3.10/site-packages/pydantic/main.py:341\u001b[0m, in \u001b[0;36mpydantic.main.BaseModel.__init__\u001b[0;34m()\u001b[0m\n",
      "\u001b[0;31mValidationError\u001b[0m: 3 validation errors for Product\nvariants -> 0\n  value is not a valid dict (type=type_error.dict)\nvariants -> 1\n  value is not a valid dict (type=type_error.dict)\nvariants -> 2\n  value is not a valid dict (type=type_error.dict)"
     ]
    }
   ],
   "source": [
    "# raises type validation error: the 'variants' argument receives a list of strings, instead of list of Variants\n",
    "item = Product(\n",
    "    id=123,\n",
    "    title='tshirt',\n",
    "    variants=['should', 'not', 'work']\n",
    ")"
   ]
  },
  {
   "cell_type": "code",
   "execution_count": 11,
   "metadata": {},
   "outputs": [
    {
     "name": "stdout",
     "output_type": "stream",
     "text": [
      "None\n"
     ]
    }
   ],
   "source": [
    "# does not raise an error, because we declared the 'variants' attribute to be *Optional*\n",
    "item = Product(\n",
    "    id=123,\n",
    "    title='tshirt',\n",
    ")\n",
    "\n",
    "print(item.variants)"
   ]
  },
  {
   "cell_type": "code",
   "execution_count": 15,
   "metadata": {},
   "outputs": [
    {
     "data": {
      "text/plain": [
       "Product(id=123, title='tshirt', variants=[Variant(name='blue_tshirt', sku='1384314', available=True, price=19.99)])"
      ]
     },
     "execution_count": 15,
     "metadata": {},
     "output_type": "execute_result"
    }
   ],
   "source": [
    "# does not raise an error, because we declared the 'variants' attribute to be *Optional*\n",
    "item = Product(\n",
    "    id=123,\n",
    "    title='tshirt',\n",
    "    variants=[Variant(name='blue_tshirt', sku='1384314', available=True, price=19.99)]\n",
    ")\n",
    "item"
   ]
  },
  {
   "cell_type": "markdown",
   "metadata": {},
   "source": [
    "Pydantic tries to cast data to the correct type, if possible.\n",
    "\n",
    "Example:\n",
    "\n",
    "```\n",
    "str    -> int   \n",
    "'123'  -> 123\n",
    "\n",
    "str    -> bool\n",
    "'true' -> True\n",
    "```"
   ]
  },
  {
   "cell_type": "code",
   "execution_count": 25,
   "metadata": {},
   "outputs": [
    {
     "data": {
      "text/plain": [
       "Variant(name='blue_tshirt', sku='12345', available=True, price=12.99)"
      ]
     },
     "execution_count": 25,
     "metadata": {},
     "output_type": "execute_result"
    }
   ],
   "source": [
    "var = Variant(name='blue_tshirt', sku=12345, available='t', price='12.99')\n",
    "var"
   ]
  },
  {
   "cell_type": "markdown",
   "metadata": {},
   "source": [
    "Note that this could lead to unexpected behavior. Consider casting a string to boolean:\n",
    "\n",
    "```\n",
    "str    -> bool\n",
    "----------------\n",
    "'true' -> True\n",
    "'0'    -> False\n",
    "'1'    -> True\n",
    "'f'    -> False\n",
    "'t'    -> True\n",
    "```"
   ]
  },
  {
   "cell_type": "markdown",
   "metadata": {},
   "source": [
    "## Validators"
   ]
  },
  {
   "cell_type": "code",
   "execution_count": 29,
   "metadata": {},
   "outputs": [],
   "source": [
    "from typing import List, Optional\n",
    "from pydantic import BaseModel, validator\n",
    "\n",
    "class Variant(BaseModel):\n",
    "    name: str\n",
    "    sku: str\n",
    "    available: bool\n",
    "    price: float\n",
    "\n",
    "    @validator('sku')\n",
    "    def sku_length(cls, value): # cls = class method\n",
    "        if len(value) != 7:\n",
    "            raise ValueError('SKU must be 7 chars long.')\n",
    "        return value\n",
    "\n",
    "class Product(BaseModel):\n",
    "    id: int\n",
    "    title: str\n",
    "    variants: Optional[List[Variant]] # Optional[] because not all products have variantsimport BaseModel"
   ]
  },
  {
   "cell_type": "code",
   "execution_count": 32,
   "metadata": {},
   "outputs": [
    {
     "data": {
      "text/plain": [
       "Variant(name='blue_tshirt', sku='1234567', available=True, price=15.99)"
      ]
     },
     "execution_count": 32,
     "metadata": {},
     "output_type": "execute_result"
    }
   ],
   "source": [
    "good_variant = Variant(\n",
    "    name='blue_tshirt',\n",
    "    sku='1234567',\n",
    "    available=True,\n",
    "    price=15.99\n",
    ")\n",
    "good_variant"
   ]
  },
  {
   "cell_type": "code",
   "execution_count": 33,
   "metadata": {},
   "outputs": [
    {
     "ename": "ValidationError",
     "evalue": "1 validation error for Variant\nsku\n  SKU must be 7 chars long. (type=value_error)",
     "output_type": "error",
     "traceback": [
      "\u001b[0;31m---------------------------------------------------------------------------\u001b[0m",
      "\u001b[0;31mValidationError\u001b[0m                           Traceback (most recent call last)",
      "\u001b[1;32m/home/nilsgandlau/projects/learning/python/pydantic_.ipynb Cell 11\u001b[0m in \u001b[0;36m<cell line: 1>\u001b[0;34m()\u001b[0m\n\u001b[0;32m----> <a href='vscode-notebook-cell://wsl%2Bubuntu-22.04/home/nilsgandlau/projects/learning/python/pydantic_.ipynb#ch0000011vscode-remote?line=0'>1</a>\u001b[0m bad_variant \u001b[39m=\u001b[39m Variant(\n\u001b[1;32m      <a href='vscode-notebook-cell://wsl%2Bubuntu-22.04/home/nilsgandlau/projects/learning/python/pydantic_.ipynb#ch0000011vscode-remote?line=1'>2</a>\u001b[0m     name\u001b[39m=\u001b[39;49m\u001b[39m'\u001b[39;49m\u001b[39mblue_tshirt\u001b[39;49m\u001b[39m'\u001b[39;49m,\n\u001b[1;32m      <a href='vscode-notebook-cell://wsl%2Bubuntu-22.04/home/nilsgandlau/projects/learning/python/pydantic_.ipynb#ch0000011vscode-remote?line=2'>3</a>\u001b[0m     sku\u001b[39m=\u001b[39;49m\u001b[39m'\u001b[39;49m\u001b[39m123456\u001b[39;49m\u001b[39m'\u001b[39;49m,\n\u001b[1;32m      <a href='vscode-notebook-cell://wsl%2Bubuntu-22.04/home/nilsgandlau/projects/learning/python/pydantic_.ipynb#ch0000011vscode-remote?line=3'>4</a>\u001b[0m     available\u001b[39m=\u001b[39;49m\u001b[39mTrue\u001b[39;49;00m,\n\u001b[1;32m      <a href='vscode-notebook-cell://wsl%2Bubuntu-22.04/home/nilsgandlau/projects/learning/python/pydantic_.ipynb#ch0000011vscode-remote?line=4'>5</a>\u001b[0m     price\u001b[39m=\u001b[39;49m\u001b[39m15.99\u001b[39;49m\n\u001b[1;32m      <a href='vscode-notebook-cell://wsl%2Bubuntu-22.04/home/nilsgandlau/projects/learning/python/pydantic_.ipynb#ch0000011vscode-remote?line=5'>6</a>\u001b[0m )\n",
      "File \u001b[0;32m~/projects/learning/env/lib/python3.10/site-packages/pydantic/main.py:341\u001b[0m, in \u001b[0;36mpydantic.main.BaseModel.__init__\u001b[0;34m()\u001b[0m\n",
      "\u001b[0;31mValidationError\u001b[0m: 1 validation error for Variant\nsku\n  SKU must be 7 chars long. (type=value_error)"
     ]
    }
   ],
   "source": [
    "bad_variant = Variant(\n",
    "    name='blue_tshirt',\n",
    "    sku='123456',\n",
    "    available=True,\n",
    "    price=15.99\n",
    ")"
   ]
  }
 ],
 "metadata": {
  "kernelspec": {
   "display_name": "Python 3.10.4 ('env': venv)",
   "language": "python",
   "name": "python3"
  },
  "language_info": {
   "codemirror_mode": {
    "name": "ipython",
    "version": 3
   },
   "file_extension": ".py",
   "mimetype": "text/x-python",
   "name": "python",
   "nbconvert_exporter": "python",
   "pygments_lexer": "ipython3",
   "version": "3.10.4"
  },
  "orig_nbformat": 4,
  "vscode": {
   "interpreter": {
    "hash": "d1703082d35f8679492b0c65aec94a92116c7883d9d614afd013c96e577d8bf8"
   }
  }
 },
 "nbformat": 4,
 "nbformat_minor": 2
}
