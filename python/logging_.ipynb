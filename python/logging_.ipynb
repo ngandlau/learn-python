{
 "cells": [
  {
   "cell_type": "code",
   "execution_count": 15,
   "metadata": {},
   "outputs": [
    {
     "name": "stderr",
     "output_type": "stream",
     "text": [
      "WARNING:root:Warning\n",
      "ERROR:root:Error\n"
     ]
    }
   ],
   "source": [
    "import logging\n",
    "\n",
    "logging.info('Info')\n",
    "logging.warning('Warning')\n",
    "logging.error('Error')"
   ]
  },
  {
   "cell_type": "code",
   "execution_count": 18,
   "metadata": {},
   "outputs": [
    {
     "name": "stderr",
     "output_type": "stream",
     "text": [
      "INFO:root:info\n",
      "WARNING:root:Warning\n",
      "ERROR:root:Error\n"
     ]
    }
   ],
   "source": []
  }
 ],
 "metadata": {
  "kernelspec": {
   "display_name": "Python 3.10.5 64-bit ('3.10.5')",
   "language": "python",
   "name": "python3"
  },
  "language_info": {
   "codemirror_mode": {
    "name": "ipython",
    "version": 3
   },
   "file_extension": ".py",
   "mimetype": "text/x-python",
   "name": "python",
   "nbconvert_exporter": "python",
   "pygments_lexer": "ipython3",
   "version": "3.10.5"
  },
  "orig_nbformat": 4,
  "vscode": {
   "interpreter": {
    "hash": "b60ace0b0e4e139b1cc66fdb4397bcd5e1020920ca76ebcb227aa841122e58f3"
   }
  }
 },
 "nbformat": 4,
 "nbformat_minor": 2
}
