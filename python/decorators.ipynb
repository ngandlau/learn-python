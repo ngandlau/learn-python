{
 "cells": [
  {
   "attachments": {},
   "cell_type": "markdown",
   "metadata": {},
   "source": [
    "## decorators"
   ]
  },
  {
   "cell_type": "code",
   "execution_count": 4,
   "metadata": {},
   "outputs": [],
   "source": [
    "class C:\n",
    "    def meth(self): \n",
    "        return 42\n",
    "\n",
    "    def func(): \n",
    "        return 42\n",
    "    \n",
    "    func = staticmethod(func)"
   ]
  },
  {
   "cell_type": "code",
   "execution_count": 6,
   "metadata": {},
   "outputs": [
    {
     "data": {
      "text/plain": [
       "42"
      ]
     },
     "execution_count": 6,
     "metadata": {},
     "output_type": "execute_result"
    }
   ],
   "source": [
    "C.func()"
   ]
  },
  {
   "cell_type": "code",
   "execution_count": 7,
   "metadata": {},
   "outputs": [],
   "source": [
    "class C2:\n",
    "    def meth(self): return 42\n",
    "\n",
    "    @staticmethod\n",
    "    def func(): return 42"
   ]
  },
  {
   "cell_type": "code",
   "execution_count": 8,
   "metadata": {},
   "outputs": [
    {
     "data": {
      "text/plain": [
       "42"
      ]
     },
     "execution_count": 8,
     "metadata": {},
     "output_type": "execute_result"
    }
   ],
   "source": [
    "c2 = C2()\n",
    "c2.func()"
   ]
  },
  {
   "attachments": {},
   "cell_type": "markdown",
   "metadata": {},
   "source": [
    "## closures"
   ]
  },
  {
   "cell_type": "code",
   "execution_count": 9,
   "metadata": {},
   "outputs": [],
   "source": [
    "def outer(arg1):\n",
    "    def inner(arg2):\n",
    "        return arg1 + arg2\n",
    "    return inner"
   ]
  },
  {
   "cell_type": "code",
   "execution_count": 10,
   "metadata": {},
   "outputs": [
    {
     "data": {
      "text/plain": [
       "14"
      ]
     },
     "execution_count": 10,
     "metadata": {},
     "output_type": "execute_result"
    }
   ],
   "source": [
    "i10 = outer(10)\n",
    "i10(4)"
   ]
  },
  {
   "cell_type": "code",
   "execution_count": 11,
   "metadata": {},
   "outputs": [
    {
     "data": {
      "text/plain": [
       "<function __main__.outer.<locals>.inner(arg2)>"
      ]
     },
     "execution_count": 11,
     "metadata": {},
     "output_type": "execute_result"
    }
   ],
   "source": [
    "i10"
   ]
  },
  {
   "cell_type": "code",
   "execution_count": 15,
   "metadata": {},
   "outputs": [
    {
     "data": {
      "text/plain": [
       "10"
      ]
     },
     "execution_count": 15,
     "metadata": {},
     "output_type": "execute_result"
    }
   ],
   "source": [
    "i10.__closure__[0].cell_contents"
   ]
  },
  {
   "attachments": {},
   "cell_type": "markdown",
   "metadata": {},
   "source": [
    "## simple decorator"
   ]
  },
  {
   "cell_type": "code",
   "execution_count": 16,
   "metadata": {},
   "outputs": [
    {
     "name": "stdout",
     "output_type": "stream",
     "text": [
      "hello\n"
     ]
    }
   ],
   "source": [
    "# broken decorator, as this function replaces the old function. and returns none.\n",
    "def hello(func): print('hello') \n",
    "\n",
    "# decorator is run at \"init time\", ie when function definition is loaded into program.\n",
    "@hello\n",
    "def add(a, b): return a + b"
   ]
  },
  {
   "cell_type": "code",
   "execution_count": 18,
   "metadata": {},
   "outputs": [
    {
     "ename": "TypeError",
     "evalue": "'NoneType' object is not callable",
     "output_type": "error",
     "traceback": [
      "\u001b[0;31m---------------------------------------------------------------------------\u001b[0m",
      "\u001b[0;31mTypeError\u001b[0m                                 Traceback (most recent call last)",
      "\u001b[1;32m/home/nilsgandlau/projects/learning/python/pycon/00_decorators.ipynb Cell 12\u001b[0m in \u001b[0;36m<cell line: 1>\u001b[0;34m()\u001b[0m\n\u001b[0;32m----> <a href='vscode-notebook-cell://wsl%2Bubuntu-22.04/home/nilsgandlau/projects/learning/python/pycon/00_decorators.ipynb#X22sdnNjb2RlLXJlbW90ZQ%3D%3D?line=0'>1</a>\u001b[0m add(\u001b[39m1\u001b[39;49m, \u001b[39m2\u001b[39;49m)\n",
      "\u001b[0;31mTypeError\u001b[0m: 'NoneType' object is not callable"
     ]
    }
   ],
   "source": [
    "add(1, 2)"
   ]
  },
  {
   "cell_type": "code",
   "execution_count": 12,
   "metadata": {},
   "outputs": [],
   "source": [
    "def hello(func):\n",
    "    def wrapper(*args, **kwargs):       # packing of positional args into a tuple `args`, and packing of named args into dict `kwargs`\n",
    "        print('hello')\n",
    "        return func(*args, **kwargs)    # unpacking of tuple `args` and dictionary `kwargs`\n",
    "    return wrapper\n",
    "\n",
    "# note this doesn't print hello!\n",
    "@hello\n",
    "def add(a, b): return a + b"
   ]
  },
  {
   "cell_type": "code",
   "execution_count": 11,
   "metadata": {},
   "outputs": [
    {
     "name": "stdout",
     "output_type": "stream",
     "text": [
      "hello\n"
     ]
    },
    {
     "data": {
      "text/plain": [
       "3"
      ]
     },
     "execution_count": 11,
     "metadata": {},
     "output_type": "execute_result"
    }
   ],
   "source": [
    "add(1, 2)"
   ]
  },
  {
   "attachments": {},
   "cell_type": "markdown",
   "metadata": {},
   "source": [
    "---\n",
    "\n",
    "### note: *args and **kwargs"
   ]
  },
  {
   "cell_type": "code",
   "execution_count": 24,
   "metadata": {},
   "outputs": [
    {
     "name": "stdout",
     "output_type": "stream",
     "text": [
      "()\n",
      "(1,)\n",
      "(1, 'string')\n"
     ]
    }
   ],
   "source": [
    "# *args stores positional arguments in a tuple (to keep ordering)\n",
    "def func(*args): return args\n",
    "\n",
    "print(func())\n",
    "print(func(1))\n",
    "print(func(1, \"string\"))"
   ]
  },
  {
   "cell_type": "code",
   "execution_count": 28,
   "metadata": {},
   "outputs": [
    {
     "name": "stdout",
     "output_type": "stream",
     "text": [
      "{'a': 1}\n",
      "{'a': 1, 'b': 'string'}\n"
     ]
    }
   ],
   "source": [
    "# **kwargs catches all keyword arguments\n",
    "def func(**kwargs): return kwargs\n",
    "print(func(a=1))\n",
    "print(func(a=1, b=\"string\"))"
   ]
  },
  {
   "cell_type": "code",
   "execution_count": 29,
   "metadata": {},
   "outputs": [
    {
     "name": "stdout",
     "output_type": "stream",
     "text": [
      "[1, 2, 3]\n",
      "1 2 3\n",
      "1 2 3\n"
     ]
    }
   ],
   "source": [
    "L = [1, 2, 3]\n",
    "print(L)\n",
    "print(L[0], L[1], L[2])\n",
    "print(*L)   # unpacking"
   ]
  },
  {
   "attachments": {},
   "cell_type": "markdown",
   "metadata": {},
   "source": [
    "---"
   ]
  },
  {
   "cell_type": "code",
   "execution_count": 13,
   "metadata": {},
   "outputs": [
    {
     "name": "stdout",
     "output_type": "stream",
     "text": [
      "add\n",
      "adds two objects\n"
     ]
    }
   ],
   "source": [
    "def add(a, b):\n",
    "    \"\"\"adds two objects\"\"\"\n",
    "    return a + b\n",
    "\n",
    "print(add.__name__)\n",
    "print(add.__doc__)"
   ]
  },
  {
   "cell_type": "code",
   "execution_count": 19,
   "metadata": {},
   "outputs": [
    {
     "name": "stdout",
     "output_type": "stream",
     "text": [
      "wrapper\n",
      "docstring of wrapper\n"
     ]
    }
   ],
   "source": [
    "def hello(func):\n",
    "    def wrapper(*args, **kwargs):       # packing of positional args into a tuple `args`, and packing of named args into dict `kwargs`\n",
    "        print('hello')\n",
    "        return func(*args, **kwargs)    # unpacking of tuple `args` and dictionary `kwargs`\n",
    "    return wrapper\n",
    "\n",
    "\n",
    "# you're fucked. if you use this decorator 10 times, you have 10 functions\n",
    "# in your namespace called \"wrapper\". the solution is to use @wraps from\n",
    "# functools!\n",
    "@hello\n",
    "def add(a, b):\n",
    "    \"\"\"adds two objects\"\"\"\n",
    "    return a + b\n",
    "\n",
    "print(add.__name__)\n",
    "print(add.__doc__)"
   ]
  },
  {
   "cell_type": "code",
   "execution_count": 23,
   "metadata": {},
   "outputs": [
    {
     "name": "stdout",
     "output_type": "stream",
     "text": [
      "add\n",
      "adds two objects\n"
     ]
    }
   ],
   "source": [
    "from functools import wraps\n",
    "\n",
    "def hello(func):\n",
    "    @wraps(func)\n",
    "    def wrapper(*args, **kwargs):       # packing of positional args into a tuple `args`, and packing of named args into dict `kwargs`\n",
    "        print('hello')\n",
    "        return func(*args, **kwargs)    # unpacking of tuple `args` and dictionary `kwargs`\n",
    "    return wrapper\n",
    "\n",
    "@hello\n",
    "def add(a, b):\n",
    "    \"\"\"adds two objects\"\"\"\n",
    "    return a + b\n",
    "\n",
    "print(add.__name__)\n",
    "print(add.__doc__)"
   ]
  },
  {
   "cell_type": "code",
   "execution_count": 17,
   "metadata": {},
   "outputs": [
    {
     "data": {
      "text/plain": [
       "'my docstring'"
      ]
     },
     "execution_count": 17,
     "metadata": {},
     "output_type": "execute_result"
    }
   ],
   "source": [
    "def myfunction(a):\n",
    "    \"\"\"my docstring\"\"\"\n",
    "    return 42\n",
    "\n",
    "myfunction.__name__\n",
    "myfunction.__doc__"
   ]
  },
  {
   "cell_type": "code",
   "execution_count": 40,
   "metadata": {},
   "outputs": [
    {
     "name": "stdout",
     "output_type": "stream",
     "text": [
      "add\n",
      "adds two objects\n"
     ]
    }
   ],
   "source": [
    "from functools import wraps \n",
    "\n",
    "def hello(func):\n",
    "\n",
    "    @wraps(func) # this ensures the add function defined below still has its name and docstring. comment this line out to see the difference in what's printed\n",
    "    def wrapper(*args, **kwargs):\n",
    "        # -------------------------------------\n",
    "        # this part is added functionality\n",
    "        print('hello')\n",
    "        # -------------------------------------\n",
    "\n",
    "        # -------------------------------------\n",
    "        # this part executes the original function\n",
    "        return func(*args, **kwargs)\n",
    "        # -------------------------------------\n",
    "    return wrapper\n",
    "\n",
    "@hello\n",
    "def add(a, b):\n",
    "    \"\"\"adds two objects\"\"\"\n",
    "    return a + b\n",
    "\n",
    "print(add.__name__)\n",
    "print(add.__doc__)"
   ]
  },
  {
   "attachments": {},
   "cell_type": "markdown",
   "metadata": {},
   "source": [
    "## caching"
   ]
  },
  {
   "cell_type": "code",
   "execution_count": 44,
   "metadata": {},
   "outputs": [],
   "source": [
    "\"\"\"Caching results with a decorator.\n",
    "\"\"\"\n",
    "\n",
    "import functools\n",
    "import pickle\n",
    "\n",
    "\n",
    "def cached(func):\n",
    "    \"\"\"Decorator that caches.\"\"\"\n",
    "    cache = {}\n",
    "\n",
    "    @functools.wraps(func)\n",
    "    def _cached(*args, **kwargs):\n",
    "        \"\"\"Takes the arguments.\n",
    "        \"\"\"\n",
    "        # dicts cannot be use as dict keys\n",
    "        # dumps are strings and can be used\n",
    "        key = pickle.dumps((args, kwargs))\n",
    "        if key not in cache:\n",
    "            cache[key] = func(*args, **kwargs)\n",
    "        return cache[key]\n",
    "    return _cached\n"
   ]
  },
  {
   "cell_type": "code",
   "execution_count": 46,
   "metadata": {},
   "outputs": [],
   "source": [
    "@cached\n",
    "def add(a, b):\n",
    "    print('adding...')\n",
    "    return a+b "
   ]
  },
  {
   "cell_type": "code",
   "execution_count": 47,
   "metadata": {},
   "outputs": [
    {
     "name": "stdout",
     "output_type": "stream",
     "text": [
      "adding...\n"
     ]
    },
    {
     "data": {
      "text/plain": [
       "7"
      ]
     },
     "execution_count": 47,
     "metadata": {},
     "output_type": "execute_result"
    }
   ],
   "source": [
    "add(3, 4) # calculates 3+4"
   ]
  },
  {
   "cell_type": "code",
   "execution_count": 48,
   "metadata": {},
   "outputs": [
    {
     "data": {
      "text/plain": [
       "7"
      ]
     },
     "execution_count": 48,
     "metadata": {},
     "output_type": "execute_result"
    }
   ],
   "source": [
    "add(3, 4) # uses stored result"
   ]
  },
  {
   "cell_type": "code",
   "execution_count": 49,
   "metadata": {},
   "outputs": [
    {
     "data": {
      "text/plain": [
       "(<cell at 0x7f5ba1e3bd60: dict object at 0x7f5ba1e29100>,\n",
       " <cell at 0x7f5ba1e583a0: function object at 0x7f5ba2161120>)"
      ]
     },
     "execution_count": 49,
     "metadata": {},
     "output_type": "execute_result"
    }
   ],
   "source": [
    "add.__closure__"
   ]
  },
  {
   "cell_type": "code",
   "execution_count": 52,
   "metadata": {},
   "outputs": [
    {
     "data": {
      "text/plain": [
       "{b'\\x80\\x04\\x95\\x0b\\x00\\x00\\x00\\x00\\x00\\x00\\x00K\\x03K\\x04\\x86\\x94}\\x94\\x86\\x94.': 7}"
      ]
     },
     "execution_count": 52,
     "metadata": {},
     "output_type": "execute_result"
    }
   ],
   "source": [
    "# results are stored in the closure.\n",
    "# here are the results stored\n",
    "# each function that gets decorated with @cached will have its own closure\n",
    "add.__closure__[0].cell_contents "
   ]
  },
  {
   "cell_type": "code",
   "execution_count": 53,
   "metadata": {},
   "outputs": [],
   "source": [
    "@cached\n",
    "def substract(a, b):\n",
    "    print(\"substracting...\")\n",
    "    return a-b"
   ]
  },
  {
   "cell_type": "code",
   "execution_count": 54,
   "metadata": {},
   "outputs": [
    {
     "name": "stdout",
     "output_type": "stream",
     "text": [
      "substracting...\n"
     ]
    },
    {
     "data": {
      "text/plain": [
       "1"
      ]
     },
     "execution_count": 54,
     "metadata": {},
     "output_type": "execute_result"
    }
   ],
   "source": [
    "substract(2, 1)"
   ]
  },
  {
   "cell_type": "code",
   "execution_count": 55,
   "metadata": {},
   "outputs": [
    {
     "data": {
      "text/plain": [
       "1"
      ]
     },
     "execution_count": 55,
     "metadata": {},
     "output_type": "execute_result"
    }
   ],
   "source": [
    "substract(2, 1)"
   ]
  },
  {
   "cell_type": "code",
   "execution_count": 56,
   "metadata": {},
   "outputs": [
    {
     "data": {
      "text/plain": [
       "{b'\\x80\\x04\\x95\\x0b\\x00\\x00\\x00\\x00\\x00\\x00\\x00K\\x02K\\x01\\x86\\x94}\\x94\\x86\\x94.': 1}"
      ]
     },
     "execution_count": 56,
     "metadata": {},
     "output_type": "execute_result"
    }
   ],
   "source": [
    "substract.__closure__[0].cell_contents"
   ]
  },
  {
   "attachments": {},
   "cell_type": "markdown",
   "metadata": {},
   "source": [
    "## logging"
   ]
  },
  {
   "cell_type": "code",
   "execution_count": 42,
   "metadata": {},
   "outputs": [],
   "source": [
    "\"\"\"Helper to switch on and off logging of decorated functions.\"\"\"\n",
    "# avoids to have lots of \"if logging...\"-statements in your code.\n",
    "\n",
    "import functools\n",
    "\n",
    "LOGGING = False\n",
    "\n",
    "\n",
    "def logged(func):\n",
    "    \"\"\"Decorator for logging.\n",
    "    \"\"\"\n",
    "\n",
    "    @functools.wraps(func)\n",
    "    def _logged(*args, **kwargs):   # _logging is a *convention*. because the @wraps replaces the function name anyway. \n",
    "        \"\"\"Takes the arguments\n",
    "        \"\"\"\n",
    "        if LOGGING:\n",
    "            print('logged') # do proper logging here\n",
    "        return func(*args, **kwargs)\n",
    "    return _logged\n"
   ]
  },
  {
   "cell_type": "code",
   "execution_count": 43,
   "metadata": {},
   "outputs": [
    {
     "data": {
      "text/plain": [
       "3"
      ]
     },
     "execution_count": 43,
     "metadata": {},
     "output_type": "execute_result"
    }
   ],
   "source": [
    "@logged\n",
    "def add(a, b): return a + b\n",
    "\n",
    "add(1, 2)"
   ]
  },
  {
   "cell_type": "code",
   "execution_count": 61,
   "metadata": {},
   "outputs": [
    {
     "name": "stdout",
     "output_type": "stream",
     "text": [
      "logged\n"
     ]
    },
    {
     "data": {
      "text/plain": [
       "3"
      ]
     },
     "execution_count": 61,
     "metadata": {},
     "output_type": "execute_result"
    }
   ],
   "source": [
    "LOGGING = True \n",
    "add(1, 2)"
   ]
  },
  {
   "cell_type": "code",
   "execution_count": 63,
   "metadata": {},
   "outputs": [
    {
     "data": {
      "text/plain": [
       "False"
      ]
     },
     "execution_count": 63,
     "metadata": {},
     "output_type": "execute_result"
    }
   ],
   "source": [
    "add is add.__wrapped__"
   ]
  },
  {
   "cell_type": "code",
   "execution_count": 64,
   "metadata": {},
   "outputs": [
    {
     "data": {
      "text/plain": [
       "False"
      ]
     },
     "execution_count": 64,
     "metadata": {},
     "output_type": "execute_result"
    }
   ],
   "source": [
    "add == add.__wrapped__"
   ]
  },
  {
   "attachments": {},
   "cell_type": "markdown",
   "metadata": {},
   "source": [
    "How to decorate all functions?\n",
    "\n",
    "* Put all your functions into a class.\n",
    "* Then give your class a decorator that decorators all the methods."
   ]
  },
  {
   "attachments": {},
   "cell_type": "markdown",
   "metadata": {},
   "source": [
    "# advanced"
   ]
  },
  {
   "attachments": {},
   "cell_type": "markdown",
   "metadata": {},
   "source": [
    "To add functionality, like passing in an argument to a decorator, you just add another layer on top.\n",
    "\n",
    "In other words, you wrap your wrapper with another ... wrapper function `say`."
   ]
  },
  {
   "cell_type": "code",
   "execution_count": 68,
   "metadata": {},
   "outputs": [],
   "source": [
    "from functools import wraps\n",
    "\n",
    "def say(text):\n",
    "    def _say(func):\n",
    "        @wraps(func)\n",
    "        def __say(*args, **kwargs):       \n",
    "            print(text)\n",
    "            return func(*args, **kwargs) \n",
    "        return __say\n",
    "    return _say"
   ]
  },
  {
   "cell_type": "code",
   "execution_count": 69,
   "metadata": {},
   "outputs": [
    {
     "name": "stdout",
     "output_type": "stream",
     "text": [
      "hello\n"
     ]
    },
    {
     "data": {
      "text/plain": [
       "3"
      ]
     },
     "execution_count": 69,
     "metadata": {},
     "output_type": "execute_result"
    }
   ],
   "source": [
    "@say('hello')\n",
    "def add(a, b): return a+b\n",
    "\n",
    "add(1, 2)"
   ]
  },
  {
   "cell_type": "code",
   "execution_count": 70,
   "metadata": {},
   "outputs": [
    {
     "name": "stdout",
     "output_type": "stream",
     "text": [
      "hello\n",
      "hello\n"
     ]
    },
    {
     "data": {
      "text/plain": [
       "3"
      ]
     },
     "execution_count": 70,
     "metadata": {},
     "output_type": "execute_result"
    }
   ],
   "source": [
    "# equivalent to\n",
    "add = say('hello')(add)\n",
    "add(1, 2)"
   ]
  },
  {
   "cell_type": "code",
   "execution_count": 73,
   "metadata": {},
   "outputs": [
    {
     "name": "stdout",
     "output_type": "stream",
     "text": [
      "hello\n",
      "goodbye\n"
     ]
    },
    {
     "data": {
      "text/plain": [
       "3"
      ]
     },
     "execution_count": 73,
     "metadata": {},
     "output_type": "execute_result"
    }
   ],
   "source": [
    "# as many decorators as you like. but make sure you write your decorators\n",
    "# such that ordering of possibly many decorators does not matter.\n",
    "@say('hello')\n",
    "@say('goodbye')\n",
    "def add(a, b): return a+b\n",
    "\n",
    "add(1, 2)"
   ]
  },
  {
   "attachments": {},
   "cell_type": "markdown",
   "metadata": {},
   "source": [
    "## callable"
   ]
  },
  {
   "attachments": {},
   "cell_type": "markdown",
   "metadata": {},
   "source": [
    "* "
   ]
  },
  {
   "cell_type": "code",
   "execution_count": 78,
   "metadata": {},
   "outputs": [
    {
     "data": {
      "text/plain": [
       "3"
      ]
     },
     "execution_count": 78,
     "metadata": {},
     "output_type": "execute_result"
    }
   ],
   "source": [
    "sum([1, 2])"
   ]
  },
  {
   "cell_type": "code",
   "execution_count": 79,
   "metadata": {},
   "outputs": [
    {
     "data": {
      "text/plain": [
       "1"
      ]
     },
     "execution_count": 79,
     "metadata": {},
     "output_type": "execute_result"
    }
   ],
   "source": [
    "int(1.0)"
   ]
  },
  {
   "cell_type": "code",
   "execution_count": 75,
   "metadata": {},
   "outputs": [
    {
     "data": {
      "text/plain": [
       "builtin_function_or_method"
      ]
     },
     "execution_count": 75,
     "metadata": {},
     "output_type": "execute_result"
    }
   ],
   "source": [
    "type(sum)"
   ]
  },
  {
   "cell_type": "code",
   "execution_count": 76,
   "metadata": {},
   "outputs": [
    {
     "data": {
      "text/plain": [
       "type"
      ]
     },
     "execution_count": 76,
     "metadata": {},
     "output_type": "execute_result"
    }
   ],
   "source": [
    "type(int)"
   ]
  },
  {
   "cell_type": "code",
   "execution_count": 85,
   "metadata": {},
   "outputs": [
    {
     "data": {
      "text/plain": [
       "True"
      ]
     },
     "execution_count": 85,
     "metadata": {},
     "output_type": "execute_result"
    }
   ],
   "source": [
    "callable(sum)"
   ]
  },
  {
   "cell_type": "code",
   "execution_count": 86,
   "metadata": {},
   "outputs": [
    {
     "data": {
      "text/plain": [
       "True"
      ]
     },
     "execution_count": 86,
     "metadata": {},
     "output_type": "execute_result"
    }
   ],
   "source": [
    "callable(int)"
   ]
  },
  {
   "cell_type": "code",
   "execution_count": 91,
   "metadata": {},
   "outputs": [],
   "source": [
    "# you can make a class, like int, callable!\n",
    "\n",
    "class CallCounter:\n",
    "    def __init__(self): self.count = 0\n",
    "    def __call__(self): self.count += 1"
   ]
  },
  {
   "cell_type": "code",
   "execution_count": 96,
   "metadata": {},
   "outputs": [
    {
     "data": {
      "text/plain": [
       "0"
      ]
     },
     "execution_count": 96,
     "metadata": {},
     "output_type": "execute_result"
    }
   ],
   "source": [
    "c = CallCounter()\n",
    "c.count"
   ]
  },
  {
   "cell_type": "code",
   "execution_count": 97,
   "metadata": {},
   "outputs": [
    {
     "data": {
      "text/plain": [
       "1"
      ]
     },
     "execution_count": 97,
     "metadata": {},
     "output_type": "execute_result"
    }
   ],
   "source": [
    "c() # the class is now callable. such as the class \"int\" is callable, ie you can call int(5.0)\n",
    "c.count"
   ]
  },
  {
   "attachments": {},
   "cell_type": "markdown",
   "metadata": {},
   "source": [
    "A class that is a decorator. A different way to make a decorator. It is less \"deep\". It removes the \"outest\" layer from our previously written decorator-function `say(text): ...`\n",
    "\n",
    "The advantage is that you could gather multiple decorators in a single class. Or have the decorator in the `__call__` call other decorators defined in the same class. Can make the code more organized."
   ]
  },
  {
   "cell_type": "code",
   "execution_count": 35,
   "metadata": {},
   "outputs": [
    {
     "data": {
      "text/plain": [
       "4"
      ]
     },
     "execution_count": 35,
     "metadata": {},
     "output_type": "execute_result"
    }
   ],
   "source": [
    "int(4.0)"
   ]
  },
  {
   "cell_type": "code",
   "execution_count": 36,
   "metadata": {},
   "outputs": [
    {
     "name": "stdout",
     "output_type": "stream",
     "text": [
      "<class 'type'>\n"
     ]
    }
   ],
   "source": [
    "print(type(int))"
   ]
  },
  {
   "cell_type": "code",
   "execution_count": 37,
   "metadata": {},
   "outputs": [],
   "source": [
    "from functools import wraps\n",
    "\n",
    "class Say:   # this will be a decorator. you could write it in lowerclass, despite it being a class.\n",
    "    def __init__(self, text): self.text = text\n",
    "    def __call__(self, func):\n",
    "        @wraps(func)\n",
    "        def _say(*args, **kwargs):       \n",
    "            print(self.text)\n",
    "            return func(*args, **kwargs) \n",
    "        return _say"
   ]
  },
  {
   "cell_type": "code",
   "execution_count": 38,
   "metadata": {},
   "outputs": [
    {
     "name": "stdout",
     "output_type": "stream",
     "text": [
      "hello\n"
     ]
    },
    {
     "data": {
      "text/plain": [
       "9"
      ]
     },
     "execution_count": 38,
     "metadata": {},
     "output_type": "execute_result"
    }
   ],
   "source": [
    "@Say('hello')\n",
    "def add(a, b): return a + b\n",
    "add(4, 5)"
   ]
  },
  {
   "cell_type": "code",
   "execution_count": 104,
   "metadata": {},
   "outputs": [
    {
     "name": "stdout",
     "output_type": "stream",
     "text": [
      "text\n"
     ]
    },
    {
     "data": {
      "text/plain": [
       "9"
      ]
     },
     "execution_count": 104,
     "metadata": {},
     "output_type": "execute_result"
    }
   ],
   "source": [
    "def add(a, b): return a + b \n",
    "add = Say('text')(add)\n",
    "add(4, 5)"
   ]
  },
  {
   "attachments": {},
   "cell_type": "markdown",
   "metadata": {},
   "source": [
    "Note: You can take the role as a compiler and e.g. make checks before a function is run. This is because decorators are executed at **Import Time**."
   ]
  },
  {
   "attachments": {},
   "cell_type": "markdown",
   "metadata": {},
   "source": [
    "## Use Cases"
   ]
  },
  {
   "attachments": {},
   "cell_type": "markdown",
   "metadata": {},
   "source": [
    "### Use Case: Argument Tracking"
   ]
  },
  {
   "cell_type": "code",
   "execution_count": 112,
   "metadata": {},
   "outputs": [],
   "source": [
    "\"\"\"Check function arguments for given type.\"\"\"\n",
    "\n",
    "import functools\n",
    "\n",
    "\n",
    "def check(*argtypes):\n",
    "    \"\"\"Function argument type checker.\"\"\"\n",
    "\n",
    "    def _check(func):\n",
    "        \"\"\"Takes the function.\"\"\"\n",
    "\n",
    "        @functools.wraps(func)\n",
    "        def __check(*args):\n",
    "            \"\"\"Takes the arguments\"\"\"\n",
    "            # argtypes are the argument types I *want* to have\n",
    "            # args are are the argument type I *have*\n",
    "            if len(args) != len(argtypes):\n",
    "                msg = f'Expected {len(argtypes)} but got {len(args)} arguments'\n",
    "                raise TypeError(msg)\n",
    "            for arg, argtype in zip(args, argtypes):\n",
    "                if not isinstance(arg, argtype):\n",
    "                    msg = f'Expected {argtypes} but got '\n",
    "                    msg += f'{tuple(type(arg) for arg in args)}'\n",
    "                    raise TypeError(msg)\n",
    "            return func(*args)\n",
    "        return __check\n",
    "    return _check"
   ]
  },
  {
   "cell_type": "code",
   "execution_count": 115,
   "metadata": {},
   "outputs": [],
   "source": [
    "@check(float, float)\n",
    "def add(a, b): return a + b"
   ]
  },
  {
   "cell_type": "code",
   "execution_count": 117,
   "metadata": {},
   "outputs": [
    {
     "ename": "TypeError",
     "evalue": "Expected (<class 'float'>, <class 'float'>) but got (<class 'int'>, <class 'int'>)",
     "output_type": "error",
     "traceback": [
      "\u001b[0;31m---------------------------------------------------------------------------\u001b[0m",
      "\u001b[0;31mTypeError\u001b[0m                                 Traceback (most recent call last)",
      "\u001b[1;32m/home/nilsgandlau/projects/learning/python/pycon/00_decorators.ipynb Cell 67\u001b[0m in \u001b[0;36m<cell line: 1>\u001b[0;34m()\u001b[0m\n\u001b[0;32m----> <a href='vscode-notebook-cell://wsl%2Bubuntu-22.04/home/nilsgandlau/projects/learning/python/pycon/00_decorators.ipynb#Y154sdnNjb2RlLXJlbW90ZQ%3D%3D?line=0'>1</a>\u001b[0m add(\u001b[39m1\u001b[39;49m, \u001b[39m2\u001b[39;49m)\n",
      "\u001b[1;32m/home/nilsgandlau/projects/learning/python/pycon/00_decorators.ipynb Cell 67\u001b[0m in \u001b[0;36mcheck.<locals>._check.<locals>.__check\u001b[0;34m(*args)\u001b[0m\n\u001b[1;32m     <a href='vscode-notebook-cell://wsl%2Bubuntu-22.04/home/nilsgandlau/projects/learning/python/pycon/00_decorators.ipynb#Y154sdnNjb2RlLXJlbW90ZQ%3D%3D?line=21'>22</a>\u001b[0m         msg \u001b[39m=\u001b[39m \u001b[39mf\u001b[39m\u001b[39m'\u001b[39m\u001b[39mExpected \u001b[39m\u001b[39m{\u001b[39;00margtypes\u001b[39m}\u001b[39;00m\u001b[39m but got \u001b[39m\u001b[39m'\u001b[39m\n\u001b[1;32m     <a href='vscode-notebook-cell://wsl%2Bubuntu-22.04/home/nilsgandlau/projects/learning/python/pycon/00_decorators.ipynb#Y154sdnNjb2RlLXJlbW90ZQ%3D%3D?line=22'>23</a>\u001b[0m         msg \u001b[39m+\u001b[39m\u001b[39m=\u001b[39m \u001b[39mf\u001b[39m\u001b[39m'\u001b[39m\u001b[39m{\u001b[39;00m\u001b[39mtuple\u001b[39m(\u001b[39mtype\u001b[39m(arg) \u001b[39mfor\u001b[39;00m arg \u001b[39min\u001b[39;00m args)\u001b[39m}\u001b[39;00m\u001b[39m'\u001b[39m\n\u001b[0;32m---> <a href='vscode-notebook-cell://wsl%2Bubuntu-22.04/home/nilsgandlau/projects/learning/python/pycon/00_decorators.ipynb#Y154sdnNjb2RlLXJlbW90ZQ%3D%3D?line=23'>24</a>\u001b[0m         \u001b[39mraise\u001b[39;00m \u001b[39mTypeError\u001b[39;00m(msg)\n\u001b[1;32m     <a href='vscode-notebook-cell://wsl%2Bubuntu-22.04/home/nilsgandlau/projects/learning/python/pycon/00_decorators.ipynb#Y154sdnNjb2RlLXJlbW90ZQ%3D%3D?line=24'>25</a>\u001b[0m \u001b[39mreturn\u001b[39;00m func(\u001b[39m*\u001b[39margs)\n",
      "\u001b[0;31mTypeError\u001b[0m: Expected (<class 'float'>, <class 'float'>) but got (<class 'int'>, <class 'int'>)"
     ]
    }
   ],
   "source": [
    "add(1, 2)"
   ]
  },
  {
   "cell_type": "code",
   "execution_count": 116,
   "metadata": {},
   "outputs": [
    {
     "data": {
      "text/plain": [
       "3.0"
      ]
     },
     "execution_count": 116,
     "metadata": {},
     "output_type": "execute_result"
    }
   ],
   "source": [
    "add(1.0, 2.0)"
   ]
  },
  {
   "attachments": {},
   "cell_type": "markdown",
   "metadata": {},
   "source": [
    "### Use Case: registering"
   ]
  },
  {
   "cell_type": "code",
   "execution_count": 25,
   "metadata": {},
   "outputs": [],
   "source": [
    "\"\"\"A function registry.\n",
    "\"\"\"\n",
    "\n",
    "import functools\n",
    "\n",
    "registry = {}\n",
    "\n",
    "\n",
    "def register_at_call(name):\n",
    "    \"\"\"Register the decorated function at call time.\n",
    "    \"\"\"\n",
    "\n",
    "    def _register(func):\n",
    "        \"\"\"Takes the function.\n",
    "        \"\"\"\n",
    "\n",
    "        @functools.wraps(func)\n",
    "        def __register(*args, **kwargs):\n",
    "            \"\"\"Takes the arguments.\n",
    "            \"\"\"\n",
    "            registry.setdefault(name, []).append(func) # pretty great one-liner. instead of if key not exists then dic[key] = [] else dic[key].append(item)\n",
    "            return func(*args, **kwargs)\n",
    "        return __register\n",
    "    return _register\n",
    "\n",
    "\n",
    "def register_at_def(name):\n",
    "    \"\"\"Register the decorated function at definition time.\n",
    "    \"\"\"\n",
    "\n",
    "    def _register(func):\n",
    "        \"\"\"Takes the function.\n",
    "        \"\"\"\n",
    "        registry.setdefault(name, []).append(func)\n",
    "\n",
    "        return func\n",
    "    return _register\n"
   ]
  },
  {
   "cell_type": "code",
   "execution_count": 27,
   "metadata": {},
   "outputs": [
    {
     "data": {
      "text/plain": [
       "{}"
      ]
     },
     "execution_count": 27,
     "metadata": {},
     "output_type": "execute_result"
    }
   ],
   "source": [
    "registry"
   ]
  },
  {
   "cell_type": "code",
   "execution_count": 28,
   "metadata": {},
   "outputs": [],
   "source": [
    "@register_at_call('at_call')\n",
    "def add(a, b): return a + b"
   ]
  },
  {
   "cell_type": "code",
   "execution_count": 29,
   "metadata": {},
   "outputs": [
    {
     "data": {
      "text/plain": [
       "{}"
      ]
     },
     "execution_count": 29,
     "metadata": {},
     "output_type": "execute_result"
    }
   ],
   "source": [
    "registry"
   ]
  },
  {
   "cell_type": "code",
   "execution_count": 30,
   "metadata": {},
   "outputs": [
    {
     "data": {
      "text/plain": [
       "{'at_call': [<function __main__.add(a, b)>]}"
      ]
     },
     "execution_count": 30,
     "metadata": {},
     "output_type": "execute_result"
    }
   ],
   "source": [
    "add(1, 2)\n",
    "registry"
   ]
  },
  {
   "cell_type": "code",
   "execution_count": 31,
   "metadata": {},
   "outputs": [
    {
     "data": {
      "text/plain": [
       "{'at_call': [<function __main__.add(a, b)>, <function __main__.add(a, b)>]}"
      ]
     },
     "execution_count": 31,
     "metadata": {},
     "output_type": "execute_result"
    }
   ],
   "source": [
    "add(1, 2)\n",
    "registry"
   ]
  },
  {
   "cell_type": "code",
   "execution_count": 32,
   "metadata": {},
   "outputs": [
    {
     "data": {
      "text/plain": [
       "{'at_call': [<function __main__.add(a, b)>,\n",
       "  <function __main__.add(a, b)>,\n",
       "  <function __main__.add(a, b)>]}"
      ]
     },
     "execution_count": 32,
     "metadata": {},
     "output_type": "execute_result"
    }
   ],
   "source": [
    "add(5, 6)\n",
    "registry"
   ]
  },
  {
   "attachments": {},
   "cell_type": "markdown",
   "metadata": {},
   "source": [
    "function is added to registry every time the function is *called*"
   ]
  },
  {
   "cell_type": "code",
   "execution_count": 34,
   "metadata": {},
   "outputs": [],
   "source": [
    "@register_at_def('at_def')\n",
    "def add(a, b): return a + b"
   ]
  },
  {
   "cell_type": "code",
   "execution_count": 158,
   "metadata": {},
   "outputs": [
    {
     "data": {
      "text/plain": [
       "{'at_call': [<function __main__.add(a, b)>, <function __main__.add(a, b)>],\n",
       " 'at_def': [<function __main__.add(a, b)>]}"
      ]
     },
     "execution_count": 158,
     "metadata": {},
     "output_type": "execute_result"
    }
   ],
   "source": [
    "registry"
   ]
  },
  {
   "attachments": {},
   "cell_type": "markdown",
   "metadata": {},
   "source": [
    "## class decorators"
   ]
  },
  {
   "cell_type": "code",
   "execution_count": 165,
   "metadata": {},
   "outputs": [],
   "source": [
    "# the boilerplate you want. now you can do anything with the class\n",
    "def mark(cls):\n",
    "    return cls"
   ]
  },
  {
   "cell_type": "code",
   "execution_count": 166,
   "metadata": {},
   "outputs": [],
   "source": [
    "def mark(cls):\n",
    "    cls.new_attr = 100\n",
    "    return cls"
   ]
  },
  {
   "cell_type": "code",
   "execution_count": 167,
   "metadata": {},
   "outputs": [],
   "source": [
    "@mark\n",
    "class A:\n",
    "    pass"
   ]
  },
  {
   "cell_type": "code",
   "execution_count": 168,
   "metadata": {},
   "outputs": [
    {
     "data": {
      "text/plain": [
       "100"
      ]
     },
     "execution_count": 168,
     "metadata": {},
     "output_type": "execute_result"
    }
   ],
   "source": [
    "A.new_attr"
   ]
  },
  {
   "cell_type": "code",
   "execution_count": 169,
   "metadata": {},
   "outputs": [
    {
     "data": {
      "text/plain": [
       "100"
      ]
     },
     "execution_count": 169,
     "metadata": {},
     "output_type": "execute_result"
    }
   ],
   "source": [
    "# equivalent to this syntax without the \"@\"\n",
    "class A:\n",
    "    pass\n",
    "A = mark(A)\n",
    "\n",
    "A.new_attr"
   ]
  },
  {
   "attachments": {},
   "cell_type": "markdown",
   "metadata": {},
   "source": [
    "### use case: inspecting class methods"
   ]
  },
  {
   "attachments": {},
   "cell_type": "markdown",
   "metadata": {},
   "source": [
    "use case idea: inspecting the class and doing something with the class"
   ]
  },
  {
   "cell_type": "code",
   "execution_count": 40,
   "metadata": {},
   "outputs": [],
   "source": [
    "\"\"\"Class decorator to check method name length.\"\"\"\n",
    "\n",
    "\n",
    "def check_name_length(max_len=30):\n",
    "    \"\"\"Check method name length.\n",
    "\n",
    "    Raises a `NameError` if one method name of a decoratoed class is\n",
    "    longer than `max_len`.\n",
    "    \"\"\"\n",
    "    def _check_name_length(cls):\n",
    "        for name, obj in cls.__dict__.items():\n",
    "            if callable(obj) and len(name) > max_len:\n",
    "                msg = (f'name `{name}` too long,\\n  ' + len('NameError') * ' ' +\n",
    "                       f'found {len(name)} characters, only {max_len} are allowed')\n",
    "                raise NameError(msg)\n",
    "        return cls\n",
    "    return _check_name_length"
   ]
  },
  {
   "cell_type": "code",
   "execution_count": 41,
   "metadata": {},
   "outputs": [
    {
     "ename": "NameError",
     "evalue": "name `meth_with_too_long_name_blablabla_whatthefuck` too long,\n           found 45 characters, only 10 are allowed",
     "output_type": "error",
     "traceback": [
      "\u001b[0;31m---------------------------------------------------------------------------\u001b[0m",
      "\u001b[0;31mNameError\u001b[0m                                 Traceback (most recent call last)",
      "\u001b[1;32m/home/nilsgandlau/projects/learning/python/decorators.ipynb Cell 94\u001b[0m in \u001b[0;36m<cell line: 1>\u001b[0;34m()\u001b[0m\n\u001b[1;32m      <a href='vscode-notebook-cell://wsl%2Bubuntu-22.04/home/nilsgandlau/projects/learning/python/decorators.ipynb#Y153sdnNjb2RlLXJlbW90ZQ%3D%3D?line=0'>1</a>\u001b[0m \u001b[39m@check_name_length\u001b[39;49m(max_len\u001b[39m=\u001b[39;49m\u001b[39m10\u001b[39;49m)\n\u001b[0;32m----> <a href='vscode-notebook-cell://wsl%2Bubuntu-22.04/home/nilsgandlau/projects/learning/python/decorators.ipynb#Y153sdnNjb2RlLXJlbW90ZQ%3D%3D?line=1'>2</a>\u001b[0m \u001b[39mclass\u001b[39;49;00m \u001b[39mB\u001b[39;49;00m:\n\u001b[1;32m      <a href='vscode-notebook-cell://wsl%2Bubuntu-22.04/home/nilsgandlau/projects/learning/python/decorators.ipynb#Y153sdnNjb2RlLXJlbW90ZQ%3D%3D?line=2'>3</a>\u001b[0m     \u001b[39mdef\u001b[39;49;00m \u001b[39mmeth\u001b[39;49m(\u001b[39mself\u001b[39;49m): \u001b[39mpass\u001b[39;49;00m\n\u001b[1;32m      <a href='vscode-notebook-cell://wsl%2Bubuntu-22.04/home/nilsgandlau/projects/learning/python/decorators.ipynb#Y153sdnNjb2RlLXJlbW90ZQ%3D%3D?line=3'>4</a>\u001b[0m     \u001b[39mdef\u001b[39;49;00m \u001b[39mmeth_with_too_long_name_blablabla_whatthefuck\u001b[39;49m(\u001b[39mself\u001b[39;49m): \u001b[39mpass\u001b[39;49;00m\n",
      "\u001b[1;32m/home/nilsgandlau/projects/learning/python/decorators.ipynb Cell 94\u001b[0m in \u001b[0;36mcheck_name_length.<locals>._check_name_length\u001b[0;34m(cls)\u001b[0m\n\u001b[1;32m     <a href='vscode-notebook-cell://wsl%2Bubuntu-22.04/home/nilsgandlau/projects/learning/python/decorators.ipynb#Y153sdnNjb2RlLXJlbW90ZQ%3D%3D?line=11'>12</a>\u001b[0m     \u001b[39mif\u001b[39;00m callable(obj) \u001b[39mand\u001b[39;00m \u001b[39mlen\u001b[39m(name) \u001b[39m>\u001b[39m max_len:\n\u001b[1;32m     <a href='vscode-notebook-cell://wsl%2Bubuntu-22.04/home/nilsgandlau/projects/learning/python/decorators.ipynb#Y153sdnNjb2RlLXJlbW90ZQ%3D%3D?line=12'>13</a>\u001b[0m         msg \u001b[39m=\u001b[39m (\u001b[39mf\u001b[39m\u001b[39m'\u001b[39m\u001b[39mname `\u001b[39m\u001b[39m{\u001b[39;00mname\u001b[39m}\u001b[39;00m\u001b[39m` too long,\u001b[39m\u001b[39m\\n\u001b[39;00m\u001b[39m  \u001b[39m\u001b[39m'\u001b[39m \u001b[39m+\u001b[39m \u001b[39mlen\u001b[39m(\u001b[39m'\u001b[39m\u001b[39mNameError\u001b[39m\u001b[39m'\u001b[39m) \u001b[39m*\u001b[39m \u001b[39m'\u001b[39m\u001b[39m \u001b[39m\u001b[39m'\u001b[39m \u001b[39m+\u001b[39m\n\u001b[1;32m     <a href='vscode-notebook-cell://wsl%2Bubuntu-22.04/home/nilsgandlau/projects/learning/python/decorators.ipynb#Y153sdnNjb2RlLXJlbW90ZQ%3D%3D?line=13'>14</a>\u001b[0m                \u001b[39mf\u001b[39m\u001b[39m'\u001b[39m\u001b[39mfound \u001b[39m\u001b[39m{\u001b[39;00m\u001b[39mlen\u001b[39m(name)\u001b[39m}\u001b[39;00m\u001b[39m characters, only \u001b[39m\u001b[39m{\u001b[39;00mmax_len\u001b[39m}\u001b[39;00m\u001b[39m are allowed\u001b[39m\u001b[39m'\u001b[39m)\n\u001b[0;32m---> <a href='vscode-notebook-cell://wsl%2Bubuntu-22.04/home/nilsgandlau/projects/learning/python/decorators.ipynb#Y153sdnNjb2RlLXJlbW90ZQ%3D%3D?line=14'>15</a>\u001b[0m         \u001b[39mraise\u001b[39;00m \u001b[39mNameError\u001b[39;00m(msg)\n\u001b[1;32m     <a href='vscode-notebook-cell://wsl%2Bubuntu-22.04/home/nilsgandlau/projects/learning/python/decorators.ipynb#Y153sdnNjb2RlLXJlbW90ZQ%3D%3D?line=15'>16</a>\u001b[0m \u001b[39mreturn\u001b[39;00m \u001b[39mcls\u001b[39m\n",
      "\u001b[0;31mNameError\u001b[0m: name `meth_with_too_long_name_blablabla_whatthefuck` too long,\n           found 45 characters, only 10 are allowed"
     ]
    }
   ],
   "source": [
    "@check_name_length(max_len=10)\n",
    "class B:\n",
    "    def meth(self): pass\n",
    "    def meth_with_too_long_name_blablabla_whatthefuck(self): pass\n",
    "B"
   ]
  },
  {
   "attachments": {},
   "cell_type": "markdown",
   "metadata": {},
   "source": [
    "to decorate all methods with a decorator, maybe use `.setattribute()`. maybe loop over all `callable(obj)` in `cls.__dict__.items()`..."
   ]
  },
  {
   "cell_type": "code",
   "execution_count": null,
   "metadata": {},
   "outputs": [],
   "source": []
  },
  {
   "attachments": {},
   "cell_type": "markdown",
   "metadata": {},
   "source": [
    "## decorator to check output schema"
   ]
  },
  {
   "cell_type": "code",
   "execution_count": 132,
   "metadata": {},
   "outputs": [
    {
     "data": {
      "text/plain": [
       "logging.Logger"
      ]
     },
     "execution_count": 132,
     "metadata": {},
     "output_type": "execute_result"
    }
   ],
   "source": [
    "import logging\n",
    "\n",
    "logging.basicConfig(\n",
    "    level=logging.INFO,\n",
    "    format=\"[%(asctime)s] [%(name)s] [%(levelname)s] [%(lineno)04d] %(message)s\",\n",
    "    datefmt=\"%d.%m.%Y %H:%M:%S\",\n",
    ")\n",
    "\n",
    "logger = logging.getLogger(name='hello')\n",
    "type(logger)"
   ]
  },
  {
   "cell_type": "code",
   "execution_count": 133,
   "metadata": {},
   "outputs": [
    {
     "name": "stderr",
     "output_type": "stream",
     "text": [
      "[05.07.2023 17:40:21] [hello] [INFO] [0001] hello world\n"
     ]
    }
   ],
   "source": [
    "logger.info(\"hello world\")"
   ]
  },
  {
   "cell_type": "code",
   "execution_count": 140,
   "metadata": {},
   "outputs": [],
   "source": [
    "import polars as pl\n",
    "from typing import List, Dict, Any, Union, Optional, Set\n",
    "from functools import wraps\n",
    "\n",
    "ColName = str\n",
    "DataType = Any\n",
    "\n",
    "\n",
    "def check_output(schema: Dict[ColName, DataType], coerce_dtypes: bool, coerce_column_order: bool, logger: Optional[logging.Logger] = None):\n",
    "    def _check_output(wrapped):\n",
    "        @wraps(wrapped)\n",
    "        def __check_output(*args, **kwargs):\n",
    "            func_name = wrapped.__name__ # name of decorated function\n",
    "\n",
    "            df = wrapped(*args, **kwargs)\n",
    "            df_schema = dict(zip(df.columns, df.dtypes))\n",
    "\n",
    "            # check if the the columns match\n",
    "            columns_in_df = df.columns\n",
    "            columns_in_schema = schema.keys()\n",
    "\n",
    "            if set(columns_in_schema) == set(columns_in_df):\n",
    "                if logger is not None:\n",
    "                    logger.info(f\"Checking output of function {func_name}() | Schema and DataFrame have matching columns.\")\n",
    "                if coerce_column_order:\n",
    "                    df = df.select(schema.keys())\n",
    "            else:\n",
    "                columns_in_df_but_not_in_schema = list(set(columns_in_df) - set(columns_in_schema))\n",
    "                columns_in_schema_but_not_in_df = list(set(columns_in_schema) - set(columns_in_df))\n",
    "\n",
    "                if logger is not None:\n",
    "                    logger.info(f\"Checking output of function {func_name}() | Found mismatching columns | Columns in df but not in schema: {columns_in_df_but_not_in_schema}\")\n",
    "                    logger.info(f\"Checking output of function {func_name}() | Found mismatching columns | Columns in schema but not in df: {columns_in_schema_but_not_in_df}\")\n",
    "            \n",
    "            # check if the datatypes match\n",
    "            for column_name, expected_dtype in schema.items():\n",
    "\n",
    "                if column_name not in df.columns:\n",
    "                    continue\n",
    "\n",
    "                actual_dtype = df_schema[column_name]\n",
    "\n",
    "                if expected_dtype != actual_dtype:\n",
    "                    \n",
    "                    if logger is not None:\n",
    "                        logger.info(f\"Checking output of function {func_name}() | Column {column_name} | is of type {actual_dtype} but should be {expected_dtype}\")\n",
    "\n",
    "                    if coerce_dtypes: \n",
    "                        try:\n",
    "                            # try to coerce column into the expected dtype\n",
    "                            df = df.with_column(pl.col(column_name).cast(expected_dtype))\n",
    "                            if logger is not None: \n",
    "                                logger.info(f\"Checking output of function {func_name}() | Column {column_name} | successfully casted from {actual_dtype} to {expected_dtype}\")\n",
    "                        except:\n",
    "                            if logger is not None:\n",
    "                                logger.info(f\"Checking output of function {func_name}() | Column {column_name} | failed to cast from {actual_dtype} to {expected_dtype}\")\n",
    "\n",
    "            return df\n",
    "\n",
    "        return __check_output\n",
    "    return _check_output"
   ]
  },
  {
   "cell_type": "code",
   "execution_count": 141,
   "metadata": {},
   "outputs": [
    {
     "data": {
      "text/html": [
       "<div>\n",
       "<style scoped>\n",
       "    .dataframe tbody tr th:only-of-type {\n",
       "        vertical-align: middle;\n",
       "    }\n",
       "\n",
       "    .dataframe tbody tr th {\n",
       "        vertical-align: top;\n",
       "    }\n",
       "\n",
       "    .dataframe thead th {\n",
       "        text-align: right;\n",
       "    }\n",
       "\n",
       "    .dataframe td {\n",
       "        white-space: pre;\n",
       "    }\n",
       "\n",
       "    .dataframe td {\n",
       "        padding-top: 0;\n",
       "    }\n",
       "\n",
       "    .dataframe td {\n",
       "        padding-bottom: 0;\n",
       "    }\n",
       "</style>\n",
       "<table border=\"1\" class=\"dataframe\" >\n",
       "<small>shape: (2, 1)</small>\n",
       "<thead>\n",
       "<tr>\n",
       "<th>\n",
       "A\n",
       "</th>\n",
       "</tr>\n",
       "<tr>\n",
       "<td>\n",
       "i64\n",
       "</td>\n",
       "</tr>\n",
       "</thead>\n",
       "<tbody>\n",
       "<tr>\n",
       "<td>\n",
       "1\n",
       "</td>\n",
       "</tr>\n",
       "<tr>\n",
       "<td>\n",
       "2\n",
       "</td>\n",
       "</tr>\n",
       "</tbody>\n",
       "</table>\n",
       "</div>"
      ],
      "text/plain": [
       "shape: (2, 1)\n",
       "┌─────┐\n",
       "│ A   │\n",
       "│ --- │\n",
       "│ i64 │\n",
       "╞═════╡\n",
       "│ 1   │\n",
       "├╌╌╌╌╌┤\n",
       "│ 2   │\n",
       "└─────┘"
      ]
     },
     "execution_count": 141,
     "metadata": {},
     "output_type": "execute_result"
    }
   ],
   "source": [
    "df = pl.DataFrame({'A': [1, 2]})\n",
    "df"
   ]
  },
  {
   "cell_type": "code",
   "execution_count": 143,
   "metadata": {},
   "outputs": [
    {
     "name": "stderr",
     "output_type": "stream",
     "text": [
      "[05.07.2023 17:43:16] [hello] [INFO] [0024] Checking output of function transform() | Schema and DataFrame have matching columns.\n",
      "[05.07.2023 17:43:16] [hello] [INFO] [0046] Checking output of function transform() | Column B | is of type <class 'polars.datatypes.Int64'> but should be <class 'polars.datatypes.Int8'>\n",
      "[05.07.2023 17:43:16] [hello] [INFO] [0053] Checking output of function transform() | Column B | successfully casted from <class 'polars.datatypes.Int64'> to <class 'polars.datatypes.Int8'>\n",
      "[05.07.2023 17:43:16] [hello] [INFO] [0046] Checking output of function transform() | Column A | is of type <class 'polars.datatypes.Int64'> but should be <class 'polars.datatypes.Int8'>\n",
      "[05.07.2023 17:43:16] [hello] [INFO] [0053] Checking output of function transform() | Column A | successfully casted from <class 'polars.datatypes.Int64'> to <class 'polars.datatypes.Int8'>\n"
     ]
    },
    {
     "data": {
      "text/html": [
       "<div>\n",
       "<style scoped>\n",
       "    .dataframe tbody tr th:only-of-type {\n",
       "        vertical-align: middle;\n",
       "    }\n",
       "\n",
       "    .dataframe tbody tr th {\n",
       "        vertical-align: top;\n",
       "    }\n",
       "\n",
       "    .dataframe thead th {\n",
       "        text-align: right;\n",
       "    }\n",
       "\n",
       "    .dataframe td {\n",
       "        white-space: pre;\n",
       "    }\n",
       "\n",
       "    .dataframe td {\n",
       "        padding-top: 0;\n",
       "    }\n",
       "\n",
       "    .dataframe td {\n",
       "        padding-bottom: 0;\n",
       "    }\n",
       "</style>\n",
       "<table border=\"1\" class=\"dataframe\" >\n",
       "<small>shape: (2, 2)</small>\n",
       "<thead>\n",
       "<tr>\n",
       "<th>\n",
       "B\n",
       "</th>\n",
       "<th>\n",
       "A\n",
       "</th>\n",
       "</tr>\n",
       "<tr>\n",
       "<td>\n",
       "i8\n",
       "</td>\n",
       "<td>\n",
       "i8\n",
       "</td>\n",
       "</tr>\n",
       "</thead>\n",
       "<tbody>\n",
       "<tr>\n",
       "<td>\n",
       "2\n",
       "</td>\n",
       "<td>\n",
       "1\n",
       "</td>\n",
       "</tr>\n",
       "<tr>\n",
       "<td>\n",
       "4\n",
       "</td>\n",
       "<td>\n",
       "2\n",
       "</td>\n",
       "</tr>\n",
       "</tbody>\n",
       "</table>\n",
       "</div>"
      ],
      "text/plain": [
       "shape: (2, 2)\n",
       "┌─────┬─────┐\n",
       "│ B   ┆ A   │\n",
       "│ --- ┆ --- │\n",
       "│ i8  ┆ i8  │\n",
       "╞═════╪═════╡\n",
       "│ 2   ┆ 1   │\n",
       "├╌╌╌╌╌┼╌╌╌╌╌┤\n",
       "│ 4   ┆ 2   │\n",
       "└─────┴─────┘"
      ]
     },
     "execution_count": 143,
     "metadata": {},
     "output_type": "execute_result"
    }
   ],
   "source": [
    "@check_output(schema={'B': pl.Int8, 'A': pl.Int8}, coerce_dtypes=True, coerce_column_order=True, logger=logger)\n",
    "def transform(df: pl.DataFrame) -> pl.DataFrame:\n",
    "    return df.with_column((pl.col('A')*2).alias('B'))\n",
    "\n",
    "transform(df)"
   ]
  }
 ],
 "metadata": {
  "kernelspec": {
   "display_name": "venv",
   "language": "python",
   "name": "python3"
  },
  "language_info": {
   "codemirror_mode": {
    "name": "ipython",
    "version": 3
   },
   "file_extension": ".py",
   "mimetype": "text/x-python",
   "name": "python",
   "nbconvert_exporter": "python",
   "pygments_lexer": "ipython3",
   "version": "3.10.5"
  },
  "orig_nbformat": 4
 },
 "nbformat": 4,
 "nbformat_minor": 2
}
