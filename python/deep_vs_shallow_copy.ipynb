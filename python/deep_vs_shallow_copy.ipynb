{
 "cells": [
  {
   "cell_type": "code",
   "execution_count": 169,
   "metadata": {},
   "outputs": [],
   "source": [
    "import copy"
   ]
  },
  {
   "cell_type": "markdown",
   "metadata": {},
   "source": [
    "## No copy"
   ]
  },
  {
   "cell_type": "code",
   "execution_count": 170,
   "metadata": {},
   "outputs": [],
   "source": [
    "original = [[1, 2, 3], [4, 5, 6], [7, 8, 9]]\n",
    "copy_ = original"
   ]
  },
  {
   "cell_type": "code",
   "execution_count": 171,
   "metadata": {},
   "outputs": [
    {
     "name": "stdout",
     "output_type": "stream",
     "text": [
      "0x7fb47c4b62c0\n",
      "0x7fb47c4b62c0\n"
     ]
    }
   ],
   "source": [
    "print(hex(id(original)))\n",
    "print(hex(id(copy_)))"
   ]
  },
  {
   "cell_type": "code",
   "execution_count": 172,
   "metadata": {},
   "outputs": [
    {
     "name": "stdout",
     "output_type": "stream",
     "text": [
      "value \t\t id of orig \t\t id of copy\n",
      "[1, 2, 3]: \t 0x7fb475a434c0 \t 0x7fb475a434c0\n",
      "[4, 5, 6]: \t 0x7fb475a3e380 \t 0x7fb475a3e380\n",
      "[7, 8, 9]: \t 0x7fb47c491600 \t 0x7fb47c491600\n"
     ]
    }
   ],
   "source": [
    "print(\"value \\t\\t id of orig \\t\\t id of copy\")\n",
    "for x, y in zip(original, copy_):\n",
    "    print(f\"{x}: \\t {hex(id(x))} \\t {hex(id(y))}\")"
   ]
  },
  {
   "cell_type": "markdown",
   "metadata": {},
   "source": [
    "Changing `copy` changes `original`, because both point to the same object in memory."
   ]
  },
  {
   "cell_type": "code",
   "execution_count": 173,
   "metadata": {},
   "outputs": [
    {
     "name": "stdout",
     "output_type": "stream",
     "text": [
      "[[1, 2, 3], [4, 5, 6], [7, 8, 9], 5]\n",
      "[[1, 2, 3], [4, 5, 6], [7, 8, 9], 5]\n"
     ]
    }
   ],
   "source": [
    "copy_.append(5)\n",
    "\n",
    "print(copy_)\n",
    "print(original)"
   ]
  },
  {
   "cell_type": "markdown",
   "metadata": {},
   "source": [
    "## Deep Copy"
   ]
  },
  {
   "cell_type": "code",
   "execution_count": 174,
   "metadata": {},
   "outputs": [],
   "source": [
    "original = [[1, 2, 3], [4, 5, 6], [7, 8, 9]]\n",
    "copy_ = copy.deepcopy(original)"
   ]
  },
  {
   "cell_type": "markdown",
   "metadata": {},
   "source": [
    "`original` and `copy_` point to different objects in memory."
   ]
  },
  {
   "cell_type": "code",
   "execution_count": 175,
   "metadata": {},
   "outputs": [
    {
     "name": "stdout",
     "output_type": "stream",
     "text": [
      "0x7fb475aa6980\n",
      "0x7fb475aa9e80\n"
     ]
    }
   ],
   "source": [
    "print(hex(id(original)))\n",
    "print(hex(id(copy_)))"
   ]
  },
  {
   "cell_type": "markdown",
   "metadata": {},
   "source": [
    "The elements of `original` are independent of elements of `copy_`. The lists do not share any common resource."
   ]
  },
  {
   "cell_type": "code",
   "execution_count": 176,
   "metadata": {},
   "outputs": [
    {
     "name": "stdout",
     "output_type": "stream",
     "text": [
      "value \t\t id of orig \t\t id of copy\n",
      "[1, 2, 3]: \t 0x7fb475a43240 \t 0x7fb475aa9c40\n",
      "[4, 5, 6]: \t 0x7fb475a43280 \t 0x7fb475ab2d80\n",
      "[7, 8, 9]: \t 0x7fb475ab2980 \t 0x7fb475a94040\n"
     ]
    }
   ],
   "source": [
    "print(\"value \\t\\t id of orig \\t\\t id of copy\")\n",
    "for x, y in zip(original, copy_):\n",
    "    print(f\"{x}: \\t {hex(id(x))} \\t {hex(id(y))}\")"
   ]
  },
  {
   "cell_type": "markdown",
   "metadata": {},
   "source": [
    "## shallow copy"
   ]
  },
  {
   "cell_type": "code",
   "execution_count": 177,
   "metadata": {},
   "outputs": [],
   "source": [
    "original = [[1, 2, 3], [4, 5, 6], [7, 8, 9]]\n",
    "copy_ = copy.copy(original)"
   ]
  },
  {
   "cell_type": "markdown",
   "metadata": {},
   "source": [
    "In a shallow copy, the collection object is copied, and so `original` and `copy_` point to different memory addresses."
   ]
  },
  {
   "cell_type": "code",
   "execution_count": 178,
   "metadata": {},
   "outputs": [
    {
     "name": "stdout",
     "output_type": "stream",
     "text": [
      "0x7fb475ab2440\n",
      "0x7fb475a43680\n"
     ]
    }
   ],
   "source": [
    "print(hex(id(original)))\n",
    "print(hex(id(copy_)))"
   ]
  },
  {
   "cell_type": "markdown",
   "metadata": {},
   "source": [
    "But in a shallow copy, the child objets of the `copy_` are just pointers to the child objects of `original`. In other words, the child objects are not really copied."
   ]
  },
  {
   "cell_type": "code",
   "execution_count": 179,
   "metadata": {},
   "outputs": [
    {
     "name": "stdout",
     "output_type": "stream",
     "text": [
      "value \t\t id of orig \t\t id of copy\n",
      "[1, 2, 3]: \t 0x7fb475af62c0 \t 0x7fb475af62c0\n",
      "[4, 5, 6]: \t 0x7fb475a3e380 \t 0x7fb475a3e380\n",
      "[7, 8, 9]: \t 0x7fb475a434c0 \t 0x7fb475a434c0\n"
     ]
    }
   ],
   "source": [
    "print(\"value \\t\\t id of orig \\t\\t id of copy\")\n",
    "for x, y in zip(original, copy_):\n",
    "    print(f\"{x}: \\t {hex(id(x))} \\t {hex(id(y))}\")"
   ]
  },
  {
   "cell_type": "markdown",
   "metadata": {},
   "source": [
    "That leads to two things:\n",
    "\n",
    "* appending a new element to `copy_` will not affect `original`. The new element is in `copy_` but not in `original`\n",
    "* changing an element in `copy_` will change the same element in `original`, because the elements of `copy_` point to the elements of `original`."
   ]
  },
  {
   "cell_type": "code",
   "execution_count": 180,
   "metadata": {},
   "outputs": [
    {
     "name": "stdout",
     "output_type": "stream",
     "text": [
      "[[1, 2, 3], [4, 5, 6], [7, 8, 9], [10, 11, 12]]\n",
      "[[1, 2, 3], [4, 5, 6], [7, 8, 9]]\n"
     ]
    }
   ],
   "source": [
    "copy_.append([10, 11, 12])\n",
    "print(copy_)\n",
    "print(original)"
   ]
  },
  {
   "cell_type": "code",
   "execution_count": 181,
   "metadata": {},
   "outputs": [
    {
     "name": "stdout",
     "output_type": "stream",
     "text": [
      "[[1, 2], [4, 5, 6], [7, 8, 9], [10, 11, 12]]\n",
      "[[1, 2], [4, 5, 6], [7, 8, 9]]\n"
     ]
    }
   ],
   "source": [
    "copy_[0].pop()\n",
    "print(copy_)\n",
    "print(original)"
   ]
  },
  {
   "cell_type": "markdown",
   "metadata": {},
   "source": [
    "## Exceptions\n",
    "\n",
    "Binding two variables to the same `int` or `str` may result in the same memory address being used. That's a feature of Python to save resources. So despite creating a *deep copy*, the child objects of the original and the copy may still share the same memory address."
   ]
  },
  {
   "cell_type": "code",
   "execution_count": 182,
   "metadata": {},
   "outputs": [],
   "source": [
    "original = [1, 2, 3]\n",
    "copy_ = copy.deepcopy(original)"
   ]
  },
  {
   "cell_type": "code",
   "execution_count": 183,
   "metadata": {},
   "outputs": [
    {
     "name": "stdout",
     "output_type": "stream",
     "text": [
      "0x7fb475ab2a40\n",
      "0x7fb475a435c0\n"
     ]
    }
   ],
   "source": [
    "print(hex(id(original)))\n",
    "print(hex(id(copy_)))"
   ]
  },
  {
   "cell_type": "code",
   "execution_count": 184,
   "metadata": {},
   "outputs": [
    {
     "name": "stdout",
     "output_type": "stream",
     "text": [
      "value \t id of orig \t id of copy\n",
      "1: \t 0x958e20 \t 0x958e20\n",
      "2: \t 0x958e40 \t 0x958e40\n",
      "3: \t 0x958e60 \t 0x958e60\n"
     ]
    }
   ],
   "source": [
    "print(\"value \\t id of orig \\t id of copy\")\n",
    "for x, y in zip(original, copy_):\n",
    "    print(f\"{x}: \\t {hex(id(x))} \\t {hex(id(y))}\")"
   ]
  }
 ],
 "metadata": {
  "interpreter": {
   "hash": "916dbcbb3f70747c44a77c7bcd40155683ae19c65e1c03b4aa3499c5328201f1"
  },
  "kernelspec": {
   "display_name": "Python 3.8.10 64-bit",
   "language": "python",
   "name": "python3"
  },
  "language_info": {
   "codemirror_mode": {
    "name": "ipython",
    "version": 3
   },
   "file_extension": ".py",
   "mimetype": "text/x-python",
   "name": "python",
   "nbconvert_exporter": "python",
   "pygments_lexer": "ipython3",
   "version": "3.8.10"
  },
  "orig_nbformat": 4
 },
 "nbformat": 4,
 "nbformat_minor": 2
}
