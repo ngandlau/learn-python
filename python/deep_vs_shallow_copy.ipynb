{
 "cells": [
  {
   "cell_type": "code",
   "execution_count": 1,
   "metadata": {},
   "outputs": [],
   "source": [
    "import copy"
   ]
  },
  {
   "cell_type": "markdown",
   "metadata": {},
   "source": [
    "## No copy"
   ]
  },
  {
   "cell_type": "code",
   "execution_count": 2,
   "metadata": {},
   "outputs": [],
   "source": [
    "original = [[1, 2, 3], [4, 5, 6], [7, 8, 9]]\n",
    "copy_ = original"
   ]
  },
  {
   "cell_type": "code",
   "execution_count": 3,
   "metadata": {},
   "outputs": [
    {
     "name": "stdout",
     "output_type": "stream",
     "text": [
      "0x7f9ab5f7c5c0\n",
      "0x7f9ab5f7c5c0\n"
     ]
    }
   ],
   "source": [
    "print(hex(id(original)))\n",
    "print(hex(id(copy_)))"
   ]
  },
  {
   "cell_type": "code",
   "execution_count": 4,
   "metadata": {},
   "outputs": [
    {
     "name": "stdout",
     "output_type": "stream",
     "text": [
      "value \t\t id of orig \t\t id of copy\n",
      "[1, 2, 3]: \t 0x7f9acc3d4ec0 \t 0x7f9acc3d4ec0\n",
      "[4, 5, 6]: \t 0x7f9ab5f7d480 \t 0x7f9ab5f7d480\n",
      "[7, 8, 9]: \t 0x7f9acc300100 \t 0x7f9acc300100\n"
     ]
    }
   ],
   "source": [
    "print(\"value \\t\\t id of orig \\t\\t id of copy\")\n",
    "for x, y in zip(original, copy_):\n",
    "    print(f\"{x}: \\t {hex(id(x))} \\t {hex(id(y))}\")"
   ]
  },
  {
   "cell_type": "markdown",
   "metadata": {},
   "source": [
    "Changing `copy` changes `original`, because both point to the same object in memory."
   ]
  },
  {
   "cell_type": "code",
   "execution_count": 5,
   "metadata": {},
   "outputs": [
    {
     "name": "stdout",
     "output_type": "stream",
     "text": [
      "[[1, 2, 3], [4, 5, 6], [7, 8, 9], 5]\n",
      "[[1, 2, 3], [4, 5, 6], [7, 8, 9], 5]\n"
     ]
    }
   ],
   "source": [
    "copy_.append(5)\n",
    "\n",
    "print(copy_)\n",
    "print(original)"
   ]
  },
  {
   "cell_type": "markdown",
   "metadata": {},
   "source": [
    "## Deep Copy"
   ]
  },
  {
   "cell_type": "code",
   "execution_count": 174,
   "metadata": {},
   "outputs": [],
   "source": [
    "original = [[1, 2, 3], [4, 5, 6], [7, 8, 9]]\n",
    "copy_ = copy.deepcopy(original)"
   ]
  },
  {
   "cell_type": "markdown",
   "metadata": {},
   "source": [
    "`original` and `copy_` point to different objects in memory."
   ]
  },
  {
   "cell_type": "code",
   "execution_count": 175,
   "metadata": {},
   "outputs": [
    {
     "name": "stdout",
     "output_type": "stream",
     "text": [
      "0x7fb475aa6980\n",
      "0x7fb475aa9e80\n"
     ]
    }
   ],
   "source": [
    "print(hex(id(original)))\n",
    "print(hex(id(copy_)))"
   ]
  },
  {
   "cell_type": "markdown",
   "metadata": {},
   "source": [
    "The elements of `original` are independent of elements of `copy_`. The lists do not share any common resource."
   ]
  },
  {
   "cell_type": "code",
   "execution_count": 176,
   "metadata": {},
   "outputs": [
    {
     "name": "stdout",
     "output_type": "stream",
     "text": [
      "value \t\t id of orig \t\t id of copy\n",
      "[1, 2, 3]: \t 0x7fb475a43240 \t 0x7fb475aa9c40\n",
      "[4, 5, 6]: \t 0x7fb475a43280 \t 0x7fb475ab2d80\n",
      "[7, 8, 9]: \t 0x7fb475ab2980 \t 0x7fb475a94040\n"
     ]
    }
   ],
   "source": [
    "print(\"value \\t\\t id of orig \\t\\t id of copy\")\n",
    "for x, y in zip(original, copy_):\n",
    "    print(f\"{x}: \\t {hex(id(x))} \\t {hex(id(y))}\")"
   ]
  },
  {
   "cell_type": "markdown",
   "metadata": {},
   "source": [
    "## shallow copy"
   ]
  },
  {
   "cell_type": "code",
   "execution_count": 177,
   "metadata": {},
   "outputs": [],
   "source": [
    "original = [[1, 2, 3], [4, 5, 6], [7, 8, 9]]\n",
    "copy_ = copy.copy(original)"
   ]
  },
  {
   "cell_type": "markdown",
   "metadata": {},
   "source": [
    "In a shallow copy, the collection object is copied, and so `original` and `copy_` point to different memory addresses."
   ]
  },
  {
   "cell_type": "code",
   "execution_count": 178,
   "metadata": {},
   "outputs": [
    {
     "name": "stdout",
     "output_type": "stream",
     "text": [
      "0x7fb475ab2440\n",
      "0x7fb475a43680\n"
     ]
    }
   ],
   "source": [
    "print(hex(id(original)))\n",
    "print(hex(id(copy_)))"
   ]
  },
  {
   "cell_type": "markdown",
   "metadata": {},
   "source": [
    "But in a shallow copy, the child objets of the `copy_` are just pointers to the child objects of `original`. In other words, the child objects are not really copied."
   ]
  },
  {
   "cell_type": "code",
   "execution_count": 179,
   "metadata": {},
   "outputs": [
    {
     "name": "stdout",
     "output_type": "stream",
     "text": [
      "value \t\t id of orig \t\t id of copy\n",
      "[1, 2, 3]: \t 0x7fb475af62c0 \t 0x7fb475af62c0\n",
      "[4, 5, 6]: \t 0x7fb475a3e380 \t 0x7fb475a3e380\n",
      "[7, 8, 9]: \t 0x7fb475a434c0 \t 0x7fb475a434c0\n"
     ]
    }
   ],
   "source": [
    "print(\"value \\t\\t id of orig \\t\\t id of copy\")\n",
    "for x, y in zip(original, copy_):\n",
    "    print(f\"{x}: \\t {hex(id(x))} \\t {hex(id(y))}\")"
   ]
  },
  {
   "cell_type": "markdown",
   "metadata": {},
   "source": [
    "That leads to two things:\n",
    "\n",
    "* appending a new element to `copy_` will not affect `original`. The new element is in `copy_` but not in `original`\n",
    "* changing an element in `copy_` will change the same element in `original`, because the elements of `copy_` point to the elements of `original`."
   ]
  },
  {
   "cell_type": "code",
   "execution_count": 180,
   "metadata": {},
   "outputs": [
    {
     "name": "stdout",
     "output_type": "stream",
     "text": [
      "[[1, 2, 3], [4, 5, 6], [7, 8, 9], [10, 11, 12]]\n",
      "[[1, 2, 3], [4, 5, 6], [7, 8, 9]]\n"
     ]
    }
   ],
   "source": [
    "copy_.append([10, 11, 12])\n",
    "print(copy_)\n",
    "print(original)"
   ]
  },
  {
   "cell_type": "code",
   "execution_count": 181,
   "metadata": {},
   "outputs": [
    {
     "name": "stdout",
     "output_type": "stream",
     "text": [
      "[[1, 2], [4, 5, 6], [7, 8, 9], [10, 11, 12]]\n",
      "[[1, 2], [4, 5, 6], [7, 8, 9]]\n"
     ]
    }
   ],
   "source": [
    "copy_[0].pop()\n",
    "print(copy_)\n",
    "print(original)"
   ]
  },
  {
   "cell_type": "markdown",
   "metadata": {},
   "source": [
    "## Exceptions\n",
    "\n",
    "Binding two variables to the same `int` or `str` may result in the same memory address being used. That's a feature of Python to save resources. So despite creating a *deep copy*, the child objects of the original and the copy may still share the same memory address."
   ]
  },
  {
   "cell_type": "code",
   "execution_count": 182,
   "metadata": {},
   "outputs": [],
   "source": [
    "original = [1, 2, 3]\n",
    "copy_ = copy.deepcopy(original)"
   ]
  },
  {
   "cell_type": "code",
   "execution_count": 183,
   "metadata": {},
   "outputs": [
    {
     "name": "stdout",
     "output_type": "stream",
     "text": [
      "0x7fb475ab2a40\n",
      "0x7fb475a435c0\n"
     ]
    }
   ],
   "source": [
    "print(hex(id(original)))\n",
    "print(hex(id(copy_)))"
   ]
  },
  {
   "cell_type": "code",
   "execution_count": 184,
   "metadata": {},
   "outputs": [
    {
     "name": "stdout",
     "output_type": "stream",
     "text": [
      "value \t id of orig \t id of copy\n",
      "1: \t 0x958e20 \t 0x958e20\n",
      "2: \t 0x958e40 \t 0x958e40\n",
      "3: \t 0x958e60 \t 0x958e60\n"
     ]
    }
   ],
   "source": [
    "print(\"value \\t id of orig \\t id of copy\")\n",
    "for x, y in zip(original, copy_):\n",
    "    print(f\"{x}: \\t {hex(id(x))} \\t {hex(id(y))}\")"
   ]
  },
  {
   "cell_type": "markdown",
   "metadata": {},
   "source": [
    "## copying in pandas  "
   ]
  },
  {
   "cell_type": "code",
   "execution_count": 22,
   "metadata": {},
   "outputs": [],
   "source": [
    "import pandas as pd"
   ]
  },
  {
   "cell_type": "code",
   "execution_count": 23,
   "metadata": {},
   "outputs": [
    {
     "data": {
      "text/html": [
       "<div>\n",
       "<style scoped>\n",
       "    .dataframe tbody tr th:only-of-type {\n",
       "        vertical-align: middle;\n",
       "    }\n",
       "\n",
       "    .dataframe tbody tr th {\n",
       "        vertical-align: top;\n",
       "    }\n",
       "\n",
       "    .dataframe thead th {\n",
       "        text-align: right;\n",
       "    }\n",
       "</style>\n",
       "<table border=\"1\" class=\"dataframe\">\n",
       "  <thead>\n",
       "    <tr style=\"text-align: right;\">\n",
       "      <th></th>\n",
       "      <th>column_A</th>\n",
       "    </tr>\n",
       "  </thead>\n",
       "  <tbody>\n",
       "    <tr>\n",
       "      <th>0</th>\n",
       "      <td>1</td>\n",
       "    </tr>\n",
       "    <tr>\n",
       "      <th>1</th>\n",
       "      <td>2</td>\n",
       "    </tr>\n",
       "    <tr>\n",
       "      <th>2</th>\n",
       "      <td>3</td>\n",
       "    </tr>\n",
       "    <tr>\n",
       "      <th>3</th>\n",
       "      <td>4</td>\n",
       "    </tr>\n",
       "  </tbody>\n",
       "</table>\n",
       "</div>"
      ],
      "text/plain": [
       "   column_A\n",
       "0         1\n",
       "1         2\n",
       "2         3\n",
       "3         4"
      ]
     },
     "execution_count": 23,
     "metadata": {},
     "output_type": "execute_result"
    }
   ],
   "source": [
    "orig = pd.DataFrame({'column_A' : [1, 2, 3, 4]})\n",
    "orig"
   ]
  },
  {
   "cell_type": "code",
   "execution_count": 24,
   "metadata": {},
   "outputs": [
    {
     "data": {
      "text/html": [
       "<div>\n",
       "<style scoped>\n",
       "    .dataframe tbody tr th:only-of-type {\n",
       "        vertical-align: middle;\n",
       "    }\n",
       "\n",
       "    .dataframe tbody tr th {\n",
       "        vertical-align: top;\n",
       "    }\n",
       "\n",
       "    .dataframe thead th {\n",
       "        text-align: right;\n",
       "    }\n",
       "</style>\n",
       "<table border=\"1\" class=\"dataframe\">\n",
       "  <thead>\n",
       "    <tr style=\"text-align: right;\">\n",
       "      <th></th>\n",
       "      <th>column_A</th>\n",
       "    </tr>\n",
       "  </thead>\n",
       "  <tbody>\n",
       "    <tr>\n",
       "      <th>0</th>\n",
       "      <td>1</td>\n",
       "    </tr>\n",
       "    <tr>\n",
       "      <th>1</th>\n",
       "      <td>2</td>\n",
       "    </tr>\n",
       "    <tr>\n",
       "      <th>2</th>\n",
       "      <td>3</td>\n",
       "    </tr>\n",
       "    <tr>\n",
       "      <th>3</th>\n",
       "      <td>4</td>\n",
       "    </tr>\n",
       "  </tbody>\n",
       "</table>\n",
       "</div>"
      ],
      "text/plain": [
       "   column_A\n",
       "0         1\n",
       "1         2\n",
       "2         3\n",
       "3         4"
      ]
     },
     "execution_count": 24,
     "metadata": {},
     "output_type": "execute_result"
    }
   ],
   "source": [
    "# this doesn't create a *deep* copy, hence can lead to unexpected behavior\n",
    "not_a_safe_copy = orig\n",
    "not_a_safe_copy"
   ]
  },
  {
   "cell_type": "code",
   "execution_count": 25,
   "metadata": {},
   "outputs": [
    {
     "data": {
      "text/html": [
       "<div>\n",
       "<style scoped>\n",
       "    .dataframe tbody tr th:only-of-type {\n",
       "        vertical-align: middle;\n",
       "    }\n",
       "\n",
       "    .dataframe tbody tr th {\n",
       "        vertical-align: top;\n",
       "    }\n",
       "\n",
       "    .dataframe thead th {\n",
       "        text-align: right;\n",
       "    }\n",
       "</style>\n",
       "<table border=\"1\" class=\"dataframe\">\n",
       "  <thead>\n",
       "    <tr style=\"text-align: right;\">\n",
       "      <th></th>\n",
       "      <th>column_A</th>\n",
       "    </tr>\n",
       "  </thead>\n",
       "  <tbody>\n",
       "    <tr>\n",
       "      <th>0</th>\n",
       "      <td>1</td>\n",
       "    </tr>\n",
       "    <tr>\n",
       "      <th>1</th>\n",
       "      <td>4</td>\n",
       "    </tr>\n",
       "    <tr>\n",
       "      <th>2</th>\n",
       "      <td>9</td>\n",
       "    </tr>\n",
       "    <tr>\n",
       "      <th>3</th>\n",
       "      <td>16</td>\n",
       "    </tr>\n",
       "  </tbody>\n",
       "</table>\n",
       "</div>"
      ],
      "text/plain": [
       "   column_A\n",
       "0         1\n",
       "1         4\n",
       "2         9\n",
       "3        16"
      ]
     },
     "execution_count": 25,
     "metadata": {},
     "output_type": "execute_result"
    }
   ],
   "source": [
    "# change column_A in \"copied\" dataframe\n",
    "not_a_safe_copy['column_A'] = not_a_safe_copy['column_A'].map(lambda x: x**2)\n",
    "not_a_safe_copy"
   ]
  },
  {
   "cell_type": "code",
   "execution_count": 26,
   "metadata": {},
   "outputs": [
    {
     "data": {
      "text/html": [
       "<div>\n",
       "<style scoped>\n",
       "    .dataframe tbody tr th:only-of-type {\n",
       "        vertical-align: middle;\n",
       "    }\n",
       "\n",
       "    .dataframe tbody tr th {\n",
       "        vertical-align: top;\n",
       "    }\n",
       "\n",
       "    .dataframe thead th {\n",
       "        text-align: right;\n",
       "    }\n",
       "</style>\n",
       "<table border=\"1\" class=\"dataframe\">\n",
       "  <thead>\n",
       "    <tr style=\"text-align: right;\">\n",
       "      <th></th>\n",
       "      <th>column_A</th>\n",
       "    </tr>\n",
       "  </thead>\n",
       "  <tbody>\n",
       "    <tr>\n",
       "      <th>0</th>\n",
       "      <td>1</td>\n",
       "    </tr>\n",
       "    <tr>\n",
       "      <th>1</th>\n",
       "      <td>4</td>\n",
       "    </tr>\n",
       "    <tr>\n",
       "      <th>2</th>\n",
       "      <td>9</td>\n",
       "    </tr>\n",
       "    <tr>\n",
       "      <th>3</th>\n",
       "      <td>16</td>\n",
       "    </tr>\n",
       "  </tbody>\n",
       "</table>\n",
       "</div>"
      ],
      "text/plain": [
       "   column_A\n",
       "0         1\n",
       "1         4\n",
       "2         9\n",
       "3        16"
      ]
     },
     "execution_count": 26,
     "metadata": {},
     "output_type": "execute_result"
    }
   ],
   "source": [
    "# but column_A in original is also changed!\n",
    "orig"
   ]
  }
 ],
 "metadata": {
  "kernelspec": {
   "display_name": "Python 3.10.5 ('learning': venv)",
   "language": "python",
   "name": "python3"
  },
  "language_info": {
   "codemirror_mode": {
    "name": "ipython",
    "version": 3
   },
   "file_extension": ".py",
   "mimetype": "text/x-python",
   "name": "python",
   "nbconvert_exporter": "python",
   "pygments_lexer": "ipython3",
   "version": "3.10.5 (main, Jul 20 2022, 15:16:58) [GCC 11.2.0]"
  },
  "orig_nbformat": 4,
  "vscode": {
   "interpreter": {
    "hash": "b670abb3a23ea06bbf564f8decfece70d87a6c1ad86d035cc5658e7795de025d"
   }
  }
 },
 "nbformat": 4,
 "nbformat_minor": 2
}
