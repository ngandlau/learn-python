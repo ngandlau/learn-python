{
 "cells": [
  {
   "attachments": {},
   "cell_type": "markdown",
   "metadata": {},
   "source": [
    "## decorators"
   ]
  },
  {
   "cell_type": "code",
   "execution_count": 7,
   "metadata": {},
   "outputs": [],
   "source": [
    "class C:\n",
    "    def meth(self): return 42\n",
    "\n",
    "    def func(): return 42\n",
    "    func = staticmethod(func)"
   ]
  },
  {
   "cell_type": "code",
   "execution_count": 8,
   "metadata": {},
   "outputs": [],
   "source": [
    "class C2:\n",
    "    def meth(self): return 42\n",
    "\n",
    "    @staticmethod\n",
    "    def func(): return 42"
   ]
  },
  {
   "cell_type": "code",
   "execution_count": 5,
   "metadata": {},
   "outputs": [
    {
     "data": {
      "text/plain": [
       "42"
      ]
     },
     "execution_count": 5,
     "metadata": {},
     "output_type": "execute_result"
    }
   ],
   "source": [
    "c2 = C2()\n",
    "c2.func()"
   ]
  },
  {
   "attachments": {},
   "cell_type": "markdown",
   "metadata": {},
   "source": [
    "## closures"
   ]
  },
  {
   "cell_type": "code",
   "execution_count": 9,
   "metadata": {},
   "outputs": [],
   "source": [
    "def outer(arg1):\n",
    "    def inner(arg2):\n",
    "        return arg1 + arg2\n",
    "    return inner"
   ]
  },
  {
   "cell_type": "code",
   "execution_count": 10,
   "metadata": {},
   "outputs": [
    {
     "data": {
      "text/plain": [
       "14"
      ]
     },
     "execution_count": 10,
     "metadata": {},
     "output_type": "execute_result"
    }
   ],
   "source": [
    "i10 = outer(10)\n",
    "i10(4)"
   ]
  },
  {
   "cell_type": "code",
   "execution_count": 11,
   "metadata": {},
   "outputs": [
    {
     "data": {
      "text/plain": [
       "<function __main__.outer.<locals>.inner(arg2)>"
      ]
     },
     "execution_count": 11,
     "metadata": {},
     "output_type": "execute_result"
    }
   ],
   "source": [
    "i10"
   ]
  },
  {
   "cell_type": "code",
   "execution_count": 15,
   "metadata": {},
   "outputs": [
    {
     "data": {
      "text/plain": [
       "10"
      ]
     },
     "execution_count": 15,
     "metadata": {},
     "output_type": "execute_result"
    }
   ],
   "source": [
    "i10.__closure__[0].cell_contents"
   ]
  },
  {
   "attachments": {},
   "cell_type": "markdown",
   "metadata": {},
   "source": [
    "## simple decorator"
   ]
  },
  {
   "cell_type": "code",
   "execution_count": 16,
   "metadata": {},
   "outputs": [
    {
     "name": "stdout",
     "output_type": "stream",
     "text": [
      "hello\n"
     ]
    }
   ],
   "source": [
    "# broken decorator, as this function replaces the old function. and returns none.\n",
    "def hello(func): print('hello') \n",
    "\n",
    "# decorator is run at \"init time\", ie when function definition is loaded into program.\n",
    "@hello\n",
    "def add(a, b): return a + b"
   ]
  },
  {
   "cell_type": "code",
   "execution_count": 18,
   "metadata": {},
   "outputs": [
    {
     "ename": "TypeError",
     "evalue": "'NoneType' object is not callable",
     "output_type": "error",
     "traceback": [
      "\u001b[0;31m---------------------------------------------------------------------------\u001b[0m",
      "\u001b[0;31mTypeError\u001b[0m                                 Traceback (most recent call last)",
      "\u001b[1;32m/home/nilsgandlau/projects/learning/python/pycon/00_decorators.ipynb Cell 12\u001b[0m in \u001b[0;36m<cell line: 1>\u001b[0;34m()\u001b[0m\n\u001b[0;32m----> <a href='vscode-notebook-cell://wsl%2Bubuntu-22.04/home/nilsgandlau/projects/learning/python/pycon/00_decorators.ipynb#X22sdnNjb2RlLXJlbW90ZQ%3D%3D?line=0'>1</a>\u001b[0m add(\u001b[39m1\u001b[39;49m, \u001b[39m2\u001b[39;49m)\n",
      "\u001b[0;31mTypeError\u001b[0m: 'NoneType' object is not callable"
     ]
    }
   ],
   "source": [
    "add(1, 2)"
   ]
  },
  {
   "cell_type": "code",
   "execution_count": 21,
   "metadata": {},
   "outputs": [],
   "source": [
    "def hello(func):\n",
    "    def wrapper(*args, **kwargs):       # packing of positional args into a tuple `args`, and packing of named args into dict `kwargs`\n",
    "        print('hello')\n",
    "        return func(*args, **kwargs)    # unpacking of tuple `args` and dictionary `kwargs`\n",
    "    return wrapper\n",
    "\n",
    "# note this doesn't print hello!\n",
    "@hello\n",
    "def add(a, b): return a + b"
   ]
  },
  {
   "cell_type": "code",
   "execution_count": 22,
   "metadata": {},
   "outputs": [
    {
     "name": "stdout",
     "output_type": "stream",
     "text": [
      "hello\n"
     ]
    },
    {
     "data": {
      "text/plain": [
       "3"
      ]
     },
     "execution_count": 22,
     "metadata": {},
     "output_type": "execute_result"
    }
   ],
   "source": [
    "add(1, 2)"
   ]
  },
  {
   "attachments": {},
   "cell_type": "markdown",
   "metadata": {},
   "source": [
    "---\n",
    "\n",
    "### note: *args and **kwargs"
   ]
  },
  {
   "cell_type": "code",
   "execution_count": 24,
   "metadata": {},
   "outputs": [
    {
     "name": "stdout",
     "output_type": "stream",
     "text": [
      "()\n",
      "(1,)\n",
      "(1, 'string')\n"
     ]
    }
   ],
   "source": [
    "# *args stores positional arguments in a tuple (to keep ordering)\n",
    "def func(*args): return args\n",
    "\n",
    "print(func())\n",
    "print(func(1))\n",
    "print(func(1, \"string\"))"
   ]
  },
  {
   "cell_type": "code",
   "execution_count": 28,
   "metadata": {},
   "outputs": [
    {
     "name": "stdout",
     "output_type": "stream",
     "text": [
      "{'a': 1}\n",
      "{'a': 1, 'b': 'string'}\n"
     ]
    }
   ],
   "source": [
    "# **kwargs catches all keyword arguments\n",
    "def func(**kwargs): return kwargs\n",
    "print(func(a=1))\n",
    "print(func(a=1, b=\"string\"))"
   ]
  },
  {
   "cell_type": "code",
   "execution_count": 29,
   "metadata": {},
   "outputs": [
    {
     "name": "stdout",
     "output_type": "stream",
     "text": [
      "[1, 2, 3]\n",
      "1 2 3\n",
      "1 2 3\n"
     ]
    }
   ],
   "source": [
    "L = [1, 2, 3]\n",
    "print(L)\n",
    "print(L[0], L[1], L[2])\n",
    "print(*L)   # unpacking"
   ]
  },
  {
   "attachments": {},
   "cell_type": "markdown",
   "metadata": {},
   "source": [
    "---"
   ]
  },
  {
   "cell_type": "code",
   "execution_count": 32,
   "metadata": {},
   "outputs": [
    {
     "name": "stdout",
     "output_type": "stream",
     "text": [
      "add\n",
      "adds two objects\n"
     ]
    }
   ],
   "source": [
    "def add(a, b):\n",
    "    \"\"\"adds two objects\"\"\"\n",
    "    return a + b\n",
    "\n",
    "print(add.__name__)\n",
    "print(add.__doc__)"
   ]
  },
  {
   "cell_type": "code",
   "execution_count": 33,
   "metadata": {},
   "outputs": [
    {
     "name": "stdout",
     "output_type": "stream",
     "text": [
      "wrapper\n",
      "None\n"
     ]
    }
   ],
   "source": [
    "# you're fucked. if you use this decorator 10 times, you have 10 functions\n",
    "# in your namespace called \"wrapper\". the solution is to use @wraps from\n",
    "# functools!\n",
    "@hello\n",
    "def add(a, b):\n",
    "    \"\"\"adds two objects\"\"\"\n",
    "    return a + b\n",
    "\n",
    "print(add.__name__)\n",
    "print(add.__doc__)"
   ]
  },
  {
   "cell_type": "code",
   "execution_count": 40,
   "metadata": {},
   "outputs": [
    {
     "name": "stdout",
     "output_type": "stream",
     "text": [
      "add\n",
      "adds two objects\n"
     ]
    }
   ],
   "source": [
    "from functools import wraps \n",
    "\n",
    "def hello(func):\n",
    "\n",
    "    @wraps(func) # this ensures the add function defined below still has its name and docstring. comment this line out to see the difference in what's printed\n",
    "    def wrapper(*args, **kwargs):\n",
    "        # -------------------------------------\n",
    "        # this part is added functionality\n",
    "        print('hello')\n",
    "        # -------------------------------------\n",
    "\n",
    "        # -------------------------------------\n",
    "        # this part executes the original function\n",
    "        return func(*args, **kwargs)\n",
    "        # -------------------------------------\n",
    "    return wrapper\n",
    "\n",
    "@hello\n",
    "def add(a, b):\n",
    "    \"\"\"adds two objects\"\"\"\n",
    "    return a + b\n",
    "\n",
    "print(add.__name__)\n",
    "print(add.__doc__)"
   ]
  },
  {
   "attachments": {},
   "cell_type": "markdown",
   "metadata": {},
   "source": [
    "## caching"
   ]
  },
  {
   "cell_type": "code",
   "execution_count": 44,
   "metadata": {},
   "outputs": [],
   "source": [
    "\"\"\"Caching results with a decorator.\n",
    "\"\"\"\n",
    "\n",
    "import functools\n",
    "import pickle\n",
    "\n",
    "\n",
    "def cached(func):\n",
    "    \"\"\"Decorator that caches.\"\"\"\n",
    "    cache = {}\n",
    "\n",
    "    @functools.wraps(func)\n",
    "    def _cached(*args, **kwargs):\n",
    "        \"\"\"Takes the arguments.\n",
    "        \"\"\"\n",
    "        # dicts cannot be use as dict keys\n",
    "        # dumps are strings and can be used\n",
    "        key = pickle.dumps((args, kwargs))\n",
    "        if key not in cache:\n",
    "            cache[key] = func(*args, **kwargs)\n",
    "        return cache[key]\n",
    "    return _cached\n"
   ]
  },
  {
   "cell_type": "code",
   "execution_count": 46,
   "metadata": {},
   "outputs": [],
   "source": [
    "@cached\n",
    "def add(a, b):\n",
    "    print('adding...')\n",
    "    return a+b "
   ]
  },
  {
   "cell_type": "code",
   "execution_count": 47,
   "metadata": {},
   "outputs": [
    {
     "name": "stdout",
     "output_type": "stream",
     "text": [
      "adding...\n"
     ]
    },
    {
     "data": {
      "text/plain": [
       "7"
      ]
     },
     "execution_count": 47,
     "metadata": {},
     "output_type": "execute_result"
    }
   ],
   "source": [
    "add(3, 4) # calculates 3+4"
   ]
  },
  {
   "cell_type": "code",
   "execution_count": 48,
   "metadata": {},
   "outputs": [
    {
     "data": {
      "text/plain": [
       "7"
      ]
     },
     "execution_count": 48,
     "metadata": {},
     "output_type": "execute_result"
    }
   ],
   "source": [
    "add(3, 4) # uses stored result"
   ]
  },
  {
   "cell_type": "code",
   "execution_count": 49,
   "metadata": {},
   "outputs": [
    {
     "data": {
      "text/plain": [
       "(<cell at 0x7f5ba1e3bd60: dict object at 0x7f5ba1e29100>,\n",
       " <cell at 0x7f5ba1e583a0: function object at 0x7f5ba2161120>)"
      ]
     },
     "execution_count": 49,
     "metadata": {},
     "output_type": "execute_result"
    }
   ],
   "source": [
    "add.__closure__"
   ]
  },
  {
   "cell_type": "code",
   "execution_count": 52,
   "metadata": {},
   "outputs": [
    {
     "data": {
      "text/plain": [
       "{b'\\x80\\x04\\x95\\x0b\\x00\\x00\\x00\\x00\\x00\\x00\\x00K\\x03K\\x04\\x86\\x94}\\x94\\x86\\x94.': 7}"
      ]
     },
     "execution_count": 52,
     "metadata": {},
     "output_type": "execute_result"
    }
   ],
   "source": [
    "# results are stored in the closure.\n",
    "# here are the results stored\n",
    "# each function that gets decorated with @cached will have its own closure\n",
    "add.__closure__[0].cell_contents "
   ]
  },
  {
   "cell_type": "code",
   "execution_count": 53,
   "metadata": {},
   "outputs": [],
   "source": [
    "@cached\n",
    "def substract(a, b):\n",
    "    print(\"substracting...\")\n",
    "    return a-b"
   ]
  },
  {
   "cell_type": "code",
   "execution_count": 54,
   "metadata": {},
   "outputs": [
    {
     "name": "stdout",
     "output_type": "stream",
     "text": [
      "substracting...\n"
     ]
    },
    {
     "data": {
      "text/plain": [
       "1"
      ]
     },
     "execution_count": 54,
     "metadata": {},
     "output_type": "execute_result"
    }
   ],
   "source": [
    "substract(2, 1)"
   ]
  },
  {
   "cell_type": "code",
   "execution_count": 55,
   "metadata": {},
   "outputs": [
    {
     "data": {
      "text/plain": [
       "1"
      ]
     },
     "execution_count": 55,
     "metadata": {},
     "output_type": "execute_result"
    }
   ],
   "source": [
    "substract(2, 1)"
   ]
  },
  {
   "cell_type": "code",
   "execution_count": 56,
   "metadata": {},
   "outputs": [
    {
     "data": {
      "text/plain": [
       "{b'\\x80\\x04\\x95\\x0b\\x00\\x00\\x00\\x00\\x00\\x00\\x00K\\x02K\\x01\\x86\\x94}\\x94\\x86\\x94.': 1}"
      ]
     },
     "execution_count": 56,
     "metadata": {},
     "output_type": "execute_result"
    }
   ],
   "source": [
    "substract.__closure__[0].cell_contents"
   ]
  },
  {
   "attachments": {},
   "cell_type": "markdown",
   "metadata": {},
   "source": [
    "## logging"
   ]
  },
  {
   "cell_type": "code",
   "execution_count": 62,
   "metadata": {},
   "outputs": [],
   "source": [
    "\"\"\"Helper to switch on and off logging of decorated functions.\"\"\"\n",
    "# avoids to have lots of \"if logging...\"-statements in your code.\n",
    "\n",
    "import functools\n",
    "\n",
    "LOGGING = False\n",
    "\n",
    "\n",
    "def logged(func):\n",
    "    \"\"\"Decorator for logging.\n",
    "    \"\"\"\n",
    "\n",
    "    @functools.wraps(func)\n",
    "    def _logged(*args, **kwargs):   # _logging is a *convention*. because the @wraps replaces the function name anyway. \n",
    "        \"\"\"Takes the arguments\n",
    "        \"\"\"\n",
    "        if LOGGING:\n",
    "            print('logged') # do proper logging here\n",
    "        return func(*args, **kwargs)\n",
    "    return _logged\n"
   ]
  },
  {
   "cell_type": "code",
   "execution_count": 60,
   "metadata": {},
   "outputs": [
    {
     "data": {
      "text/plain": [
       "3"
      ]
     },
     "execution_count": 60,
     "metadata": {},
     "output_type": "execute_result"
    }
   ],
   "source": [
    "@logged\n",
    "def add(a, b): return a + b\n",
    "\n",
    "add(1, 2)"
   ]
  },
  {
   "cell_type": "code",
   "execution_count": 61,
   "metadata": {},
   "outputs": [
    {
     "name": "stdout",
     "output_type": "stream",
     "text": [
      "logged\n"
     ]
    },
    {
     "data": {
      "text/plain": [
       "3"
      ]
     },
     "execution_count": 61,
     "metadata": {},
     "output_type": "execute_result"
    }
   ],
   "source": [
    "LOGGING = True \n",
    "add(1, 2)"
   ]
  },
  {
   "cell_type": "code",
   "execution_count": 63,
   "metadata": {},
   "outputs": [
    {
     "data": {
      "text/plain": [
       "False"
      ]
     },
     "execution_count": 63,
     "metadata": {},
     "output_type": "execute_result"
    }
   ],
   "source": [
    "add is add.__wrapped__"
   ]
  },
  {
   "cell_type": "code",
   "execution_count": 64,
   "metadata": {},
   "outputs": [
    {
     "data": {
      "text/plain": [
       "False"
      ]
     },
     "execution_count": 64,
     "metadata": {},
     "output_type": "execute_result"
    }
   ],
   "source": [
    "add == add.__wrapped__"
   ]
  },
  {
   "attachments": {},
   "cell_type": "markdown",
   "metadata": {},
   "source": [
    "How to decorate all functions?\n",
    "\n",
    "* Put all your functions into a class.\n",
    "* Then give your class a decorator that decorators all the methods."
   ]
  },
  {
   "attachments": {},
   "cell_type": "markdown",
   "metadata": {},
   "source": [
    "# advanced"
   ]
  },
  {
   "cell_type": "markdown",
   "metadata": {},
   "source": [
    "To add functionality, like passing in an argument to a decorator, you just add another layer on top.\n",
    "\n",
    "In other words, you wrap your wrapper with another ... wrapper function `say`."
   ]
  },
  {
   "cell_type": "code",
   "execution_count": 68,
   "metadata": {},
   "outputs": [],
   "source": [
    "from functools import wraps\n",
    "\n",
    "def say(text):\n",
    "    def _say(func):\n",
    "        @wraps(func)\n",
    "        def __say(*args, **kwargs):       \n",
    "            print(text)\n",
    "            return func(*args, **kwargs) \n",
    "        return __say\n",
    "    return _say"
   ]
  },
  {
   "cell_type": "code",
   "execution_count": 69,
   "metadata": {},
   "outputs": [
    {
     "name": "stdout",
     "output_type": "stream",
     "text": [
      "hello\n"
     ]
    },
    {
     "data": {
      "text/plain": [
       "3"
      ]
     },
     "execution_count": 69,
     "metadata": {},
     "output_type": "execute_result"
    }
   ],
   "source": [
    "@say('hello')\n",
    "def add(a, b): return a+b\n",
    "\n",
    "add(1, 2)"
   ]
  },
  {
   "cell_type": "code",
   "execution_count": 70,
   "metadata": {},
   "outputs": [
    {
     "name": "stdout",
     "output_type": "stream",
     "text": [
      "hello\n",
      "hello\n"
     ]
    },
    {
     "data": {
      "text/plain": [
       "3"
      ]
     },
     "execution_count": 70,
     "metadata": {},
     "output_type": "execute_result"
    }
   ],
   "source": [
    "# equivalent to\n",
    "add = say('hello')(add)\n",
    "add(1, 2)"
   ]
  },
  {
   "cell_type": "code",
   "execution_count": 73,
   "metadata": {},
   "outputs": [
    {
     "name": "stdout",
     "output_type": "stream",
     "text": [
      "hello\n",
      "goodbye\n"
     ]
    },
    {
     "data": {
      "text/plain": [
       "3"
      ]
     },
     "execution_count": 73,
     "metadata": {},
     "output_type": "execute_result"
    }
   ],
   "source": [
    "# as many decorators as you like. but make sure you write your decorators\n",
    "# such that ordering of possibly many decorators does not matter.\n",
    "@say('hello')\n",
    "@say('goodbye')\n",
    "def add(a, b): return a+b\n",
    "\n",
    "add(1, 2)"
   ]
  },
  {
   "attachments": {},
   "cell_type": "markdown",
   "metadata": {},
   "source": [
    "## callable"
   ]
  },
  {
   "attachments": {},
   "cell_type": "markdown",
   "metadata": {},
   "source": [
    "* "
   ]
  },
  {
   "cell_type": "code",
   "execution_count": 78,
   "metadata": {},
   "outputs": [
    {
     "data": {
      "text/plain": [
       "3"
      ]
     },
     "execution_count": 78,
     "metadata": {},
     "output_type": "execute_result"
    }
   ],
   "source": [
    "sum([1, 2])"
   ]
  },
  {
   "cell_type": "code",
   "execution_count": 79,
   "metadata": {},
   "outputs": [
    {
     "data": {
      "text/plain": [
       "1"
      ]
     },
     "execution_count": 79,
     "metadata": {},
     "output_type": "execute_result"
    }
   ],
   "source": [
    "int(1.0)"
   ]
  },
  {
   "cell_type": "code",
   "execution_count": 75,
   "metadata": {},
   "outputs": [
    {
     "data": {
      "text/plain": [
       "builtin_function_or_method"
      ]
     },
     "execution_count": 75,
     "metadata": {},
     "output_type": "execute_result"
    }
   ],
   "source": [
    "type(sum)"
   ]
  },
  {
   "cell_type": "code",
   "execution_count": 76,
   "metadata": {},
   "outputs": [
    {
     "data": {
      "text/plain": [
       "type"
      ]
     },
     "execution_count": 76,
     "metadata": {},
     "output_type": "execute_result"
    }
   ],
   "source": [
    "type(int)"
   ]
  },
  {
   "cell_type": "code",
   "execution_count": 85,
   "metadata": {},
   "outputs": [
    {
     "data": {
      "text/plain": [
       "True"
      ]
     },
     "execution_count": 85,
     "metadata": {},
     "output_type": "execute_result"
    }
   ],
   "source": [
    "callable(sum)"
   ]
  },
  {
   "cell_type": "code",
   "execution_count": 86,
   "metadata": {},
   "outputs": [
    {
     "data": {
      "text/plain": [
       "True"
      ]
     },
     "execution_count": 86,
     "metadata": {},
     "output_type": "execute_result"
    }
   ],
   "source": [
    "callable(int)"
   ]
  },
  {
   "cell_type": "code",
   "execution_count": 91,
   "metadata": {},
   "outputs": [],
   "source": [
    "# you can make a class, like int, callable!\n",
    "\n",
    "class CallCounter:\n",
    "    def __init__(self): self.count = 0\n",
    "    def __call__(self): self.count += 1"
   ]
  },
  {
   "cell_type": "code",
   "execution_count": 96,
   "metadata": {},
   "outputs": [
    {
     "data": {
      "text/plain": [
       "0"
      ]
     },
     "execution_count": 96,
     "metadata": {},
     "output_type": "execute_result"
    }
   ],
   "source": [
    "c = CallCounter()\n",
    "c.count"
   ]
  },
  {
   "cell_type": "code",
   "execution_count": 97,
   "metadata": {},
   "outputs": [
    {
     "data": {
      "text/plain": [
       "1"
      ]
     },
     "execution_count": 97,
     "metadata": {},
     "output_type": "execute_result"
    }
   ],
   "source": [
    "c() # the class is now callable. such as the class \"int\" is callable, ie you can call int(5.0)\n",
    "c.count"
   ]
  },
  {
   "attachments": {},
   "cell_type": "markdown",
   "metadata": {},
   "source": [
    "A class that is a decorator. A different way to make a decorator. It is less \"deep\". It removes the \"outest\" layer from our previously written decorator-function `say(text): ...`\n",
    "\n",
    "The advantage is that you could gather multiple decorators in a single class. Or have the decorator in the `__call__` call other decorators defined in the same class. Can make the code more organized."
   ]
  },
  {
   "cell_type": "code",
   "execution_count": 101,
   "metadata": {},
   "outputs": [],
   "source": [
    "from functools import wraps\n",
    "\n",
    "# def say(text):\n",
    "#     def _say(func):\n",
    "#         @wraps(func)\n",
    "#         def __say(*args, **kwargs):       \n",
    "#             print(text)\n",
    "#             return func(*args, **kwargs) \n",
    "#         return __say\n",
    "#     return _say\n",
    "\n",
    "class Say:   # this will be a decorator. you could write it in lowerclass, despite it being a class.\n",
    "    def __init__(self, text): self.text = text\n",
    "    def __call__(self, func):\n",
    "        @wraps(func)\n",
    "        def _say(*args, **kwargs):       \n",
    "            print(self.text)\n",
    "            return func(*args, **kwargs) \n",
    "        return _say"
   ]
  },
  {
   "cell_type": "code",
   "execution_count": 102,
   "metadata": {},
   "outputs": [
    {
     "name": "stdout",
     "output_type": "stream",
     "text": [
      "hello\n"
     ]
    },
    {
     "data": {
      "text/plain": [
       "9"
      ]
     },
     "execution_count": 102,
     "metadata": {},
     "output_type": "execute_result"
    }
   ],
   "source": [
    "@Say('hello')\n",
    "def add(a, b): return a + b\n",
    "add(4, 5)"
   ]
  },
  {
   "cell_type": "code",
   "execution_count": 104,
   "metadata": {},
   "outputs": [
    {
     "name": "stdout",
     "output_type": "stream",
     "text": [
      "text\n"
     ]
    },
    {
     "data": {
      "text/plain": [
       "9"
      ]
     },
     "execution_count": 104,
     "metadata": {},
     "output_type": "execute_result"
    }
   ],
   "source": [
    "def add(a, b): return a + b \n",
    "add = Say('text')(add)\n",
    "add(4, 5)"
   ]
  },
  {
   "cell_type": "markdown",
   "metadata": {},
   "source": [
    "Note: You can take the role as a compiler and e.g. make checks before a function is run. This is because decorators are executed at **Import Time**."
   ]
  },
  {
   "attachments": {},
   "cell_type": "markdown",
   "metadata": {},
   "source": [
    "## Use Cases"
   ]
  },
  {
   "attachments": {},
   "cell_type": "markdown",
   "metadata": {},
   "source": [
    "### Use Case: Argument Tracking"
   ]
  },
  {
   "cell_type": "code",
   "execution_count": 112,
   "metadata": {},
   "outputs": [],
   "source": [
    "\"\"\"Check function arguments for given type.\"\"\"\n",
    "\n",
    "import functools\n",
    "\n",
    "\n",
    "def check(*argtypes):\n",
    "    \"\"\"Function argument type checker.\"\"\"\n",
    "\n",
    "    def _check(func):\n",
    "        \"\"\"Takes the function.\"\"\"\n",
    "\n",
    "        @functools.wraps(func)\n",
    "        def __check(*args):\n",
    "            \"\"\"Takes the arguments\"\"\"\n",
    "            # argtypes are the argument types I *want* to have\n",
    "            # args are are the argument type I *have*\n",
    "            if len(args) != len(argtypes):\n",
    "                msg = f'Expected {len(argtypes)} but got {len(args)} arguments'\n",
    "                raise TypeError(msg)\n",
    "            for arg, argtype in zip(args, argtypes):\n",
    "                if not isinstance(arg, argtype):\n",
    "                    msg = f'Expected {argtypes} but got '\n",
    "                    msg += f'{tuple(type(arg) for arg in args)}'\n",
    "                    raise TypeError(msg)\n",
    "            return func(*args)\n",
    "        return __check\n",
    "    return _check"
   ]
  },
  {
   "cell_type": "code",
   "execution_count": 115,
   "metadata": {},
   "outputs": [],
   "source": [
    "@check(float, float)\n",
    "def add(a, b): return a + b"
   ]
  },
  {
   "cell_type": "code",
   "execution_count": 117,
   "metadata": {},
   "outputs": [
    {
     "ename": "TypeError",
     "evalue": "Expected (<class 'float'>, <class 'float'>) but got (<class 'int'>, <class 'int'>)",
     "output_type": "error",
     "traceback": [
      "\u001b[0;31m---------------------------------------------------------------------------\u001b[0m",
      "\u001b[0;31mTypeError\u001b[0m                                 Traceback (most recent call last)",
      "\u001b[1;32m/home/nilsgandlau/projects/learning/python/pycon/00_decorators.ipynb Cell 67\u001b[0m in \u001b[0;36m<cell line: 1>\u001b[0;34m()\u001b[0m\n\u001b[0;32m----> <a href='vscode-notebook-cell://wsl%2Bubuntu-22.04/home/nilsgandlau/projects/learning/python/pycon/00_decorators.ipynb#Y154sdnNjb2RlLXJlbW90ZQ%3D%3D?line=0'>1</a>\u001b[0m add(\u001b[39m1\u001b[39;49m, \u001b[39m2\u001b[39;49m)\n",
      "\u001b[1;32m/home/nilsgandlau/projects/learning/python/pycon/00_decorators.ipynb Cell 67\u001b[0m in \u001b[0;36mcheck.<locals>._check.<locals>.__check\u001b[0;34m(*args)\u001b[0m\n\u001b[1;32m     <a href='vscode-notebook-cell://wsl%2Bubuntu-22.04/home/nilsgandlau/projects/learning/python/pycon/00_decorators.ipynb#Y154sdnNjb2RlLXJlbW90ZQ%3D%3D?line=21'>22</a>\u001b[0m         msg \u001b[39m=\u001b[39m \u001b[39mf\u001b[39m\u001b[39m'\u001b[39m\u001b[39mExpected \u001b[39m\u001b[39m{\u001b[39;00margtypes\u001b[39m}\u001b[39;00m\u001b[39m but got \u001b[39m\u001b[39m'\u001b[39m\n\u001b[1;32m     <a href='vscode-notebook-cell://wsl%2Bubuntu-22.04/home/nilsgandlau/projects/learning/python/pycon/00_decorators.ipynb#Y154sdnNjb2RlLXJlbW90ZQ%3D%3D?line=22'>23</a>\u001b[0m         msg \u001b[39m+\u001b[39m\u001b[39m=\u001b[39m \u001b[39mf\u001b[39m\u001b[39m'\u001b[39m\u001b[39m{\u001b[39;00m\u001b[39mtuple\u001b[39m(\u001b[39mtype\u001b[39m(arg) \u001b[39mfor\u001b[39;00m arg \u001b[39min\u001b[39;00m args)\u001b[39m}\u001b[39;00m\u001b[39m'\u001b[39m\n\u001b[0;32m---> <a href='vscode-notebook-cell://wsl%2Bubuntu-22.04/home/nilsgandlau/projects/learning/python/pycon/00_decorators.ipynb#Y154sdnNjb2RlLXJlbW90ZQ%3D%3D?line=23'>24</a>\u001b[0m         \u001b[39mraise\u001b[39;00m \u001b[39mTypeError\u001b[39;00m(msg)\n\u001b[1;32m     <a href='vscode-notebook-cell://wsl%2Bubuntu-22.04/home/nilsgandlau/projects/learning/python/pycon/00_decorators.ipynb#Y154sdnNjb2RlLXJlbW90ZQ%3D%3D?line=24'>25</a>\u001b[0m \u001b[39mreturn\u001b[39;00m func(\u001b[39m*\u001b[39margs)\n",
      "\u001b[0;31mTypeError\u001b[0m: Expected (<class 'float'>, <class 'float'>) but got (<class 'int'>, <class 'int'>)"
     ]
    }
   ],
   "source": [
    "add(1, 2)"
   ]
  },
  {
   "cell_type": "code",
   "execution_count": 116,
   "metadata": {},
   "outputs": [
    {
     "data": {
      "text/plain": [
       "3.0"
      ]
     },
     "execution_count": 116,
     "metadata": {},
     "output_type": "execute_result"
    }
   ],
   "source": [
    "add(1.0, 2.0)"
   ]
  },
  {
   "attachments": {},
   "cell_type": "markdown",
   "metadata": {},
   "source": [
    "### Use Case: registering"
   ]
  },
  {
   "cell_type": "code",
   "execution_count": 151,
   "metadata": {},
   "outputs": [],
   "source": [
    "\"\"\"A function registry.\n",
    "\"\"\"\n",
    "\n",
    "import functools\n",
    "\n",
    "registry = {}\n",
    "\n",
    "\n",
    "def register_at_call(name):\n",
    "    \"\"\"Register the decorated function at call time.\n",
    "    \"\"\"\n",
    "\n",
    "    def _register(func):\n",
    "        \"\"\"Takes the function.\n",
    "        \"\"\"\n",
    "\n",
    "        @functools.wraps(func)\n",
    "        def __register(*args, **kwargs):\n",
    "            \"\"\"Takes the arguments.\n",
    "            \"\"\"\n",
    "            registry.setdefault(name, []).append(func) # pretty great one-liner. instead of if key not exists then dic[key] = [] else dic[key].append(item)\n",
    "            return func(*args, **kwargs)\n",
    "        return __register\n",
    "    return _register\n",
    "\n",
    "\n",
    "def register_at_def(name):\n",
    "    \"\"\"Register the decorated function at definition time.\n",
    "    \"\"\"\n",
    "\n",
    "    def _register(func):\n",
    "        \"\"\"Takes the function.\n",
    "        \"\"\"\n",
    "        registry.setdefault(name, []).append(func)\n",
    "\n",
    "        return func\n",
    "    return _register\n"
   ]
  },
  {
   "cell_type": "code",
   "execution_count": 152,
   "metadata": {},
   "outputs": [
    {
     "data": {
      "text/plain": [
       "{}"
      ]
     },
     "execution_count": 152,
     "metadata": {},
     "output_type": "execute_result"
    }
   ],
   "source": [
    "registry"
   ]
  },
  {
   "cell_type": "code",
   "execution_count": 153,
   "metadata": {},
   "outputs": [],
   "source": [
    "@register_at_call('at_call')\n",
    "def add(a, b): return a + b"
   ]
  },
  {
   "cell_type": "code",
   "execution_count": 154,
   "metadata": {},
   "outputs": [
    {
     "data": {
      "text/plain": [
       "{}"
      ]
     },
     "execution_count": 154,
     "metadata": {},
     "output_type": "execute_result"
    }
   ],
   "source": [
    "registry"
   ]
  },
  {
   "cell_type": "code",
   "execution_count": 155,
   "metadata": {},
   "outputs": [
    {
     "data": {
      "text/plain": [
       "{'at_call': [<function __main__.add(a, b)>]}"
      ]
     },
     "execution_count": 155,
     "metadata": {},
     "output_type": "execute_result"
    }
   ],
   "source": [
    "add(1, 2)\n",
    "registry"
   ]
  },
  {
   "cell_type": "code",
   "execution_count": 156,
   "metadata": {},
   "outputs": [
    {
     "data": {
      "text/plain": [
       "{'at_call': [<function __main__.add(a, b)>, <function __main__.add(a, b)>]}"
      ]
     },
     "execution_count": 156,
     "metadata": {},
     "output_type": "execute_result"
    }
   ],
   "source": [
    "add(1, 2)\n",
    "registry"
   ]
  },
  {
   "attachments": {},
   "cell_type": "markdown",
   "metadata": {},
   "source": [
    "function is added to registry every time the function is *called*"
   ]
  },
  {
   "cell_type": "code",
   "execution_count": 157,
   "metadata": {},
   "outputs": [],
   "source": [
    "@register_at_def('at_def')\n",
    "def add(a, b): return a + b"
   ]
  },
  {
   "cell_type": "code",
   "execution_count": 158,
   "metadata": {},
   "outputs": [
    {
     "data": {
      "text/plain": [
       "{'at_call': [<function __main__.add(a, b)>, <function __main__.add(a, b)>],\n",
       " 'at_def': [<function __main__.add(a, b)>]}"
      ]
     },
     "execution_count": 158,
     "metadata": {},
     "output_type": "execute_result"
    }
   ],
   "source": [
    "registry"
   ]
  },
  {
   "attachments": {},
   "cell_type": "markdown",
   "metadata": {},
   "source": [
    "## class decorators"
   ]
  },
  {
   "cell_type": "code",
   "execution_count": 165,
   "metadata": {},
   "outputs": [],
   "source": [
    "# the boilerplate you want. now you can do anything with the class\n",
    "def mark(cls):\n",
    "    return cls"
   ]
  },
  {
   "cell_type": "code",
   "execution_count": 166,
   "metadata": {},
   "outputs": [],
   "source": [
    "def mark(cls):\n",
    "    cls.new_attr = 100\n",
    "    return cls"
   ]
  },
  {
   "cell_type": "code",
   "execution_count": 167,
   "metadata": {},
   "outputs": [],
   "source": [
    "@mark\n",
    "class A:\n",
    "    pass"
   ]
  },
  {
   "cell_type": "code",
   "execution_count": 168,
   "metadata": {},
   "outputs": [
    {
     "data": {
      "text/plain": [
       "100"
      ]
     },
     "execution_count": 168,
     "metadata": {},
     "output_type": "execute_result"
    }
   ],
   "source": [
    "A.new_attr"
   ]
  },
  {
   "cell_type": "code",
   "execution_count": 169,
   "metadata": {},
   "outputs": [
    {
     "data": {
      "text/plain": [
       "100"
      ]
     },
     "execution_count": 169,
     "metadata": {},
     "output_type": "execute_result"
    }
   ],
   "source": [
    "# equivalent to this syntax without the \"@\"\n",
    "class A:\n",
    "    pass\n",
    "A = mark(A)\n",
    "\n",
    "A.new_attr"
   ]
  },
  {
   "attachments": {},
   "cell_type": "markdown",
   "metadata": {},
   "source": [
    "### use case: inspecting class methods"
   ]
  },
  {
   "attachments": {},
   "cell_type": "markdown",
   "metadata": {},
   "source": [
    "use case idea: inspecting the class and doing something with the class"
   ]
  },
  {
   "cell_type": "code",
   "execution_count": 171,
   "metadata": {},
   "outputs": [],
   "source": [
    "\"\"\"Class decorator to check method name length.\"\"\"\n",
    "\n",
    "\n",
    "def check_name_length(max_len=30):\n",
    "    \"\"\"Check method name length.\n",
    "\n",
    "    Raises a `NameError` if one method name of a decoratoed class is\n",
    "    longer than `max_len`.\n",
    "    \"\"\"\n",
    "    def _check_name_length(cls):\n",
    "        for name, obj in cls.__dict__.items():\n",
    "            if callable(obj) and len(name) > max_len:\n",
    "                msg = (f'name `{name}` too long,\\n  ' + len('NameError') * ' ' +\n",
    "                       f'found {len(name)} characters, only {max_len} are allowed')\n",
    "                raise NameError(msg)\n",
    "        return cls\n",
    "    return _check_name_length"
   ]
  },
  {
   "cell_type": "code",
   "execution_count": 174,
   "metadata": {},
   "outputs": [
    {
     "ename": "NameError",
     "evalue": "name `meth_with_too_long_name_blablabla_whatthefuck` too long,\n           found 45 characters, only 10 are allowed",
     "output_type": "error",
     "traceback": [
      "\u001b[0;31m---------------------------------------------------------------------------\u001b[0m",
      "\u001b[0;31mNameError\u001b[0m                                 Traceback (most recent call last)",
      "\u001b[1;32m/home/nilsgandlau/projects/learning/python/pycon/00_decorators.ipynb Cell 88\u001b[0m in \u001b[0;36m<cell line: 1>\u001b[0;34m()\u001b[0m\n\u001b[1;32m      <a href='vscode-notebook-cell://wsl%2Bubuntu-22.04/home/nilsgandlau/projects/learning/python/pycon/00_decorators.ipynb#Y222sdnNjb2RlLXJlbW90ZQ%3D%3D?line=0'>1</a>\u001b[0m \u001b[39m@check_name_length\u001b[39;49m(max_len\u001b[39m=\u001b[39;49m\u001b[39m10\u001b[39;49m)\n\u001b[0;32m----> <a href='vscode-notebook-cell://wsl%2Bubuntu-22.04/home/nilsgandlau/projects/learning/python/pycon/00_decorators.ipynb#Y222sdnNjb2RlLXJlbW90ZQ%3D%3D?line=1'>2</a>\u001b[0m \u001b[39mclass\u001b[39;49;00m \u001b[39mB\u001b[39;49;00m:\n\u001b[1;32m      <a href='vscode-notebook-cell://wsl%2Bubuntu-22.04/home/nilsgandlau/projects/learning/python/pycon/00_decorators.ipynb#Y222sdnNjb2RlLXJlbW90ZQ%3D%3D?line=2'>3</a>\u001b[0m     \u001b[39mdef\u001b[39;49;00m \u001b[39mmeth\u001b[39;49m(\u001b[39mself\u001b[39;49m): \u001b[39mpass\u001b[39;49;00m\n\u001b[1;32m      <a href='vscode-notebook-cell://wsl%2Bubuntu-22.04/home/nilsgandlau/projects/learning/python/pycon/00_decorators.ipynb#Y222sdnNjb2RlLXJlbW90ZQ%3D%3D?line=3'>4</a>\u001b[0m     \u001b[39mdef\u001b[39;49;00m \u001b[39mmeth_with_too_long_name_blablabla_whatthefuck\u001b[39;49m(\u001b[39mself\u001b[39;49m): \u001b[39mpass\u001b[39;49;00m\n",
      "\u001b[1;32m/home/nilsgandlau/projects/learning/python/pycon/00_decorators.ipynb Cell 88\u001b[0m in \u001b[0;36mcheck_name_length.<locals>._check_name_length\u001b[0;34m(cls)\u001b[0m\n\u001b[1;32m     <a href='vscode-notebook-cell://wsl%2Bubuntu-22.04/home/nilsgandlau/projects/learning/python/pycon/00_decorators.ipynb#Y222sdnNjb2RlLXJlbW90ZQ%3D%3D?line=11'>12</a>\u001b[0m     \u001b[39mif\u001b[39;00m callable(obj) \u001b[39mand\u001b[39;00m \u001b[39mlen\u001b[39m(name) \u001b[39m>\u001b[39m max_len:\n\u001b[1;32m     <a href='vscode-notebook-cell://wsl%2Bubuntu-22.04/home/nilsgandlau/projects/learning/python/pycon/00_decorators.ipynb#Y222sdnNjb2RlLXJlbW90ZQ%3D%3D?line=12'>13</a>\u001b[0m         msg \u001b[39m=\u001b[39m (\u001b[39mf\u001b[39m\u001b[39m'\u001b[39m\u001b[39mname `\u001b[39m\u001b[39m{\u001b[39;00mname\u001b[39m}\u001b[39;00m\u001b[39m` too long,\u001b[39m\u001b[39m\\n\u001b[39;00m\u001b[39m  \u001b[39m\u001b[39m'\u001b[39m \u001b[39m+\u001b[39m \u001b[39mlen\u001b[39m(\u001b[39m'\u001b[39m\u001b[39mNameError\u001b[39m\u001b[39m'\u001b[39m) \u001b[39m*\u001b[39m \u001b[39m'\u001b[39m\u001b[39m \u001b[39m\u001b[39m'\u001b[39m \u001b[39m+\u001b[39m\n\u001b[1;32m     <a href='vscode-notebook-cell://wsl%2Bubuntu-22.04/home/nilsgandlau/projects/learning/python/pycon/00_decorators.ipynb#Y222sdnNjb2RlLXJlbW90ZQ%3D%3D?line=13'>14</a>\u001b[0m                \u001b[39mf\u001b[39m\u001b[39m'\u001b[39m\u001b[39mfound \u001b[39m\u001b[39m{\u001b[39;00m\u001b[39mlen\u001b[39m(name)\u001b[39m}\u001b[39;00m\u001b[39m characters, only \u001b[39m\u001b[39m{\u001b[39;00mmax_len\u001b[39m}\u001b[39;00m\u001b[39m are allowed\u001b[39m\u001b[39m'\u001b[39m)\n\u001b[0;32m---> <a href='vscode-notebook-cell://wsl%2Bubuntu-22.04/home/nilsgandlau/projects/learning/python/pycon/00_decorators.ipynb#Y222sdnNjb2RlLXJlbW90ZQ%3D%3D?line=14'>15</a>\u001b[0m         \u001b[39mraise\u001b[39;00m \u001b[39mNameError\u001b[39;00m(msg)\n\u001b[1;32m     <a href='vscode-notebook-cell://wsl%2Bubuntu-22.04/home/nilsgandlau/projects/learning/python/pycon/00_decorators.ipynb#Y222sdnNjb2RlLXJlbW90ZQ%3D%3D?line=15'>16</a>\u001b[0m \u001b[39mreturn\u001b[39;00m \u001b[39mcls\u001b[39m\n",
      "\u001b[0;31mNameError\u001b[0m: name `meth_with_too_long_name_blablabla_whatthefuck` too long,\n           found 45 characters, only 10 are allowed"
     ]
    }
   ],
   "source": [
    "@check_name_length(max_len=10)\n",
    "class B:\n",
    "    def meth(self): pass\n",
    "    def meth_with_too_long_name_blablabla_whatthefuck(self): pass\n",
    "B"
   ]
  },
  {
   "attachments": {},
   "cell_type": "markdown",
   "metadata": {},
   "source": [
    "to decorate all methods with a decorator, maybe use `.setattribute()`. maybe loop over all `callable(obj)` in `cls.__dict__.items()`..."
   ]
  },
  {
   "cell_type": "code",
   "execution_count": null,
   "metadata": {},
   "outputs": [],
   "source": []
  }
 ],
 "metadata": {
  "kernelspec": {
   "display_name": "venv",
   "language": "python",
   "name": "python3"
  },
  "language_info": {
   "codemirror_mode": {
    "name": "ipython",
    "version": 3
   },
   "file_extension": ".py",
   "mimetype": "text/x-python",
   "name": "python",
   "nbconvert_exporter": "python",
   "pygments_lexer": "ipython3",
   "version": "3.10.5"
  },
  "orig_nbformat": 4
 },
 "nbformat": 4,
 "nbformat_minor": 2
}
