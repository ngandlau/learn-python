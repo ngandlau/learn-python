{
 "cells": [
  {
   "cell_type": "code",
   "execution_count": 3,
   "metadata": {},
   "outputs": [],
   "source": [
    "from typing import Any"
   ]
  },
  {
   "cell_type": "code",
   "execution_count": 4,
   "metadata": {},
   "outputs": [],
   "source": [
    "# when a type checker sees this:\n",
    "def double(x):\n",
    "    return x * 2\n",
    "\n",
    "# it assumes this:\n",
    "def double(x: Any):\n",
    "    return x * 2"
   ]
  },
  {
   "cell_type": "code",
   "execution_count": 5,
   "metadata": {},
   "outputs": [],
   "source": [
    "# object doesn't support multiply, hence type error.\n",
    "# more general types support fewer operations\n",
    "def double(x: object) -> object:\n",
    "    return 2 * x"
   ]
  },
  {
   "attachments": {},
   "cell_type": "markdown",
   "metadata": {},
   "source": [
    "> \"If possible, avoid creating functions that return Union types, as they put an extra burden on the user -- forcing them to check the type of the returned value at runtime to know what to do with it.\""
   ]
  },
  {
   "cell_type": "code",
   "execution_count": 7,
   "metadata": {},
   "outputs": [],
   "source": [
    "from typing import NamedTuple, Tuple\n",
    "\n",
    "# Empfohlene Implementierung:\n",
    "class Coordinate(NamedTuple):\n",
    "    lat: float\n",
    "    lon: float\n",
    "\n",
    "def geohash(coord: Coordinate):\n",
    "    pass\n",
    "\n",
    "# suboptimale Alternative, da Reihenfolge von lat/lon kritisch\n",
    "def geohash(coord: Tuple[float, float]):\n",
    "    pass\n",
    "\n",
    "# suboptimale Alternative, da Reihenfolge von lat/lon kritisch\n",
    "Coordinate = Tuple[float, float]\n",
    "\n",
    "def geohash(coord: Coordinate):\n",
    "    pass\n",
    "\n",
    "# ggf. tricksen mit arg name\n",
    "def geohash(lat_lon: Tuple[float, float]):\n",
    "    pass"
   ]
  },
  {
   "cell_type": "code",
   "execution_count": 8,
   "metadata": {},
   "outputs": [],
   "source": [
    "# Tuple mit beliebiger Anzahl Elementen von Typ \"int\" möglich\n",
    "def sum_all_elements(tpl: Tuple[int, ...]):\n",
    "    pass"
   ]
  },
  {
   "attachments": {},
   "cell_type": "markdown",
   "metadata": {},
   "source": [
    "## Type Alias"
   ]
  },
  {
   "cell_type": "code",
   "execution_count": null,
   "metadata": {},
   "outputs": [],
   "source": [
    "# python <3.10\n",
    "Coordinate = Tuple[float, float]\n",
    "\n",
    "# python >=3.10\n",
    "from typing import TypeAlias\n",
    "Coordinate: TypeAlias = tuple[float, float]"
   ]
  },
  {
   "attachments": {},
   "cell_type": "markdown",
   "metadata": {},
   "source": [
    "## Parametrized Generics\n"
   ]
  },
  {
   "cell_type": "code",
   "execution_count": null,
   "metadata": {},
   "outputs": [],
   "source": [
    "# falsch. warum?\n",
    "from random import shuffle\n",
    "from typing import List, Sequence\n",
    "\n",
    "def sample(population: Sequence[Any], size: int) -> List[Any]:\n",
    "    result = list(population)\n",
    "    shuffle(result)\n",
    "    return result[:size]"
   ]
  },
  {
   "cell_type": "code",
   "execution_count": null,
   "metadata": {},
   "outputs": [],
   "source": [
    "# korrekt\n",
    "from random import shuffle\n",
    "from typing import List, Sequence, TypeVar\n",
    "\n",
    "T = TypeVar('T') # can be anything\n",
    "\n",
    "def sample(population: Sequence[T], size: int) -> List[T]:\n",
    "    result = list(population)\n",
    "    shuffle(result)\n",
    "    return result[:size]\n",
    "\n",
    "\n",
    "# -> Wenn ich eine Sequenz von Typ \"int\" reinstecke, kommt eine Liste von \"int\" raus.\n",
    "#                                  \"str\"                                  \"str\" \n",
    "#                                   ...                                    ..."
   ]
  },
  {
   "cell_type": "code",
   "execution_count": null,
   "metadata": {},
   "outputs": [],
   "source": [
    "# Sequence vs Iterable\n",
    "# Für Parameter: Iterable, weil gröber\n",
    "# Für Return: Sequence, weil genauer\n",
    "# TODO \n",
    "# z.B. kriege ich die Länge jeder Sequence mit len(), aber es gibt Iterables ohne len()!"
   ]
  },
  {
   "cell_type": "code",
   "execution_count": 11,
   "metadata": {},
   "outputs": [
    {
     "data": {
      "text/plain": [
       "3"
      ]
     },
     "execution_count": 11,
     "metadata": {},
     "output_type": "execute_result"
    }
   ],
   "source": [
    "from collections import Counter\n",
    "from collections.abc import Iterable\n",
    "\n",
    "# Version 1\n",
    "def mode(data: Iterable[int]) -> int:\n",
    "    \"\"\"Return the most common data point from a series\"\"\"\n",
    "    pairs = Counter(data).most_common()\n",
    "    return pairs[0][0]\n",
    "\n",
    "mode([1, 1, 2, 3, 3, 3, 3, 4])"
   ]
  },
  {
   "cell_type": "code",
   "execution_count": 13,
   "metadata": {},
   "outputs": [
    {
     "data": {
      "text/plain": [
       "'c'"
      ]
     },
     "execution_count": 13,
     "metadata": {},
     "output_type": "execute_result"
    }
   ],
   "source": [
    "# Version 2\n",
    "# Typing mit Hinwweisen, dass wir:\n",
    "#   (1) verschiedene Datentypen reinwerfen können, nicht nur ints\n",
    "#   (2) immer den gleichen Datentyp rauskriegen, den wir reingesteckt haben\n",
    "from typing import TypeVar\n",
    "\n",
    "T = TypeVar('T') \n",
    "\n",
    "def mode(data: Iterable[T]) -> T:\n",
    "    \"\"\"Return the most common data point from a series\"\"\"\n",
    "    pairs = Counter(data).most_common()\n",
    "    return pairs[0][0]\n",
    "\n",
    "mode([1, 1, 2, 3, 3, 3, 3, 4])\n",
    "mode(['a', 'a', 'b', 'c', 'c', 'c', 'c', 'd'])"
   ]
  },
  {
   "cell_type": "code",
   "execution_count": 18,
   "metadata": {},
   "outputs": [
    {
     "ename": "TypeError",
     "evalue": "unhashable type: 'list'",
     "output_type": "error",
     "traceback": [
      "\u001b[0;31m---------------------------------------------------------------------------\u001b[0m",
      "\u001b[0;31mTypeError\u001b[0m                                 Traceback (most recent call last)",
      "Cell \u001b[0;32mIn[18], line 2\u001b[0m\n\u001b[1;32m      1\u001b[0m \u001b[39m# Das Problem ist, dass die Funktion unhashable types, z.B. lists und dicts, nicht handlen kann:\u001b[39;00m\n\u001b[0;32m----> 2\u001b[0m mode([[\u001b[39m'\u001b[39;49m\u001b[39ma\u001b[39;49m\u001b[39m'\u001b[39;49m], [\u001b[39m'\u001b[39;49m\u001b[39mb\u001b[39;49m\u001b[39m'\u001b[39;49m]])\n",
      "Cell \u001b[0;32mIn[13], line 11\u001b[0m, in \u001b[0;36mmode\u001b[0;34m(data)\u001b[0m\n\u001b[1;32m      9\u001b[0m \u001b[39mdef\u001b[39;00m \u001b[39mmode\u001b[39m(data: Iterable[T]) \u001b[39m-\u001b[39m\u001b[39m>\u001b[39m T:\n\u001b[1;32m     10\u001b[0m \u001b[39m    \u001b[39m\u001b[39m\"\"\"Return the most common data point from a series\"\"\"\u001b[39;00m\n\u001b[0;32m---> 11\u001b[0m     pairs \u001b[39m=\u001b[39m Counter(data)\u001b[39m.\u001b[39mmost_common()\n\u001b[1;32m     12\u001b[0m     \u001b[39mreturn\u001b[39;00m pairs[\u001b[39m0\u001b[39m][\u001b[39m0\u001b[39m]\n",
      "File \u001b[0;32m/Library/Developer/CommandLineTools/Library/Frameworks/Python3.framework/Versions/3.9/lib/python3.9/collections/__init__.py:593\u001b[0m, in \u001b[0;36mCounter.__init__\u001b[0;34m(self, iterable, **kwds)\u001b[0m\n\u001b[1;32m    582\u001b[0m \u001b[39m\u001b[39m\u001b[39m'''Create a new, empty Counter object.  And if given, count elements\u001b[39;00m\n\u001b[1;32m    583\u001b[0m \u001b[39mfrom an input iterable.  Or, initialize the count from another mapping\u001b[39;00m\n\u001b[1;32m    584\u001b[0m \u001b[39mof elements to their counts.\u001b[39;00m\n\u001b[0;32m   (...)\u001b[0m\n\u001b[1;32m    590\u001b[0m \n\u001b[1;32m    591\u001b[0m \u001b[39m'''\u001b[39;00m\n\u001b[1;32m    592\u001b[0m \u001b[39msuper\u001b[39m()\u001b[39m.\u001b[39m\u001b[39m__init__\u001b[39m()\n\u001b[0;32m--> 593\u001b[0m \u001b[39mself\u001b[39;49m\u001b[39m.\u001b[39;49mupdate(iterable, \u001b[39m*\u001b[39;49m\u001b[39m*\u001b[39;49mkwds)\n",
      "File \u001b[0;32m/Library/Developer/CommandLineTools/Library/Frameworks/Python3.framework/Versions/3.9/lib/python3.9/collections/__init__.py:679\u001b[0m, in \u001b[0;36mCounter.update\u001b[0;34m(self, iterable, **kwds)\u001b[0m\n\u001b[1;32m    677\u001b[0m             \u001b[39msuper\u001b[39m()\u001b[39m.\u001b[39mupdate(iterable)\n\u001b[1;32m    678\u001b[0m     \u001b[39melse\u001b[39;00m:\n\u001b[0;32m--> 679\u001b[0m         _count_elements(\u001b[39mself\u001b[39;49m, iterable)\n\u001b[1;32m    680\u001b[0m \u001b[39mif\u001b[39;00m kwds:\n\u001b[1;32m    681\u001b[0m     \u001b[39mself\u001b[39m\u001b[39m.\u001b[39mupdate(kwds)\n",
      "\u001b[0;31mTypeError\u001b[0m: unhashable type: 'list'"
     ]
    }
   ],
   "source": [
    "# Das Problem ist, dass die Funktion unhashable types, z.B. lists und dicts, nicht handlen kann:\n",
    "mode([['a'], ['b']])"
   ]
  },
  {
   "cell_type": "code",
   "execution_count": null,
   "metadata": {},
   "outputs": [],
   "source": [
    "# also müssen wir das typing Einschränken\n",
    "# z.B. mit numerischen Datentypen:\n",
    "from typing import TypeVar, Decimal, Fraction\n",
    "\n",
    "# \"Restricted Type Vars\" := TypeVars beschränkt auf bestimmte Datentypen\n",
    "NumberT = TypeVar('NumberT', float, Decimal, Fraction)\n",
    "\n",
    "def mode(data: Iterable[NumberT]) -> NumberT:\n",
    "    pass "
   ]
  },
  {
   "cell_type": "code",
   "execution_count": null,
   "metadata": {},
   "outputs": [],
   "source": [
    "# aber irgendwie blöd, weil vllt wollen wir mal strings reinstecken\n",
    "# dafür gibt es \"BOUNDED TYPEVARS\"\n",
    "from typing import Hashable\n",
    "\n",
    "# Bounded TypeVars := TypeVars beschränkt auf alle Typen, die \"consistent-with\" dem angegeben Typ (hier: Hashable) sind.\n",
    "HashableT = TypeVar('HashableT', bound=Hashable)\n",
    "\n",
    "def mode(data: Iterable[HashableT]) -> HashableT:\n",
    "    pass"
   ]
  },
  {
   "cell_type": "code",
   "execution_count": 23,
   "metadata": {},
   "outputs": [],
   "source": [
    "# custom types that support specific operators\n",
    "from typing import Protocol, Any\n",
    "\n",
    "class SupportsLessThan(Protocol):\n",
    "    def __lt__(self, other: Any) -> bool: ...\n",
    "\n",
    "LT = TypeVar('LT', bound=SupportsLessThan)\n",
    "\n",
    "# supportet alle Objekte, die __lt__() implementiert haben\n",
    "def top(series: Iterable[LT], length: int) -> list[LT]:\n",
    "    ordered = sorted(series, reverse=True)\n",
    "    return ordered[:length]"
   ]
  },
  {
   "cell_type": "code",
   "execution_count": 24,
   "metadata": {},
   "outputs": [
    {
     "data": {
      "text/plain": [
       "[10, 5]"
      ]
     },
     "execution_count": 24,
     "metadata": {},
     "output_type": "execute_result"
    }
   ],
   "source": [
    "# z.B. ints\n",
    "top([3, 10, 5], 2)"
   ]
  },
  {
   "cell_type": "code",
   "execution_count": 27,
   "metadata": {},
   "outputs": [
    {
     "data": {
      "text/plain": [
       "['x']"
      ]
     },
     "execution_count": 27,
     "metadata": {},
     "output_type": "execute_result"
    }
   ],
   "source": [
    "# oder strings\n",
    "top(['a', 'd', 'x'], 1)"
   ]
  },
  {
   "cell_type": "code",
   "execution_count": 29,
   "metadata": {},
   "outputs": [
    {
     "data": {
      "text/plain": [
       "[Employee(name='nils', salary=150000)]"
      ]
     },
     "execution_count": 29,
     "metadata": {},
     "output_type": "execute_result"
    }
   ],
   "source": [
    "# aber eben auch user-defined classes, die __lt__() implementieren!\n",
    "from dataclasses import dataclass\n",
    "\n",
    "@dataclass\n",
    "class Employee:\n",
    "    name: str\n",
    "    salary: int\n",
    "    def __lt__(self, other): return self.salary < other.salary\n",
    "\n",
    "\n",
    "nils = Employee('nils', 150_000) # AT\n",
    "mein_chef = Employee('chef', 80_000)\n",
    "ceo = Employee('CEO', 115_000)\n",
    "\n",
    "top([nils, mein_chef, ceo], 1)"
   ]
  }
 ],
 "metadata": {
  "kernelspec": {
   "display_name": "Python 3",
   "language": "python",
   "name": "python3"
  },
  "language_info": {
   "codemirror_mode": {
    "name": "ipython",
    "version": 3
   },
   "file_extension": ".py",
   "mimetype": "text/x-python",
   "name": "python",
   "nbconvert_exporter": "python",
   "pygments_lexer": "ipython3",
   "version": "3.9.6"
  },
  "orig_nbformat": 4
 },
 "nbformat": 4,
 "nbformat_minor": 2
}
