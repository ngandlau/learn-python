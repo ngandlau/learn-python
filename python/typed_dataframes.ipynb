{
 "cells": [
  {
   "cell_type": "code",
   "execution_count": 1,
   "metadata": {},
   "outputs": [],
   "source": [
    "import pandas as pd"
   ]
  },
  {
   "attachments": {},
   "cell_type": "markdown",
   "metadata": {},
   "source": [
    "## Problem"
   ]
  },
  {
   "cell_type": "code",
   "execution_count": 2,
   "metadata": {},
   "outputs": [],
   "source": [
    "def transform_dataframe(df: pd.DataFrame) -> pd.DataFrame:\n",
    "    df['transformed_column'] = df['required_column'] * 10\n",
    "    return df"
   ]
  },
  {
   "cell_type": "code",
   "execution_count": 3,
   "metadata": {},
   "outputs": [],
   "source": [
    "df_valid = pd.DataFrame({\n",
    "    'required_column': [1, 2, 3],\n",
    "})\n",
    "\n",
    "df_invalid = pd.DataFrame({\n",
    "    'other_column': [10, 20, 30]\n",
    "})"
   ]
  },
  {
   "cell_type": "code",
   "execution_count": 4,
   "metadata": {},
   "outputs": [
    {
     "data": {
      "text/html": [
       "<div>\n",
       "<style scoped>\n",
       "    .dataframe tbody tr th:only-of-type {\n",
       "        vertical-align: middle;\n",
       "    }\n",
       "\n",
       "    .dataframe tbody tr th {\n",
       "        vertical-align: top;\n",
       "    }\n",
       "\n",
       "    .dataframe thead th {\n",
       "        text-align: right;\n",
       "    }\n",
       "</style>\n",
       "<table border=\"1\" class=\"dataframe\">\n",
       "  <thead>\n",
       "    <tr style=\"text-align: right;\">\n",
       "      <th></th>\n",
       "      <th>required_column</th>\n",
       "      <th>transformed_column</th>\n",
       "    </tr>\n",
       "  </thead>\n",
       "  <tbody>\n",
       "    <tr>\n",
       "      <th>0</th>\n",
       "      <td>1</td>\n",
       "      <td>10</td>\n",
       "    </tr>\n",
       "    <tr>\n",
       "      <th>1</th>\n",
       "      <td>2</td>\n",
       "      <td>20</td>\n",
       "    </tr>\n",
       "    <tr>\n",
       "      <th>2</th>\n",
       "      <td>3</td>\n",
       "      <td>30</td>\n",
       "    </tr>\n",
       "  </tbody>\n",
       "</table>\n",
       "</div>"
      ],
      "text/plain": [
       "   required_column  transformed_column\n",
       "0                1                  10\n",
       "1                2                  20\n",
       "2                3                  30"
      ]
     },
     "execution_count": 4,
     "metadata": {},
     "output_type": "execute_result"
    }
   ],
   "source": [
    "transform_dataframe(df=df_valid)"
   ]
  },
  {
   "cell_type": "code",
   "execution_count": 5,
   "metadata": {},
   "outputs": [
    {
     "ename": "KeyError",
     "evalue": "'required_column'",
     "output_type": "error",
     "traceback": [
      "\u001b[0;31m---------------------------------------------------------------------------\u001b[0m",
      "\u001b[0;31mKeyError\u001b[0m                                  Traceback (most recent call last)",
      "File \u001b[0;32m~/projects/learning/learning/lib/python3.10/site-packages/pandas/core/indexes/base.py:3621\u001b[0m, in \u001b[0;36mIndex.get_loc\u001b[0;34m(self, key, method, tolerance)\u001b[0m\n\u001b[1;32m   3620\u001b[0m \u001b[39mtry\u001b[39;00m:\n\u001b[0;32m-> 3621\u001b[0m     \u001b[39mreturn\u001b[39;00m \u001b[39mself\u001b[39;49m\u001b[39m.\u001b[39;49m_engine\u001b[39m.\u001b[39;49mget_loc(casted_key)\n\u001b[1;32m   3622\u001b[0m \u001b[39mexcept\u001b[39;00m \u001b[39mKeyError\u001b[39;00m \u001b[39mas\u001b[39;00m err:\n",
      "File \u001b[0;32m~/projects/learning/learning/lib/python3.10/site-packages/pandas/_libs/index.pyx:136\u001b[0m, in \u001b[0;36mpandas._libs.index.IndexEngine.get_loc\u001b[0;34m()\u001b[0m\n",
      "File \u001b[0;32m~/projects/learning/learning/lib/python3.10/site-packages/pandas/_libs/index.pyx:163\u001b[0m, in \u001b[0;36mpandas._libs.index.IndexEngine.get_loc\u001b[0;34m()\u001b[0m\n",
      "File \u001b[0;32mpandas/_libs/hashtable_class_helper.pxi:5198\u001b[0m, in \u001b[0;36mpandas._libs.hashtable.PyObjectHashTable.get_item\u001b[0;34m()\u001b[0m\n",
      "File \u001b[0;32mpandas/_libs/hashtable_class_helper.pxi:5206\u001b[0m, in \u001b[0;36mpandas._libs.hashtable.PyObjectHashTable.get_item\u001b[0;34m()\u001b[0m\n",
      "\u001b[0;31mKeyError\u001b[0m: 'required_column'",
      "\nThe above exception was the direct cause of the following exception:\n",
      "\u001b[0;31mKeyError\u001b[0m                                  Traceback (most recent call last)",
      "\u001b[1;32m/home/nilsgandlau/projects/learning/python/typed_dataframes.ipynb Cell 6\u001b[0m in \u001b[0;36m<cell line: 1>\u001b[0;34m()\u001b[0m\n\u001b[0;32m----> <a href='vscode-notebook-cell://wsl%2Bubuntu-22.04/home/nilsgandlau/projects/learning/python/typed_dataframes.ipynb#W5sdnNjb2RlLXJlbW90ZQ%3D%3D?line=0'>1</a>\u001b[0m transform_dataframe(df\u001b[39m=\u001b[39;49mdf_invalid)\n",
      "\u001b[1;32m/home/nilsgandlau/projects/learning/python/typed_dataframes.ipynb Cell 6\u001b[0m in \u001b[0;36mtransform_dataframe\u001b[0;34m(df)\u001b[0m\n\u001b[1;32m      <a href='vscode-notebook-cell://wsl%2Bubuntu-22.04/home/nilsgandlau/projects/learning/python/typed_dataframes.ipynb#W5sdnNjb2RlLXJlbW90ZQ%3D%3D?line=0'>1</a>\u001b[0m \u001b[39mdef\u001b[39;00m \u001b[39mtransform_dataframe\u001b[39m(df: pd\u001b[39m.\u001b[39mDataFrame) \u001b[39m-\u001b[39m\u001b[39m>\u001b[39m pd\u001b[39m.\u001b[39mDataFrame:\n\u001b[0;32m----> <a href='vscode-notebook-cell://wsl%2Bubuntu-22.04/home/nilsgandlau/projects/learning/python/typed_dataframes.ipynb#W5sdnNjb2RlLXJlbW90ZQ%3D%3D?line=1'>2</a>\u001b[0m     df[\u001b[39m'\u001b[39m\u001b[39mtransformed_column\u001b[39m\u001b[39m'\u001b[39m] \u001b[39m=\u001b[39m df[\u001b[39m'\u001b[39;49m\u001b[39mrequired_column\u001b[39;49m\u001b[39m'\u001b[39;49m] \u001b[39m*\u001b[39m \u001b[39m10\u001b[39m\n\u001b[1;32m      <a href='vscode-notebook-cell://wsl%2Bubuntu-22.04/home/nilsgandlau/projects/learning/python/typed_dataframes.ipynb#W5sdnNjb2RlLXJlbW90ZQ%3D%3D?line=2'>3</a>\u001b[0m     \u001b[39mreturn\u001b[39;00m df\n",
      "File \u001b[0;32m~/projects/learning/learning/lib/python3.10/site-packages/pandas/core/frame.py:3505\u001b[0m, in \u001b[0;36mDataFrame.__getitem__\u001b[0;34m(self, key)\u001b[0m\n\u001b[1;32m   3503\u001b[0m \u001b[39mif\u001b[39;00m \u001b[39mself\u001b[39m\u001b[39m.\u001b[39mcolumns\u001b[39m.\u001b[39mnlevels \u001b[39m>\u001b[39m \u001b[39m1\u001b[39m:\n\u001b[1;32m   3504\u001b[0m     \u001b[39mreturn\u001b[39;00m \u001b[39mself\u001b[39m\u001b[39m.\u001b[39m_getitem_multilevel(key)\n\u001b[0;32m-> 3505\u001b[0m indexer \u001b[39m=\u001b[39m \u001b[39mself\u001b[39;49m\u001b[39m.\u001b[39;49mcolumns\u001b[39m.\u001b[39;49mget_loc(key)\n\u001b[1;32m   3506\u001b[0m \u001b[39mif\u001b[39;00m is_integer(indexer):\n\u001b[1;32m   3507\u001b[0m     indexer \u001b[39m=\u001b[39m [indexer]\n",
      "File \u001b[0;32m~/projects/learning/learning/lib/python3.10/site-packages/pandas/core/indexes/base.py:3623\u001b[0m, in \u001b[0;36mIndex.get_loc\u001b[0;34m(self, key, method, tolerance)\u001b[0m\n\u001b[1;32m   3621\u001b[0m     \u001b[39mreturn\u001b[39;00m \u001b[39mself\u001b[39m\u001b[39m.\u001b[39m_engine\u001b[39m.\u001b[39mget_loc(casted_key)\n\u001b[1;32m   3622\u001b[0m \u001b[39mexcept\u001b[39;00m \u001b[39mKeyError\u001b[39;00m \u001b[39mas\u001b[39;00m err:\n\u001b[0;32m-> 3623\u001b[0m     \u001b[39mraise\u001b[39;00m \u001b[39mKeyError\u001b[39;00m(key) \u001b[39mfrom\u001b[39;00m \u001b[39merr\u001b[39;00m\n\u001b[1;32m   3624\u001b[0m \u001b[39mexcept\u001b[39;00m \u001b[39mTypeError\u001b[39;00m:\n\u001b[1;32m   3625\u001b[0m     \u001b[39m# If we have a listlike key, _check_indexing_error will raise\u001b[39;00m\n\u001b[1;32m   3626\u001b[0m     \u001b[39m#  InvalidIndexError. Otherwise we fall through and re-raise\u001b[39;00m\n\u001b[1;32m   3627\u001b[0m     \u001b[39m#  the TypeError.\u001b[39;00m\n\u001b[1;32m   3628\u001b[0m     \u001b[39mself\u001b[39m\u001b[39m.\u001b[39m_check_indexing_error(key)\n",
      "\u001b[0;31mKeyError\u001b[0m: 'required_column'"
     ]
    }
   ],
   "source": [
    "transform_dataframe(df=df_invalid)"
   ]
  },
  {
   "attachments": {},
   "cell_type": "markdown",
   "metadata": {},
   "source": [
    "## Idea\n",
    "\n",
    "Instead of having a very general `pd.DataFrame` Typing hint, we want a Typing hint that tells me what kind of schema the DataFrame should have."
   ]
  },
  {
   "cell_type": "code",
   "execution_count": null,
   "metadata": {},
   "outputs": [],
   "source": [
    "from typing import Annotated\n",
    "from pandas import DataFrame\n",
    "\n",
    "# Annotated adds metadata to type hint\n",
    "def transform_dataframe2(\n",
    "    df: Annotated[DataFrame, \"must have column `required_column`\"]\n",
    ") -> DataFrame:\n",
    "    df['transformed_column'] = df['required_column'] * 10\n",
    "    return df"
   ]
  },
  {
   "cell_type": "code",
   "execution_count": null,
   "metadata": {},
   "outputs": [],
   "source": [
    "from dataclasses import dataclass   \n",
    "\n",
    "@dataclass\n",
    "class ValidDataFrame:\n",
    "    columns = ['required_column']\n",
    "    data: pd.DataFrame\n",
    "    \n",
    "    def __init__(self, *args, **kwargs) -> None:\n",
    "        super().__init__(*args, **kwargs)"
   ]
  },
  {
   "cell_type": "code",
   "execution_count": null,
   "metadata": {},
   "outputs": [],
   "source": [
    "def transform_dataframe(df: ValidDataFrame) -> pd.DataFrame:\n",
    "    df['transformed_column'] = df['required_column'] * 10\n",
    "    return df"
   ]
  },
  {
   "cell_type": "code",
   "execution_count": null,
   "metadata": {},
   "outputs": [
    {
     "ename": "TypeError",
     "evalue": "object.__init__() takes exactly one argument (the instance to initialize)",
     "output_type": "error",
     "traceback": [
      "\u001b[0;31m---------------------------------------------------------------------------\u001b[0m",
      "\u001b[0;31mTypeError\u001b[0m                                 Traceback (most recent call last)",
      "\u001b[1;32m/home/nilsgandlau/projects/learning/python/typed_dataframes.ipynb Cell 11\u001b[0m in \u001b[0;36m<cell line: 1>\u001b[0;34m()\u001b[0m\n\u001b[0;32m----> <a href='vscode-notebook-cell://wsl%2Bubuntu-22.04/home/nilsgandlau/projects/learning/python/typed_dataframes.ipynb#X16sdnNjb2RlLXJlbW90ZQ%3D%3D?line=0'>1</a>\u001b[0m transform_dataframe(df\u001b[39m=\u001b[39mValidDataFrame(df_valid))\n",
      "\u001b[1;32m/home/nilsgandlau/projects/learning/python/typed_dataframes.ipynb Cell 11\u001b[0m in \u001b[0;36mValidDataFrame.__init__\u001b[0;34m(self, *args, **kwargs)\u001b[0m\n\u001b[1;32m      <a href='vscode-notebook-cell://wsl%2Bubuntu-22.04/home/nilsgandlau/projects/learning/python/typed_dataframes.ipynb#X16sdnNjb2RlLXJlbW90ZQ%3D%3D?line=7'>8</a>\u001b[0m \u001b[39mdef\u001b[39;00m \u001b[39m__init__\u001b[39m(\u001b[39mself\u001b[39m, \u001b[39m*\u001b[39margs, \u001b[39m*\u001b[39m\u001b[39m*\u001b[39mkwargs) \u001b[39m-\u001b[39m\u001b[39m>\u001b[39m \u001b[39mNone\u001b[39;00m:\n\u001b[0;32m----> <a href='vscode-notebook-cell://wsl%2Bubuntu-22.04/home/nilsgandlau/projects/learning/python/typed_dataframes.ipynb#X16sdnNjb2RlLXJlbW90ZQ%3D%3D?line=8'>9</a>\u001b[0m     \u001b[39msuper\u001b[39;49m()\u001b[39m.\u001b[39;49m\u001b[39m__init__\u001b[39;49m(\u001b[39m*\u001b[39;49margs, \u001b[39m*\u001b[39;49m\u001b[39m*\u001b[39;49mkwargs)\n",
      "\u001b[0;31mTypeError\u001b[0m: object.__init__() takes exactly one argument (the instance to initialize)"
     ]
    }
   ],
   "source": [
    "transform_dataframe(df=ValidDataFrame(df_valid))"
   ]
  },
  {
   "cell_type": "code",
   "execution_count": null,
   "metadata": {},
   "outputs": [],
   "source": [
    "import pandera as pa"
   ]
  },
  {
   "cell_type": "code",
   "execution_count": null,
   "metadata": {},
   "outputs": [],
   "source": [
    "schema = pa.DataFrameSchema({\n",
    "    'col1': pa.Column(pa.Int)\n",
    "})\n",
    "\n",
    "df_valid = pd.DataFrame({'col1': [1, 2, 3]})\n",
    "df_invalid = pd.DataFrame({'col1': '1 2 3'.split()})"
   ]
  },
  {
   "cell_type": "code",
   "execution_count": null,
   "metadata": {},
   "outputs": [
    {
     "data": {
      "text/html": [
       "<div>\n",
       "<style scoped>\n",
       "    .dataframe tbody tr th:only-of-type {\n",
       "        vertical-align: middle;\n",
       "    }\n",
       "\n",
       "    .dataframe tbody tr th {\n",
       "        vertical-align: top;\n",
       "    }\n",
       "\n",
       "    .dataframe thead th {\n",
       "        text-align: right;\n",
       "    }\n",
       "</style>\n",
       "<table border=\"1\" class=\"dataframe\">\n",
       "  <thead>\n",
       "    <tr style=\"text-align: right;\">\n",
       "      <th></th>\n",
       "      <th>col1</th>\n",
       "    </tr>\n",
       "  </thead>\n",
       "  <tbody>\n",
       "    <tr>\n",
       "      <th>0</th>\n",
       "      <td>1</td>\n",
       "    </tr>\n",
       "    <tr>\n",
       "      <th>1</th>\n",
       "      <td>2</td>\n",
       "    </tr>\n",
       "    <tr>\n",
       "      <th>2</th>\n",
       "      <td>3</td>\n",
       "    </tr>\n",
       "  </tbody>\n",
       "</table>\n",
       "</div>"
      ],
      "text/plain": [
       "   col1\n",
       "0     1\n",
       "1     2\n",
       "2     3"
      ]
     },
     "execution_count": 12,
     "metadata": {},
     "output_type": "execute_result"
    }
   ],
   "source": [
    "schema(df_valid)"
   ]
  },
  {
   "cell_type": "code",
   "execution_count": null,
   "metadata": {},
   "outputs": [
    {
     "ename": "SchemaError",
     "evalue": "expected series 'col1' to have type int64, got object",
     "output_type": "error",
     "traceback": [
      "\u001b[0;31m---------------------------------------------------------------------------\u001b[0m",
      "\u001b[0;31mSchemaError\u001b[0m                               Traceback (most recent call last)",
      "\u001b[1;32m/home/nilsgandlau/projects/learning/python/typed_dataframes.ipynb Cell 15\u001b[0m in \u001b[0;36m<cell line: 1>\u001b[0;34m()\u001b[0m\n\u001b[0;32m----> <a href='vscode-notebook-cell://wsl%2Bubuntu-22.04/home/nilsgandlau/projects/learning/python/typed_dataframes.ipynb#X20sdnNjb2RlLXJlbW90ZQ%3D%3D?line=0'>1</a>\u001b[0m schema(df_invalid)\n",
      "File \u001b[0;32m~/projects/learning/learning/lib/python3.10/site-packages/pandera/schemas.py:829\u001b[0m, in \u001b[0;36mDataFrameSchema.__call__\u001b[0;34m(self, dataframe, head, tail, sample, random_state, lazy, inplace)\u001b[0m\n\u001b[1;32m    801\u001b[0m \u001b[39mdef\u001b[39;00m \u001b[39m__call__\u001b[39m(\n\u001b[1;32m    802\u001b[0m     \u001b[39mself\u001b[39m,\n\u001b[1;32m    803\u001b[0m     dataframe: pd\u001b[39m.\u001b[39mDataFrame,\n\u001b[0;32m   (...)\u001b[0m\n\u001b[1;32m    809\u001b[0m     inplace: \u001b[39mbool\u001b[39m \u001b[39m=\u001b[39m \u001b[39mFalse\u001b[39;00m,\n\u001b[1;32m    810\u001b[0m ):\n\u001b[1;32m    811\u001b[0m     \u001b[39m\"\"\"Alias for :func:`DataFrameSchema.validate` method.\u001b[39;00m\n\u001b[1;32m    812\u001b[0m \n\u001b[1;32m    813\u001b[0m \u001b[39m    :param pd.DataFrame dataframe: the dataframe to be validated.\u001b[39;00m\n\u001b[0;32m   (...)\u001b[0m\n\u001b[1;32m    827\u001b[0m \u001b[39m        otherwise creates a copy of the data.\u001b[39;00m\n\u001b[1;32m    828\u001b[0m \u001b[39m    \"\"\"\u001b[39;00m\n\u001b[0;32m--> 829\u001b[0m     \u001b[39mreturn\u001b[39;00m \u001b[39mself\u001b[39;49m\u001b[39m.\u001b[39;49mvalidate(\n\u001b[1;32m    830\u001b[0m         dataframe, head, tail, sample, random_state, lazy, inplace\n\u001b[1;32m    831\u001b[0m     )\n",
      "File \u001b[0;32m~/projects/learning/learning/lib/python3.10/site-packages/pandera/schemas.py:534\u001b[0m, in \u001b[0;36mDataFrameSchema.validate\u001b[0;34m(self, check_obj, head, tail, sample, random_state, lazy, inplace)\u001b[0m\n\u001b[1;32m    521\u001b[0m     check_obj \u001b[39m=\u001b[39m check_obj\u001b[39m.\u001b[39mmap_partitions(\n\u001b[1;32m    522\u001b[0m         \u001b[39mself\u001b[39m\u001b[39m.\u001b[39m_validate,\n\u001b[1;32m    523\u001b[0m         head\u001b[39m=\u001b[39mhead,\n\u001b[0;32m   (...)\u001b[0m\n\u001b[1;32m    529\u001b[0m         meta\u001b[39m=\u001b[39mcheck_obj,\n\u001b[1;32m    530\u001b[0m     )\n\u001b[1;32m    532\u001b[0m     \u001b[39mreturn\u001b[39;00m check_obj\u001b[39m.\u001b[39mpandera\u001b[39m.\u001b[39madd_schema(\u001b[39mself\u001b[39m)\n\u001b[0;32m--> 534\u001b[0m \u001b[39mreturn\u001b[39;00m \u001b[39mself\u001b[39;49m\u001b[39m.\u001b[39;49m_validate(\n\u001b[1;32m    535\u001b[0m     check_obj\u001b[39m=\u001b[39;49mcheck_obj,\n\u001b[1;32m    536\u001b[0m     head\u001b[39m=\u001b[39;49mhead,\n\u001b[1;32m    537\u001b[0m     tail\u001b[39m=\u001b[39;49mtail,\n\u001b[1;32m    538\u001b[0m     sample\u001b[39m=\u001b[39;49msample,\n\u001b[1;32m    539\u001b[0m     random_state\u001b[39m=\u001b[39;49mrandom_state,\n\u001b[1;32m    540\u001b[0m     lazy\u001b[39m=\u001b[39;49mlazy,\n\u001b[1;32m    541\u001b[0m     inplace\u001b[39m=\u001b[39;49minplace,\n\u001b[1;32m    542\u001b[0m )\n",
      "File \u001b[0;32m~/projects/learning/learning/lib/python3.10/site-packages/pandera/schemas.py:732\u001b[0m, in \u001b[0;36mDataFrameSchema._validate\u001b[0;34m(self, check_obj, head, tail, sample, random_state, lazy, inplace)\u001b[0m\n\u001b[1;32m    730\u001b[0m     check_results\u001b[39m.\u001b[39mappend(check_utils\u001b[39m.\u001b[39mis_table(result))\n\u001b[1;32m    731\u001b[0m \u001b[39mexcept\u001b[39;00m errors\u001b[39m.\u001b[39mSchemaError \u001b[39mas\u001b[39;00m err:\n\u001b[0;32m--> 732\u001b[0m     error_handler\u001b[39m.\u001b[39;49mcollect_error(\u001b[39m\"\u001b[39;49m\u001b[39mschema_component_check\u001b[39;49m\u001b[39m\"\u001b[39;49m, err)\n\u001b[1;32m    733\u001b[0m \u001b[39mexcept\u001b[39;00m errors\u001b[39m.\u001b[39mSchemaErrors \u001b[39mas\u001b[39;00m err:\n\u001b[1;32m    734\u001b[0m     \u001b[39mfor\u001b[39;00m schema_error_dict \u001b[39min\u001b[39;00m err\u001b[39m.\u001b[39mschema_errors:\n",
      "File \u001b[0;32m~/projects/learning/learning/lib/python3.10/site-packages/pandera/error_handlers.py:32\u001b[0m, in \u001b[0;36mSchemaErrorHandler.collect_error\u001b[0;34m(self, reason_code, schema_error, original_exc)\u001b[0m\n\u001b[1;32m     26\u001b[0m \u001b[39m\"\"\"Collect schema error, raising exception if lazy is False.\u001b[39;00m\n\u001b[1;32m     27\u001b[0m \n\u001b[1;32m     28\u001b[0m \u001b[39m:param reason_code: string representing reason for error\u001b[39;00m\n\u001b[1;32m     29\u001b[0m \u001b[39m:param schema_error: ``SchemaError`` object.\u001b[39;00m\n\u001b[1;32m     30\u001b[0m \u001b[39m\"\"\"\u001b[39;00m\n\u001b[1;32m     31\u001b[0m \u001b[39mif\u001b[39;00m \u001b[39mnot\u001b[39;00m \u001b[39mself\u001b[39m\u001b[39m.\u001b[39m_lazy:\n\u001b[0;32m---> 32\u001b[0m     \u001b[39mraise\u001b[39;00m schema_error \u001b[39mfrom\u001b[39;00m \u001b[39moriginal_exc\u001b[39;00m\n\u001b[1;32m     34\u001b[0m \u001b[39m# delete data of validated object from SchemaError object to prevent\u001b[39;00m\n\u001b[1;32m     35\u001b[0m \u001b[39m# storing copies of the validated DataFrame/Series for every\u001b[39;00m\n\u001b[1;32m     36\u001b[0m \u001b[39m# SchemaError collected.\u001b[39;00m\n\u001b[1;32m     37\u001b[0m \u001b[39mdel\u001b[39;00m schema_error\u001b[39m.\u001b[39mdata\n",
      "File \u001b[0;32m~/projects/learning/learning/lib/python3.10/site-packages/pandera/schemas.py:724\u001b[0m, in \u001b[0;36mDataFrameSchema._validate\u001b[0;34m(self, check_obj, head, tail, sample, random_state, lazy, inplace)\u001b[0m\n\u001b[1;32m    722\u001b[0m \u001b[39mfor\u001b[39;00m schema_component \u001b[39min\u001b[39;00m schema_components:\n\u001b[1;32m    723\u001b[0m     \u001b[39mtry\u001b[39;00m:\n\u001b[0;32m--> 724\u001b[0m         result \u001b[39m=\u001b[39m schema_component(\n\u001b[1;32m    725\u001b[0m             df_to_validate,\n\u001b[1;32m    726\u001b[0m             lazy\u001b[39m=\u001b[39;49mlazy,\n\u001b[1;32m    727\u001b[0m             \u001b[39m# don't make a copy of the data\u001b[39;49;00m\n\u001b[1;32m    728\u001b[0m             inplace\u001b[39m=\u001b[39;49m\u001b[39mTrue\u001b[39;49;00m,\n\u001b[1;32m    729\u001b[0m         )\n\u001b[1;32m    730\u001b[0m         check_results\u001b[39m.\u001b[39mappend(check_utils\u001b[39m.\u001b[39mis_table(result))\n\u001b[1;32m    731\u001b[0m     \u001b[39mexcept\u001b[39;00m errors\u001b[39m.\u001b[39mSchemaError \u001b[39mas\u001b[39;00m err:\n",
      "File \u001b[0;32m~/projects/learning/learning/lib/python3.10/site-packages/pandera/schemas.py:2138\u001b[0m, in \u001b[0;36mSeriesSchemaBase.__call__\u001b[0;34m(self, check_obj, head, tail, sample, random_state, lazy, inplace)\u001b[0m\n\u001b[1;32m   2127\u001b[0m \u001b[39mdef\u001b[39;00m \u001b[39m__call__\u001b[39m(\n\u001b[1;32m   2128\u001b[0m     \u001b[39mself\u001b[39m,\n\u001b[1;32m   2129\u001b[0m     check_obj: Union[pd\u001b[39m.\u001b[39mDataFrame, pd\u001b[39m.\u001b[39mSeries],\n\u001b[0;32m   (...)\u001b[0m\n\u001b[1;32m   2135\u001b[0m     inplace: \u001b[39mbool\u001b[39m \u001b[39m=\u001b[39m \u001b[39mFalse\u001b[39;00m,\n\u001b[1;32m   2136\u001b[0m ) \u001b[39m-\u001b[39m\u001b[39m>\u001b[39m Union[pd\u001b[39m.\u001b[39mDataFrame, pd\u001b[39m.\u001b[39mSeries]:\n\u001b[1;32m   2137\u001b[0m     \u001b[39m\"\"\"Alias for ``validate`` method.\"\"\"\u001b[39;00m\n\u001b[0;32m-> 2138\u001b[0m     \u001b[39mreturn\u001b[39;00m \u001b[39mself\u001b[39;49m\u001b[39m.\u001b[39;49mvalidate(\n\u001b[1;32m   2139\u001b[0m         check_obj, head, tail, sample, random_state, lazy, inplace\n\u001b[1;32m   2140\u001b[0m     )\n",
      "File \u001b[0;32m~/projects/learning/learning/lib/python3.10/site-packages/pandera/schema_components.py:223\u001b[0m, in \u001b[0;36mColumn.validate\u001b[0;34m(self, check_obj, head, tail, sample, random_state, lazy, inplace)\u001b[0m\n\u001b[1;32m    219\u001b[0m             validate_column(\n\u001b[1;32m    220\u001b[0m                 check_obj[column_name]\u001b[39m.\u001b[39miloc[:, [i]], column_name\n\u001b[1;32m    221\u001b[0m             )\n\u001b[1;32m    222\u001b[0m     \u001b[39melse\u001b[39;00m:\n\u001b[0;32m--> 223\u001b[0m         validate_column(check_obj, column_name)\n\u001b[1;32m    225\u001b[0m \u001b[39mreturn\u001b[39;00m check_obj\n",
      "File \u001b[0;32m~/projects/learning/learning/lib/python3.10/site-packages/pandera/schema_components.py:196\u001b[0m, in \u001b[0;36mColumn.validate.<locals>.validate_column\u001b[0;34m(check_obj, column_name)\u001b[0m\n\u001b[1;32m    195\u001b[0m \u001b[39mdef\u001b[39;00m \u001b[39mvalidate_column\u001b[39m(check_obj, column_name):\n\u001b[0;32m--> 196\u001b[0m     \u001b[39msuper\u001b[39;49m(Column, copy(\u001b[39mself\u001b[39;49m)\u001b[39m.\u001b[39;49mset_name(column_name))\u001b[39m.\u001b[39;49mvalidate(\n\u001b[1;32m    197\u001b[0m         check_obj,\n\u001b[1;32m    198\u001b[0m         head,\n\u001b[1;32m    199\u001b[0m         tail,\n\u001b[1;32m    200\u001b[0m         sample,\n\u001b[1;32m    201\u001b[0m         random_state,\n\u001b[1;32m    202\u001b[0m         lazy,\n\u001b[1;32m    203\u001b[0m         inplace\u001b[39m=\u001b[39;49minplace,\n\u001b[1;32m    204\u001b[0m     )\n",
      "File \u001b[0;32m~/projects/learning/learning/lib/python3.10/site-packages/pandera/schemas.py:2071\u001b[0m, in \u001b[0;36mSeriesSchemaBase.validate\u001b[0;34m(self, check_obj, head, tail, sample, random_state, lazy, inplace)\u001b[0m\n\u001b[1;32m   2064\u001b[0m         msg \u001b[39m=\u001b[39m (\n\u001b[1;32m   2065\u001b[0m             \u001b[39mf\u001b[39m\u001b[39m\"\u001b[39m\u001b[39mexpected series \u001b[39m\u001b[39m'\u001b[39m\u001b[39m{\u001b[39;00mseries\u001b[39m.\u001b[39mname\u001b[39m}\u001b[39;00m\u001b[39m'\u001b[39m\u001b[39m to have type \u001b[39m\u001b[39m{\u001b[39;00m\u001b[39mself\u001b[39m\u001b[39m.\u001b[39m_dtype\u001b[39m}\u001b[39;00m\u001b[39m:\u001b[39m\u001b[39m\\n\u001b[39;00m\u001b[39m\"\u001b[39m\n\u001b[1;32m   2066\u001b[0m             \u001b[39mf\u001b[39m\u001b[39m\"\u001b[39m\u001b[39mfailure cases:\u001b[39m\u001b[39m\\n\u001b[39;00m\u001b[39m{\u001b[39;00mfailure_cases\u001b[39m}\u001b[39;00m\u001b[39m\"\u001b[39m\n\u001b[1;32m   2067\u001b[0m         )\n\u001b[1;32m   2069\u001b[0m     \u001b[39mif\u001b[39;00m failure_cases \u001b[39mis\u001b[39;00m \u001b[39mnot\u001b[39;00m \u001b[39mNone\u001b[39;00m \u001b[39mand\u001b[39;00m \u001b[39mnot\u001b[39;00m failure_cases\u001b[39m.\u001b[39mempty:\n\u001b[0;32m-> 2071\u001b[0m         error_handler\u001b[39m.\u001b[39;49mcollect_error(\n\u001b[1;32m   2072\u001b[0m             \u001b[39m\"\u001b[39;49m\u001b[39mwrong_dtype\u001b[39;49m\u001b[39m\"\u001b[39;49m,\n\u001b[1;32m   2073\u001b[0m             errors\u001b[39m.\u001b[39;49mSchemaError(\n\u001b[1;32m   2074\u001b[0m                 \u001b[39mself\u001b[39;49m,\n\u001b[1;32m   2075\u001b[0m                 check_obj,\n\u001b[1;32m   2076\u001b[0m                 msg,\n\u001b[1;32m   2077\u001b[0m                 failure_cases\u001b[39m=\u001b[39;49mfailure_cases,\n\u001b[1;32m   2078\u001b[0m                 check\u001b[39m=\u001b[39;49m\u001b[39mf\u001b[39;49m\u001b[39m\"\u001b[39;49m\u001b[39mdtype(\u001b[39;49m\u001b[39m'\u001b[39;49m\u001b[39m{\u001b[39;49;00m\u001b[39mself\u001b[39;49m\u001b[39m.\u001b[39;49mdtype\u001b[39m}\u001b[39;49;00m\u001b[39m'\u001b[39;49m\u001b[39m)\u001b[39;49m\u001b[39m\"\u001b[39;49m,\n\u001b[1;32m   2079\u001b[0m             ),\n\u001b[1;32m   2080\u001b[0m         )\n\u001b[1;32m   2082\u001b[0m check_results \u001b[39m=\u001b[39m []\n\u001b[1;32m   2083\u001b[0m \u001b[39mif\u001b[39;00m check_utils\u001b[39m.\u001b[39mis_field(check_obj):\n",
      "File \u001b[0;32m~/projects/learning/learning/lib/python3.10/site-packages/pandera/error_handlers.py:32\u001b[0m, in \u001b[0;36mSchemaErrorHandler.collect_error\u001b[0;34m(self, reason_code, schema_error, original_exc)\u001b[0m\n\u001b[1;32m     26\u001b[0m \u001b[39m\"\"\"Collect schema error, raising exception if lazy is False.\u001b[39;00m\n\u001b[1;32m     27\u001b[0m \n\u001b[1;32m     28\u001b[0m \u001b[39m:param reason_code: string representing reason for error\u001b[39;00m\n\u001b[1;32m     29\u001b[0m \u001b[39m:param schema_error: ``SchemaError`` object.\u001b[39;00m\n\u001b[1;32m     30\u001b[0m \u001b[39m\"\"\"\u001b[39;00m\n\u001b[1;32m     31\u001b[0m \u001b[39mif\u001b[39;00m \u001b[39mnot\u001b[39;00m \u001b[39mself\u001b[39m\u001b[39m.\u001b[39m_lazy:\n\u001b[0;32m---> 32\u001b[0m     \u001b[39mraise\u001b[39;00m schema_error \u001b[39mfrom\u001b[39;00m \u001b[39moriginal_exc\u001b[39;00m\n\u001b[1;32m     34\u001b[0m \u001b[39m# delete data of validated object from SchemaError object to prevent\u001b[39;00m\n\u001b[1;32m     35\u001b[0m \u001b[39m# storing copies of the validated DataFrame/Series for every\u001b[39;00m\n\u001b[1;32m     36\u001b[0m \u001b[39m# SchemaError collected.\u001b[39;00m\n\u001b[1;32m     37\u001b[0m \u001b[39mdel\u001b[39;00m schema_error\u001b[39m.\u001b[39mdata\n",
      "\u001b[0;31mSchemaError\u001b[0m: expected series 'col1' to have type int64, got object"
     ]
    }
   ],
   "source": [
    "schema(df_invalid)"
   ]
  },
  {
   "cell_type": "code",
   "execution_count": null,
   "metadata": {},
   "outputs": [],
   "source": []
  },
  {
   "cell_type": "code",
   "execution_count": null,
   "metadata": {},
   "outputs": [],
   "source": [
    "import pandas as pd\n",
    "import pandera as pa\n",
    "from pandera.typing import DataFrame, Series\n",
    "\n",
    "\n",
    "class Schema(pa.SchemaModel):\n",
    "    # item: Series[str] = pa.Field(isin=[\"apple\", \"orange\"], coerce=True)\n",
    "    # price: Series[float] = pa.Field(gt=0, coerce=True)\n",
    "    category: Series[str]\n",
    "\n",
    "    @pa.check('category')\n",
    "    def category_check(cls, series: Series[str]) -> Series[bool]:\n",
    "        return series.isin(['fruit', 'vegetables'])"
   ]
  },
  {
   "cell_type": "code",
   "execution_count": null,
   "metadata": {},
   "outputs": [],
   "source": [
    "invalid_data = pd.DataFrame.from_records([\n",
    "    {\"item\": \"applee\", \"price\": 0.5, \"category\": 'fruit'},\n",
    "    {\"item\": \"orange\", \"price\": -1000, \"category\": 'fruit'},\n",
    "    {\"item\": \"orange\", \"price\": 1, \"category\": 'snack'},\n",
    "])"
   ]
  },
  {
   "cell_type": "code",
   "execution_count": null,
   "metadata": {},
   "outputs": [
    {
     "data": {
      "text/html": [
       "<div>\n",
       "<style scoped>\n",
       "    .dataframe tbody tr th:only-of-type {\n",
       "        vertical-align: middle;\n",
       "    }\n",
       "\n",
       "    .dataframe tbody tr th {\n",
       "        vertical-align: top;\n",
       "    }\n",
       "\n",
       "    .dataframe thead th {\n",
       "        text-align: right;\n",
       "    }\n",
       "</style>\n",
       "<table border=\"1\" class=\"dataframe\">\n",
       "  <thead>\n",
       "    <tr style=\"text-align: right;\">\n",
       "      <th></th>\n",
       "      <th>item</th>\n",
       "      <th>price</th>\n",
       "      <th>category</th>\n",
       "    </tr>\n",
       "  </thead>\n",
       "  <tbody>\n",
       "    <tr>\n",
       "      <th>0</th>\n",
       "      <td>applee</td>\n",
       "      <td>0.5</td>\n",
       "      <td>fruit</td>\n",
       "    </tr>\n",
       "    <tr>\n",
       "      <th>1</th>\n",
       "      <td>orange</td>\n",
       "      <td>-1000.0</td>\n",
       "      <td>fruit</td>\n",
       "    </tr>\n",
       "  </tbody>\n",
       "</table>\n",
       "</div>"
      ],
      "text/plain": [
       "     item   price category\n",
       "0  applee     0.5    fruit\n",
       "1  orange -1000.0    fruit"
      ]
     },
     "execution_count": 39,
     "metadata": {},
     "output_type": "execute_result"
    }
   ],
   "source": [
    "Schema.validate(invalid_data)"
   ]
  },
  {
   "cell_type": "code",
   "execution_count": null,
   "metadata": {},
   "outputs": [],
   "source": [
    "try:\n",
    "    transform_data(invalid_data)\n",
    "except pa.errors.SchemaErrors as exc:\n",
    "    display(exc.failure_cases)"
   ]
  },
  {
   "cell_type": "code",
   "execution_count": null,
   "metadata": {},
   "outputs": [],
   "source": [
    "@pa.check_types(lazy=True)\n",
    "def transform_data(data: DataFrame[Schema]):\n",
    "    return None\n",
    "\n",
    "\n",
    "\n",
    "try:\n",
    "    transform_data(invalid_data)\n",
    "except pa.errors.SchemaErrors as exc:\n",
    "    display(exc.failure_cases)"
   ]
  },
  {
   "cell_type": "code",
   "execution_count": null,
   "metadata": {},
   "outputs": [
    {
     "ename": "SchemaErrors",
     "evalue": "Schema Schema: A total of 2 schema errors were found.\n\nError Counts\n------------\n- schema_component_check: 2\n\nSchema Error Summary\n--------------------\n                                                failure_cases  n_failure_cases\nschema_context column check                                                   \nColumn         item   isin({'orange', 'apple'})      [applee]                1\n               price  greater_than(0)               [-1000.0]                1\n\nUsage Tip\n---------\n\nDirectly inspect all errors by catching the exception:\n\n```\ntry:\n    schema.validate(dataframe, lazy=True)\nexcept SchemaErrors as err:\n    err.failure_cases  # dataframe of schema errors\n    err.data  # invalid dataframe\n```\n",
     "output_type": "error",
     "traceback": [
      "\u001b[0;31m---------------------------------------------------------------------------\u001b[0m",
      "\u001b[0;31mSchemaErrors\u001b[0m                              Traceback (most recent call last)",
      "\u001b[1;32m/home/nilsgandlau/projects/learning/python/typed_dataframes.ipynb Cell 17\u001b[0m in \u001b[0;36m<cell line: 1>\u001b[0;34m()\u001b[0m\n\u001b[0;32m----> <a href='vscode-notebook-cell://wsl%2Bubuntu-22.04/home/nilsgandlau/projects/learning/python/typed_dataframes.ipynb#X22sdnNjb2RlLXJlbW90ZQ%3D%3D?line=0'>1</a>\u001b[0m transform_data(invalid_data)\n",
      "File \u001b[0;32m~/projects/learning/learning/lib/python3.10/site-packages/pandera/decorators.py:681\u001b[0m, in \u001b[0;36mcheck_types.<locals>._wrapper\u001b[0;34m(wrapped_, instance, args, kwargs)\u001b[0m\n\u001b[1;32m    679\u001b[0m     out \u001b[39m=\u001b[39m validate_arguments(wrapped_)(\u001b[39m*\u001b[39margs, \u001b[39m*\u001b[39m\u001b[39m*\u001b[39mkwargs)\n\u001b[1;32m    680\u001b[0m \u001b[39melse\u001b[39;00m:\n\u001b[0;32m--> 681\u001b[0m     validated_pos, validated_kwd \u001b[39m=\u001b[39m validate_inputs(\n\u001b[1;32m    682\u001b[0m         instance, args, kwargs\n\u001b[1;32m    683\u001b[0m     )\n\u001b[1;32m    684\u001b[0m     out \u001b[39m=\u001b[39m wrapped_(\u001b[39m*\u001b[39mvalidated_pos\u001b[39m.\u001b[39mvalues(), \u001b[39m*\u001b[39m\u001b[39m*\u001b[39mvalidated_kwd)\n\u001b[1;32m    685\u001b[0m \u001b[39mreturn\u001b[39;00m _check_arg(\u001b[39m\"\u001b[39m\u001b[39mreturn\u001b[39m\u001b[39m\"\u001b[39m, out)\n",
      "File \u001b[0;32m~/projects/learning/learning/lib/python3.10/site-packages/pandera/decorators.py:640\u001b[0m, in \u001b[0;36mcheck_types.<locals>.validate_inputs\u001b[0;34m(instance, args, kwargs)\u001b[0m\n\u001b[1;32m    636\u001b[0m \u001b[39mif\u001b[39;00m instance \u001b[39mis\u001b[39;00m \u001b[39mnot\u001b[39;00m \u001b[39mNone\u001b[39;00m:\n\u001b[1;32m    637\u001b[0m     \u001b[39m# If the wrapped function is a method -> add \"self\" as the first positional arg\u001b[39;00m\n\u001b[1;32m    638\u001b[0m     args \u001b[39m=\u001b[39m (instance, \u001b[39m*\u001b[39margs)\n\u001b[0;32m--> 640\u001b[0m validated_pos \u001b[39m=\u001b[39m validate_args(sig\u001b[39m.\u001b[39;49mbind_partial(\u001b[39m*\u001b[39;49margs)\u001b[39m.\u001b[39;49marguments)\n\u001b[1;32m    641\u001b[0m validated_kwd \u001b[39m=\u001b[39m validate_args(sig\u001b[39m.\u001b[39mbind_partial(\u001b[39m*\u001b[39m\u001b[39m*\u001b[39mkwargs)\u001b[39m.\u001b[39marguments)\n\u001b[1;32m    643\u001b[0m \u001b[39mif\u001b[39;00m instance \u001b[39mis\u001b[39;00m \u001b[39mnot\u001b[39;00m \u001b[39mNone\u001b[39;00m:\n\u001b[1;32m    644\u001b[0m     \u001b[39m# If the decorated func is a method, \"wrapped\" is a bound method\u001b[39;00m\n\u001b[1;32m    645\u001b[0m     \u001b[39m# -> remove \"self\" before passing positional args through\u001b[39;00m\n",
      "File \u001b[0;32m~/projects/learning/learning/lib/python3.10/site-packages/pandera/decorators.py:625\u001b[0m, in \u001b[0;36mcheck_types.<locals>.validate_args\u001b[0;34m(arguments)\u001b[0m\n\u001b[1;32m    624\u001b[0m \u001b[39mdef\u001b[39;00m \u001b[39mvalidate_args\u001b[39m(arguments: Dict[\u001b[39mstr\u001b[39m, Any]) \u001b[39m-\u001b[39m\u001b[39m>\u001b[39m Dict[\u001b[39mstr\u001b[39m, Any]:\n\u001b[0;32m--> 625\u001b[0m     \u001b[39mreturn\u001b[39;00m {\n\u001b[1;32m    626\u001b[0m         arg_name: _check_arg(arg_name, arg_value)\n\u001b[1;32m    627\u001b[0m         \u001b[39mfor\u001b[39;00m arg_name, arg_value \u001b[39min\u001b[39;00m arguments\u001b[39m.\u001b[39mitems()\n\u001b[1;32m    628\u001b[0m     }\n",
      "File \u001b[0;32m~/projects/learning/learning/lib/python3.10/site-packages/pandera/decorators.py:626\u001b[0m, in \u001b[0;36m<dictcomp>\u001b[0;34m(.0)\u001b[0m\n\u001b[1;32m    624\u001b[0m \u001b[39mdef\u001b[39;00m \u001b[39mvalidate_args\u001b[39m(arguments: Dict[\u001b[39mstr\u001b[39m, Any]) \u001b[39m-\u001b[39m\u001b[39m>\u001b[39m Dict[\u001b[39mstr\u001b[39m, Any]:\n\u001b[1;32m    625\u001b[0m     \u001b[39mreturn\u001b[39;00m {\n\u001b[0;32m--> 626\u001b[0m         arg_name: _check_arg(arg_name, arg_value)\n\u001b[1;32m    627\u001b[0m         \u001b[39mfor\u001b[39;00m arg_name, arg_value \u001b[39min\u001b[39;00m arguments\u001b[39m.\u001b[39mitems()\n\u001b[1;32m    628\u001b[0m     }\n",
      "File \u001b[0;32m~/projects/learning/learning/lib/python3.10/site-packages/pandera/decorators.py:603\u001b[0m, in \u001b[0;36mcheck_types.<locals>._check_arg\u001b[0;34m(arg_name, arg_value)\u001b[0m\n\u001b[1;32m    596\u001b[0m \u001b[39mif\u001b[39;00m (\n\u001b[1;32m    597\u001b[0m     arg_value\u001b[39m.\u001b[39mpandera\u001b[39m.\u001b[39mschema \u001b[39mis\u001b[39;00m \u001b[39mNone\u001b[39;00m\n\u001b[1;32m    598\u001b[0m     \u001b[39m# don't re-validate a dataframe that contains the same exact\u001b[39;00m\n\u001b[1;32m    599\u001b[0m     \u001b[39m# schema\u001b[39;00m\n\u001b[1;32m    600\u001b[0m     \u001b[39mor\u001b[39;00m arg_value\u001b[39m.\u001b[39mpandera\u001b[39m.\u001b[39mschema \u001b[39m!=\u001b[39m schema\n\u001b[1;32m    601\u001b[0m ):\n\u001b[1;32m    602\u001b[0m     \u001b[39mtry\u001b[39;00m:\n\u001b[0;32m--> 603\u001b[0m         arg_value \u001b[39m=\u001b[39m schema\u001b[39m.\u001b[39;49mvalidate(\n\u001b[1;32m    604\u001b[0m             arg_value,\n\u001b[1;32m    605\u001b[0m             head,\n\u001b[1;32m    606\u001b[0m             tail,\n\u001b[1;32m    607\u001b[0m             sample,\n\u001b[1;32m    608\u001b[0m             random_state,\n\u001b[1;32m    609\u001b[0m             lazy,\n\u001b[1;32m    610\u001b[0m             inplace,\n\u001b[1;32m    611\u001b[0m         )\n\u001b[1;32m    612\u001b[0m     \u001b[39mexcept\u001b[39;00m errors\u001b[39m.\u001b[39mSchemaError \u001b[39mas\u001b[39;00m e:\n\u001b[1;32m    613\u001b[0m         _handle_schema_error(\n\u001b[1;32m    614\u001b[0m             \u001b[39m\"\u001b[39m\u001b[39mcheck_types\u001b[39m\u001b[39m\"\u001b[39m, wrapped, schema, arg_value, e\n\u001b[1;32m    615\u001b[0m         )\n",
      "File \u001b[0;32m~/projects/learning/learning/lib/python3.10/site-packages/pandera/schemas.py:534\u001b[0m, in \u001b[0;36mDataFrameSchema.validate\u001b[0;34m(self, check_obj, head, tail, sample, random_state, lazy, inplace)\u001b[0m\n\u001b[1;32m    521\u001b[0m     check_obj \u001b[39m=\u001b[39m check_obj\u001b[39m.\u001b[39mmap_partitions(\n\u001b[1;32m    522\u001b[0m         \u001b[39mself\u001b[39m\u001b[39m.\u001b[39m_validate,\n\u001b[1;32m    523\u001b[0m         head\u001b[39m=\u001b[39mhead,\n\u001b[0;32m   (...)\u001b[0m\n\u001b[1;32m    529\u001b[0m         meta\u001b[39m=\u001b[39mcheck_obj,\n\u001b[1;32m    530\u001b[0m     )\n\u001b[1;32m    532\u001b[0m     \u001b[39mreturn\u001b[39;00m check_obj\u001b[39m.\u001b[39mpandera\u001b[39m.\u001b[39madd_schema(\u001b[39mself\u001b[39m)\n\u001b[0;32m--> 534\u001b[0m \u001b[39mreturn\u001b[39;00m \u001b[39mself\u001b[39;49m\u001b[39m.\u001b[39;49m_validate(\n\u001b[1;32m    535\u001b[0m     check_obj\u001b[39m=\u001b[39;49mcheck_obj,\n\u001b[1;32m    536\u001b[0m     head\u001b[39m=\u001b[39;49mhead,\n\u001b[1;32m    537\u001b[0m     tail\u001b[39m=\u001b[39;49mtail,\n\u001b[1;32m    538\u001b[0m     sample\u001b[39m=\u001b[39;49msample,\n\u001b[1;32m    539\u001b[0m     random_state\u001b[39m=\u001b[39;49mrandom_state,\n\u001b[1;32m    540\u001b[0m     lazy\u001b[39m=\u001b[39;49mlazy,\n\u001b[1;32m    541\u001b[0m     inplace\u001b[39m=\u001b[39;49minplace,\n\u001b[1;32m    542\u001b[0m )\n",
      "File \u001b[0;32m~/projects/learning/learning/lib/python3.10/site-packages/pandera/schemas.py:794\u001b[0m, in \u001b[0;36mDataFrameSchema._validate\u001b[0;34m(self, check_obj, head, tail, sample, random_state, lazy, inplace)\u001b[0m\n\u001b[1;32m    782\u001b[0m             error_handler\u001b[39m.\u001b[39mcollect_error(\n\u001b[1;32m    783\u001b[0m                 \u001b[39m\"\u001b[39m\u001b[39mduplicates\u001b[39m\u001b[39m\"\u001b[39m,\n\u001b[1;32m    784\u001b[0m                 errors\u001b[39m.\u001b[39mSchemaError(\n\u001b[0;32m   (...)\u001b[0m\n\u001b[1;32m    790\u001b[0m                 ),\n\u001b[1;32m    791\u001b[0m             )\n\u001b[1;32m    793\u001b[0m \u001b[39mif\u001b[39;00m lazy \u001b[39mand\u001b[39;00m error_handler\u001b[39m.\u001b[39mcollected_errors:\n\u001b[0;32m--> 794\u001b[0m     \u001b[39mraise\u001b[39;00m errors\u001b[39m.\u001b[39mSchemaErrors(\n\u001b[1;32m    795\u001b[0m         \u001b[39mself\u001b[39m, error_handler\u001b[39m.\u001b[39mcollected_errors, check_obj\n\u001b[1;32m    796\u001b[0m     )\n\u001b[1;32m    798\u001b[0m \u001b[39massert\u001b[39;00m \u001b[39mall\u001b[39m(check_results), \u001b[39m\"\u001b[39m\u001b[39mall check results must be True.\u001b[39m\u001b[39m\"\u001b[39m\n\u001b[1;32m    799\u001b[0m \u001b[39mreturn\u001b[39;00m check_obj\n",
      "\u001b[0;31mSchemaErrors\u001b[0m: Schema Schema: A total of 2 schema errors were found.\n\nError Counts\n------------\n- schema_component_check: 2\n\nSchema Error Summary\n--------------------\n                                                failure_cases  n_failure_cases\nschema_context column check                                                   \nColumn         item   isin({'orange', 'apple'})      [applee]                1\n               price  greater_than(0)               [-1000.0]                1\n\nUsage Tip\n---------\n\nDirectly inspect all errors by catching the exception:\n\n```\ntry:\n    schema.validate(dataframe, lazy=True)\nexcept SchemaErrors as err:\n    err.failure_cases  # dataframe of schema errors\n    err.data  # invalid dataframe\n```\n"
     ]
    }
   ],
   "source": [
    "transform_data(invalid_data)"
   ]
  },
  {
   "cell_type": "code",
   "execution_count": null,
   "metadata": {},
   "outputs": [
    {
     "ename": "NameError",
     "evalue": "name 'Index' is not defined",
     "output_type": "error",
     "traceback": [
      "\u001b[0;31m---------------------------------------------------------------------------\u001b[0m",
      "\u001b[0;31mNameError\u001b[0m                                 Traceback (most recent call last)",
      "\u001b[1;32m/home/nilsgandlau/projects/learning/python/typed_dataframes.ipynb Cell 23\u001b[0m in \u001b[0;36m<cell line: 4>\u001b[0;34m()\u001b[0m\n\u001b[1;32m      <a href='vscode-notebook-cell://wsl%2Bubuntu-22.04/home/nilsgandlau/projects/learning/python/typed_dataframes.ipynb#X32sdnNjb2RlLXJlbW90ZQ%3D%3D?line=0'>1</a>\u001b[0m \u001b[39mclass\u001b[39;00m \u001b[39mBaseSchema\u001b[39;00m(pa\u001b[39m.\u001b[39mSchemaModel):\n\u001b[1;32m      <a href='vscode-notebook-cell://wsl%2Bubuntu-22.04/home/nilsgandlau/projects/learning/python/typed_dataframes.ipynb#X32sdnNjb2RlLXJlbW90ZQ%3D%3D?line=1'>2</a>\u001b[0m     year: Series[\u001b[39mstr\u001b[39m]\n\u001b[0;32m----> <a href='vscode-notebook-cell://wsl%2Bubuntu-22.04/home/nilsgandlau/projects/learning/python/typed_dataframes.ipynb#X32sdnNjb2RlLXJlbW90ZQ%3D%3D?line=3'>4</a>\u001b[0m \u001b[39mclass\u001b[39;00m \u001b[39mFinalSchema\u001b[39;00m(BaseSchema):\n\u001b[1;32m      <a href='vscode-notebook-cell://wsl%2Bubuntu-22.04/home/nilsgandlau/projects/learning/python/typed_dataframes.ipynb#X32sdnNjb2RlLXJlbW90ZQ%3D%3D?line=4'>5</a>\u001b[0m     year: Series[\u001b[39mint\u001b[39m] \u001b[39m=\u001b[39m pa\u001b[39m.\u001b[39mField(ge\u001b[39m=\u001b[39m\u001b[39m2000\u001b[39m, coerce\u001b[39m=\u001b[39m\u001b[39mTrue\u001b[39;00m)  \u001b[39m# overwrite the base type\u001b[39;00m\n\u001b[1;32m      <a href='vscode-notebook-cell://wsl%2Bubuntu-22.04/home/nilsgandlau/projects/learning/python/typed_dataframes.ipynb#X32sdnNjb2RlLXJlbW90ZQ%3D%3D?line=5'>6</a>\u001b[0m     passengers: Series[\u001b[39mint\u001b[39m]\n",
      "\u001b[1;32m/home/nilsgandlau/projects/learning/python/typed_dataframes.ipynb Cell 23\u001b[0m in \u001b[0;36mFinalSchema\u001b[0;34m()\u001b[0m\n\u001b[1;32m      <a href='vscode-notebook-cell://wsl%2Bubuntu-22.04/home/nilsgandlau/projects/learning/python/typed_dataframes.ipynb#X32sdnNjb2RlLXJlbW90ZQ%3D%3D?line=4'>5</a>\u001b[0m year: Series[\u001b[39mint\u001b[39m] \u001b[39m=\u001b[39m pa\u001b[39m.\u001b[39mField(ge\u001b[39m=\u001b[39m\u001b[39m2000\u001b[39m, coerce\u001b[39m=\u001b[39m\u001b[39mTrue\u001b[39;00m)  \u001b[39m# overwrite the base type\u001b[39;00m\n\u001b[1;32m      <a href='vscode-notebook-cell://wsl%2Bubuntu-22.04/home/nilsgandlau/projects/learning/python/typed_dataframes.ipynb#X32sdnNjb2RlLXJlbW90ZQ%3D%3D?line=5'>6</a>\u001b[0m passengers: Series[\u001b[39mint\u001b[39m]\n\u001b[0;32m----> <a href='vscode-notebook-cell://wsl%2Bubuntu-22.04/home/nilsgandlau/projects/learning/python/typed_dataframes.ipynb#X32sdnNjb2RlLXJlbW90ZQ%3D%3D?line=6'>7</a>\u001b[0m idx: Index[\u001b[39mint\u001b[39m] \u001b[39m=\u001b[39m pa\u001b[39m.\u001b[39mField(ge\u001b[39m=\u001b[39m\u001b[39m0\u001b[39m)\n",
      "\u001b[0;31mNameError\u001b[0m: name 'Index' is not defined"
     ]
    }
   ],
   "source": [
    "class BaseSchema(pa.SchemaModel):\n",
    "    year: Series[str]\n",
    "\n",
    "class FinalSchema(BaseSchema):\n",
    "    year: Series[int] = pa.Field(ge=2000, coerce=True)  # overwrite the base type\n",
    "    passengers: Series[int]\n",
    "    idx: Index[int] = pa.Field(ge=0)\n",
    "\n",
    "df = pd.DataFrame({\n",
    "    \"year\": [\"2000\", \"2001\", \"2002\"],\n",
    "})\n",
    "\n",
    "@pa.check_types\n",
    "def transform(df: DataFrame[BaseSchema]) -> DataFrame[FinalSchema]:\n",
    "    return (\n",
    "        df.assign(passengers=[61000, 50000, 45000])\n",
    "        .set_index(pd.Index([1, 2, 3]))\n",
    "        .astype({\"year\": int})\n",
    "    )\n",
    "\n",
    "print(transform(df))"
   ]
  },
  {
   "attachments": {},
   "cell_type": "markdown",
   "metadata": {},
   "source": [
    "## Notes"
   ]
  },
  {
   "attachments": {},
   "cell_type": "markdown",
   "metadata": {},
   "source": [
    "* decorators\n",
    "    * `@pa.check_output(schema)` checks if the output-dataframe has expected schema\n",
    "    * `@pa.check_input(schema)` checks if input-dataframe has expected schema\n",
    "    * `@pa.check_types`"
   ]
  },
  {
   "attachments": {},
   "cell_type": "markdown",
   "metadata": {},
   "source": [
    "## Example"
   ]
  },
  {
   "cell_type": "code",
   "execution_count": 21,
   "metadata": {},
   "outputs": [
    {
     "ename": "TypeError",
     "evalue": "check_input() got an unexpected keyword argument 'coerce'",
     "output_type": "error",
     "traceback": [
      "\u001b[0;31m---------------------------------------------------------------------------\u001b[0m",
      "\u001b[0;31mTypeError\u001b[0m                                 Traceback (most recent call last)",
      "\u001b[1;32m/home/nilsgandlau/projects/learning/python/typed_dataframes.ipynb Cell 27\u001b[0m in \u001b[0;36m<cell line: 15>\u001b[0;34m()\u001b[0m\n\u001b[1;32m     <a href='vscode-notebook-cell://wsl%2Bubuntu-22.04/home/nilsgandlau/projects/learning/python/typed_dataframes.ipynb#X35sdnNjb2RlLXJlbW90ZQ%3D%3D?line=11'>12</a>\u001b[0m     punctuality: Series[Float] \u001b[39m=\u001b[39m Field(ge\u001b[39m=\u001b[39m\u001b[39m0.0\u001b[39m, le\u001b[39m=\u001b[39m\u001b[39m1.0\u001b[39m)\n\u001b[1;32m     <a href='vscode-notebook-cell://wsl%2Bubuntu-22.04/home/nilsgandlau/projects/learning/python/typed_dataframes.ipynb#X35sdnNjb2RlLXJlbW90ZQ%3D%3D?line=13'>14</a>\u001b[0m \u001b[39m# @pa.check_types\u001b[39;00m\n\u001b[0;32m---> <a href='vscode-notebook-cell://wsl%2Bubuntu-22.04/home/nilsgandlau/projects/learning/python/typed_dataframes.ipynb#X35sdnNjb2RlLXJlbW90ZQ%3D%3D?line=14'>15</a>\u001b[0m \u001b[39m@pa\u001b[39m\u001b[39m.\u001b[39;49mcheck_input(coerce\u001b[39m=\u001b[39;49m\u001b[39mTrue\u001b[39;49;00m)\n\u001b[1;32m     <a href='vscode-notebook-cell://wsl%2Bubuntu-22.04/home/nilsgandlau/projects/learning/python/typed_dataframes.ipynb#X35sdnNjb2RlLXJlbW90ZQ%3D%3D?line=15'>16</a>\u001b[0m \u001b[39mdef\u001b[39;00m \u001b[39mcalculate_punctuality\u001b[39m(df: DataFrame[SchemaNPuncStops]) \u001b[39m-\u001b[39m\u001b[39m>\u001b[39m DataFrame[SchemaPunc]:\n\u001b[1;32m     <a href='vscode-notebook-cell://wsl%2Bubuntu-22.04/home/nilsgandlau/projects/learning/python/typed_dataframes.ipynb#X35sdnNjb2RlLXJlbW90ZQ%3D%3D?line=16'>17</a>\u001b[0m     dfpunc \u001b[39m=\u001b[39m df\u001b[39m.\u001b[39mcopy() \n\u001b[1;32m     <a href='vscode-notebook-cell://wsl%2Bubuntu-22.04/home/nilsgandlau/projects/learning/python/typed_dataframes.ipynb#X35sdnNjb2RlLXJlbW90ZQ%3D%3D?line=17'>18</a>\u001b[0m     dfpunc[\u001b[39m'\u001b[39m\u001b[39mpunctuality\u001b[39m\u001b[39m'\u001b[39m] \u001b[39m=\u001b[39m dfpunc[\u001b[39m'\u001b[39m\u001b[39mn_punctual_stops\u001b[39m\u001b[39m'\u001b[39m] \u001b[39m/\u001b[39m dfpunc[\u001b[39m'\u001b[39m\u001b[39mn_stops\u001b[39m\u001b[39m'\u001b[39m]\n",
      "\u001b[0;31mTypeError\u001b[0m: check_input() got an unexpected keyword argument 'coerce'"
     ]
    }
   ],
   "source": [
    "import pandera as pa\n",
    "from pandera import SchemaModel, Column, Check, Float, Field\n",
    "from pandera.typing import Series, DataFrame\n",
    "from typing import List\n",
    "\n",
    "class SchemaNPuncStops(SchemaModel):\n",
    "    n_stops: Series[Float]\n",
    "    n_punctual_stops: Series[Float]\n",
    "\n",
    "class SchemaPunc(SchemaNPuncStops):\n",
    "    # punctualities must be Floats and values between 0.0 and 1.0\n",
    "    punctuality: Series[Float] = Field(ge=0.0, le=1.0)\n",
    "\n",
    "# @pa.check_types\n",
    "@pa.check_types\n",
    "def calculate_punctuality(df: DataFrame[SchemaNPuncStops]) -> DataFrame[SchemaPunc]:\n",
    "    dfpunc = df.copy() \n",
    "    dfpunc['punctuality'] = dfpunc['n_punctual_stops'] / dfpunc['n_stops']\n",
    "    return dfpunc"
   ]
  },
  {
   "cell_type": "code",
   "execution_count": 60,
   "metadata": {},
   "outputs": [],
   "source": [
    "def my_decorator(func):\n",
    "    def wrapper(*args, **kwargs):\n",
    "        greet(*args, **kwargs)\n",
    "    return func"
   ]
  },
  {
   "cell_type": "code",
   "execution_count": 61,
   "metadata": {},
   "outputs": [],
   "source": [
    "def greet(name):\n",
    "    print(f'hello {name}')"
   ]
  },
  {
   "cell_type": "code",
   "execution_count": 63,
   "metadata": {},
   "outputs": [
    {
     "name": "stdout",
     "output_type": "stream",
     "text": [
      "hello nils\n"
     ]
    }
   ],
   "source": [
    "greet = my_decorator(greet)\n",
    "greet(name='nils')"
   ]
  },
  {
   "cell_type": "code",
   "execution_count": 201,
   "metadata": {},
   "outputs": [],
   "source": [
    "from typing import List\n",
    "from functools import wraps\n",
    "\n",
    "def require_columns(columns: List[str]):\n",
    "    def decorator_require_columns(wrapped):\n",
    "        @wraps(wrapped)\n",
    "        def wrapper_require_columns(*args, **kwargs):\n",
    "            # find the function argument that is of type pd.DataFrame\n",
    "            df_arg_name = None\n",
    "            for arg_name, arg_type_annotation in typing.get_type_hints(wrapped).items():\n",
    "                if arg_type_annotation == pd.DataFrame:\n",
    "                    df_arg_name = arg_name\n",
    "            \n",
    "            # raise error if no argument of type pd.DataFrame has been found\n",
    "            if df_arg_name is None:\n",
    "                raise KeyError(\"Function has no argument of type pandas.DataFrame\")\n",
    "\n",
    "            # check if the dataframe has all required columns\n",
    "            input_dataframe = kwargs[df_arg_name]\n",
    "            for col in columns:\n",
    "                if col not in input_dataframe.columns:\n",
    "                    err = f\"Missing required column: {col}\"\n",
    "                    raise KeyError(err)\n",
    "\n",
    "            return wrapped(*args, **kwargs)\n",
    "        return wrapper_require_columns\n",
    "    return decorator_require_columns"
   ]
  },
  {
   "cell_type": "code",
   "execution_count": 204,
   "metadata": {},
   "outputs": [
    {
     "data": {
      "text/html": [
       "<div>\n",
       "<style scoped>\n",
       "    .dataframe tbody tr th:only-of-type {\n",
       "        vertical-align: middle;\n",
       "    }\n",
       "\n",
       "    .dataframe tbody tr th {\n",
       "        vertical-align: top;\n",
       "    }\n",
       "\n",
       "    .dataframe thead th {\n",
       "        text-align: right;\n",
       "    }\n",
       "</style>\n",
       "<table border=\"1\" class=\"dataframe\">\n",
       "  <thead>\n",
       "    <tr style=\"text-align: right;\">\n",
       "      <th></th>\n",
       "      <th>A</th>\n",
       "      <th>B</th>\n",
       "    </tr>\n",
       "  </thead>\n",
       "  <tbody>\n",
       "    <tr>\n",
       "      <th>0</th>\n",
       "      <td>1</td>\n",
       "      <td>4</td>\n",
       "    </tr>\n",
       "    <tr>\n",
       "      <th>1</th>\n",
       "      <td>2</td>\n",
       "      <td>5</td>\n",
       "    </tr>\n",
       "    <tr>\n",
       "      <th>2</th>\n",
       "      <td>3</td>\n",
       "      <td>6</td>\n",
       "    </tr>\n",
       "  </tbody>\n",
       "</table>\n",
       "</div>"
      ],
      "text/plain": [
       "   A  B\n",
       "0  1  4\n",
       "1  2  5\n",
       "2  3  6"
      ]
     },
     "execution_count": 204,
     "metadata": {},
     "output_type": "execute_result"
    }
   ],
   "source": [
    "@require_columns(columns=['A', 'B'])\n",
    "def transform(data: pd.DataFrame):\n",
    "    # do something that requires column 'A'\n",
    "    return df\n",
    "\n",
    "df = pd.DataFrame({'A': [1, 2, 3], 'B': [4, 5, 6]})\n",
    "transform(data=df)"
   ]
  },
  {
   "cell_type": "code",
   "execution_count": 205,
   "metadata": {},
   "outputs": [
    {
     "ename": "KeyError",
     "evalue": "'Missing required column: B'",
     "output_type": "error",
     "traceback": [
      "\u001b[0;31m---------------------------------------------------------------------------\u001b[0m",
      "\u001b[0;31mKeyError\u001b[0m                                  Traceback (most recent call last)",
      "\u001b[1;32m/home/nilsgandlau/projects/learning/python/typed_dataframes.ipynb Cell 33\u001b[0m in \u001b[0;36m<cell line: 2>\u001b[0;34m()\u001b[0m\n\u001b[1;32m      <a href='vscode-notebook-cell://wsl%2Bubuntu-22.04/home/nilsgandlau/projects/learning/python/typed_dataframes.ipynb#X51sdnNjb2RlLXJlbW90ZQ%3D%3D?line=0'>1</a>\u001b[0m df \u001b[39m=\u001b[39m pd\u001b[39m.\u001b[39mDataFrame({\u001b[39m'\u001b[39m\u001b[39mA\u001b[39m\u001b[39m'\u001b[39m: [\u001b[39m1\u001b[39m, \u001b[39m2\u001b[39m, \u001b[39m3\u001b[39m]})\n\u001b[0;32m----> <a href='vscode-notebook-cell://wsl%2Bubuntu-22.04/home/nilsgandlau/projects/learning/python/typed_dataframes.ipynb#X51sdnNjb2RlLXJlbW90ZQ%3D%3D?line=1'>2</a>\u001b[0m transform(data\u001b[39m=\u001b[39;49mdf)\n",
      "\u001b[1;32m/home/nilsgandlau/projects/learning/python/typed_dataframes.ipynb Cell 33\u001b[0m in \u001b[0;36mrequire_columns.<locals>.decorator_require_columns.<locals>.wrapper_require_columns\u001b[0;34m(*args, **kwargs)\u001b[0m\n\u001b[1;32m     <a href='vscode-notebook-cell://wsl%2Bubuntu-22.04/home/nilsgandlau/projects/learning/python/typed_dataframes.ipynb#X51sdnNjb2RlLXJlbW90ZQ%3D%3D?line=20'>21</a>\u001b[0m     \u001b[39mif\u001b[39;00m col \u001b[39mnot\u001b[39;00m \u001b[39min\u001b[39;00m input_dataframe\u001b[39m.\u001b[39mcolumns:\n\u001b[1;32m     <a href='vscode-notebook-cell://wsl%2Bubuntu-22.04/home/nilsgandlau/projects/learning/python/typed_dataframes.ipynb#X51sdnNjb2RlLXJlbW90ZQ%3D%3D?line=21'>22</a>\u001b[0m         err \u001b[39m=\u001b[39m \u001b[39mf\u001b[39m\u001b[39m\"\u001b[39m\u001b[39mMissing required column: \u001b[39m\u001b[39m{\u001b[39;00mcol\u001b[39m}\u001b[39;00m\u001b[39m\"\u001b[39m\n\u001b[0;32m---> <a href='vscode-notebook-cell://wsl%2Bubuntu-22.04/home/nilsgandlau/projects/learning/python/typed_dataframes.ipynb#X51sdnNjb2RlLXJlbW90ZQ%3D%3D?line=22'>23</a>\u001b[0m         \u001b[39mraise\u001b[39;00m \u001b[39mKeyError\u001b[39;00m(err)\n\u001b[1;32m     <a href='vscode-notebook-cell://wsl%2Bubuntu-22.04/home/nilsgandlau/projects/learning/python/typed_dataframes.ipynb#X51sdnNjb2RlLXJlbW90ZQ%3D%3D?line=24'>25</a>\u001b[0m \u001b[39mreturn\u001b[39;00m wrapped(\u001b[39m*\u001b[39margs, \u001b[39m*\u001b[39m\u001b[39m*\u001b[39mkwargs)\n",
      "\u001b[0;31mKeyError\u001b[0m: 'Missing required column: B'"
     ]
    }
   ],
   "source": [
    "df = pd.DataFrame({'A': [1, 2, 3]})\n",
    "transform(data=df)"
   ]
  },
  {
   "cell_type": "code",
   "execution_count": 174,
   "metadata": {},
   "outputs": [
    {
     "name": "stdout",
     "output_type": "stream",
     "text": [
      "['a', <class 'pandas.core.frame.DataFrame'>]\n",
      "True\n",
      "['b', <class 'pandera.typing.pandas.DataFrame'>]\n",
      "True\n",
      "['c', <class 'int'>]\n",
      "False\n",
      "['return', <class 'bool'>]\n",
      "False\n"
     ]
    }
   ],
   "source": [
    "import typing\n",
    "import pandera as pa\n",
    "\n",
    "def func(a: pd.DataFrame, b: pa.typing.DataFrame, c: int) -> bool:\n",
    "    return True\n",
    "\n",
    "def is_dataframe(annotation) -> bool:\n",
    "    if (annotation == pd.DataFrame) or (annotation == pa.typing.DataFrame):\n",
    "        return True\n",
    "    else:\n",
    "        return False\n",
    "\n",
    "for arg_name, annotation in typing.get_type_hints(func).items():\n",
    "    print([arg_name, annotation])\n",
    "    if is_dataframe(annotation):\n",
    "        print(True)\n",
    "    else:\n",
    "        print(False)"
   ]
  },
  {
   "cell_type": "code",
   "execution_count": null,
   "metadata": {},
   "outputs": [],
   "source": []
  },
  {
   "cell_type": "code",
   "execution_count": null,
   "metadata": {},
   "outputs": [],
   "source": [
    "@check_columns('n_stops')\n",
    "def calculate_punctuality(df: DataFrame[SchemaNPuncStops]) -> DataFrame[SchemaPunc]:\n",
    "    dfpunc = df.copy() \n",
    "    dfpunc['punctuality'] = dfpunc['n_punctual_stops'] / dfpunc['n_stops']\n",
    "    return dfpunc"
   ]
  },
  {
   "cell_type": "code",
   "execution_count": 19,
   "metadata": {},
   "outputs": [
    {
     "ename": "SchemaError",
     "evalue": "error in check_types decorator of function 'calculate_punctuality': expected series 'n_punctual_stops' to have type float64, got object",
     "output_type": "error",
     "traceback": [
      "\u001b[0;31m---------------------------------------------------------------------------\u001b[0m",
      "\u001b[0;31mSchemaError\u001b[0m                               Traceback (most recent call last)",
      "File \u001b[0;32m~/projects/learning/learning/lib/python3.10/site-packages/pandera/decorators.py:603\u001b[0m, in \u001b[0;36mcheck_types.<locals>._check_arg\u001b[0;34m(arg_name, arg_value)\u001b[0m\n\u001b[1;32m    602\u001b[0m \u001b[39mtry\u001b[39;00m:\n\u001b[0;32m--> 603\u001b[0m     arg_value \u001b[39m=\u001b[39m schema\u001b[39m.\u001b[39;49mvalidate(\n\u001b[1;32m    604\u001b[0m         arg_value,\n\u001b[1;32m    605\u001b[0m         head,\n\u001b[1;32m    606\u001b[0m         tail,\n\u001b[1;32m    607\u001b[0m         sample,\n\u001b[1;32m    608\u001b[0m         random_state,\n\u001b[1;32m    609\u001b[0m         lazy,\n\u001b[1;32m    610\u001b[0m         inplace,\n\u001b[1;32m    611\u001b[0m     )\n\u001b[1;32m    612\u001b[0m \u001b[39mexcept\u001b[39;00m errors\u001b[39m.\u001b[39mSchemaError \u001b[39mas\u001b[39;00m e:\n",
      "File \u001b[0;32m~/projects/learning/learning/lib/python3.10/site-packages/pandera/schemas.py:534\u001b[0m, in \u001b[0;36mDataFrameSchema.validate\u001b[0;34m(self, check_obj, head, tail, sample, random_state, lazy, inplace)\u001b[0m\n\u001b[1;32m    532\u001b[0m     \u001b[39mreturn\u001b[39;00m check_obj\u001b[39m.\u001b[39mpandera\u001b[39m.\u001b[39madd_schema(\u001b[39mself\u001b[39m)\n\u001b[0;32m--> 534\u001b[0m \u001b[39mreturn\u001b[39;00m \u001b[39mself\u001b[39;49m\u001b[39m.\u001b[39;49m_validate(\n\u001b[1;32m    535\u001b[0m     check_obj\u001b[39m=\u001b[39;49mcheck_obj,\n\u001b[1;32m    536\u001b[0m     head\u001b[39m=\u001b[39;49mhead,\n\u001b[1;32m    537\u001b[0m     tail\u001b[39m=\u001b[39;49mtail,\n\u001b[1;32m    538\u001b[0m     sample\u001b[39m=\u001b[39;49msample,\n\u001b[1;32m    539\u001b[0m     random_state\u001b[39m=\u001b[39;49mrandom_state,\n\u001b[1;32m    540\u001b[0m     lazy\u001b[39m=\u001b[39;49mlazy,\n\u001b[1;32m    541\u001b[0m     inplace\u001b[39m=\u001b[39;49minplace,\n\u001b[1;32m    542\u001b[0m )\n",
      "File \u001b[0;32m~/projects/learning/learning/lib/python3.10/site-packages/pandera/schemas.py:732\u001b[0m, in \u001b[0;36mDataFrameSchema._validate\u001b[0;34m(self, check_obj, head, tail, sample, random_state, lazy, inplace)\u001b[0m\n\u001b[1;32m    731\u001b[0m \u001b[39mexcept\u001b[39;00m errors\u001b[39m.\u001b[39mSchemaError \u001b[39mas\u001b[39;00m err:\n\u001b[0;32m--> 732\u001b[0m     error_handler\u001b[39m.\u001b[39;49mcollect_error(\u001b[39m\"\u001b[39;49m\u001b[39mschema_component_check\u001b[39;49m\u001b[39m\"\u001b[39;49m, err)\n\u001b[1;32m    733\u001b[0m \u001b[39mexcept\u001b[39;00m errors\u001b[39m.\u001b[39mSchemaErrors \u001b[39mas\u001b[39;00m err:\n",
      "File \u001b[0;32m~/projects/learning/learning/lib/python3.10/site-packages/pandera/error_handlers.py:32\u001b[0m, in \u001b[0;36mSchemaErrorHandler.collect_error\u001b[0;34m(self, reason_code, schema_error, original_exc)\u001b[0m\n\u001b[1;32m     31\u001b[0m \u001b[39mif\u001b[39;00m \u001b[39mnot\u001b[39;00m \u001b[39mself\u001b[39m\u001b[39m.\u001b[39m_lazy:\n\u001b[0;32m---> 32\u001b[0m     \u001b[39mraise\u001b[39;00m schema_error \u001b[39mfrom\u001b[39;00m \u001b[39moriginal_exc\u001b[39;00m\n\u001b[1;32m     34\u001b[0m \u001b[39m# delete data of validated object from SchemaError object to prevent\u001b[39;00m\n\u001b[1;32m     35\u001b[0m \u001b[39m# storing copies of the validated DataFrame/Series for every\u001b[39;00m\n\u001b[1;32m     36\u001b[0m \u001b[39m# SchemaError collected.\u001b[39;00m\n",
      "File \u001b[0;32m~/projects/learning/learning/lib/python3.10/site-packages/pandera/schemas.py:724\u001b[0m, in \u001b[0;36mDataFrameSchema._validate\u001b[0;34m(self, check_obj, head, tail, sample, random_state, lazy, inplace)\u001b[0m\n\u001b[1;32m    723\u001b[0m \u001b[39mtry\u001b[39;00m:\n\u001b[0;32m--> 724\u001b[0m     result \u001b[39m=\u001b[39m schema_component(\n\u001b[1;32m    725\u001b[0m         df_to_validate,\n\u001b[1;32m    726\u001b[0m         lazy\u001b[39m=\u001b[39;49mlazy,\n\u001b[1;32m    727\u001b[0m         \u001b[39m# don't make a copy of the data\u001b[39;49;00m\n\u001b[1;32m    728\u001b[0m         inplace\u001b[39m=\u001b[39;49m\u001b[39mTrue\u001b[39;49;00m,\n\u001b[1;32m    729\u001b[0m     )\n\u001b[1;32m    730\u001b[0m     check_results\u001b[39m.\u001b[39mappend(check_utils\u001b[39m.\u001b[39mis_table(result))\n",
      "File \u001b[0;32m~/projects/learning/learning/lib/python3.10/site-packages/pandera/schemas.py:2138\u001b[0m, in \u001b[0;36mSeriesSchemaBase.__call__\u001b[0;34m(self, check_obj, head, tail, sample, random_state, lazy, inplace)\u001b[0m\n\u001b[1;32m   2137\u001b[0m \u001b[39m\"\"\"Alias for ``validate`` method.\"\"\"\u001b[39;00m\n\u001b[0;32m-> 2138\u001b[0m \u001b[39mreturn\u001b[39;00m \u001b[39mself\u001b[39;49m\u001b[39m.\u001b[39;49mvalidate(\n\u001b[1;32m   2139\u001b[0m     check_obj, head, tail, sample, random_state, lazy, inplace\n\u001b[1;32m   2140\u001b[0m )\n",
      "File \u001b[0;32m~/projects/learning/learning/lib/python3.10/site-packages/pandera/schema_components.py:223\u001b[0m, in \u001b[0;36mColumn.validate\u001b[0;34m(self, check_obj, head, tail, sample, random_state, lazy, inplace)\u001b[0m\n\u001b[1;32m    222\u001b[0m     \u001b[39melse\u001b[39;00m:\n\u001b[0;32m--> 223\u001b[0m         validate_column(check_obj, column_name)\n\u001b[1;32m    225\u001b[0m \u001b[39mreturn\u001b[39;00m check_obj\n",
      "File \u001b[0;32m~/projects/learning/learning/lib/python3.10/site-packages/pandera/schema_components.py:196\u001b[0m, in \u001b[0;36mColumn.validate.<locals>.validate_column\u001b[0;34m(check_obj, column_name)\u001b[0m\n\u001b[1;32m    195\u001b[0m \u001b[39mdef\u001b[39;00m \u001b[39mvalidate_column\u001b[39m(check_obj, column_name):\n\u001b[0;32m--> 196\u001b[0m     \u001b[39msuper\u001b[39;49m(Column, copy(\u001b[39mself\u001b[39;49m)\u001b[39m.\u001b[39;49mset_name(column_name))\u001b[39m.\u001b[39;49mvalidate(\n\u001b[1;32m    197\u001b[0m         check_obj,\n\u001b[1;32m    198\u001b[0m         head,\n\u001b[1;32m    199\u001b[0m         tail,\n\u001b[1;32m    200\u001b[0m         sample,\n\u001b[1;32m    201\u001b[0m         random_state,\n\u001b[1;32m    202\u001b[0m         lazy,\n\u001b[1;32m    203\u001b[0m         inplace\u001b[39m=\u001b[39;49minplace,\n\u001b[1;32m    204\u001b[0m     )\n",
      "File \u001b[0;32m~/projects/learning/learning/lib/python3.10/site-packages/pandera/schemas.py:2071\u001b[0m, in \u001b[0;36mSeriesSchemaBase.validate\u001b[0;34m(self, check_obj, head, tail, sample, random_state, lazy, inplace)\u001b[0m\n\u001b[1;32m   2069\u001b[0m     \u001b[39mif\u001b[39;00m failure_cases \u001b[39mis\u001b[39;00m \u001b[39mnot\u001b[39;00m \u001b[39mNone\u001b[39;00m \u001b[39mand\u001b[39;00m \u001b[39mnot\u001b[39;00m failure_cases\u001b[39m.\u001b[39mempty:\n\u001b[0;32m-> 2071\u001b[0m         error_handler\u001b[39m.\u001b[39;49mcollect_error(\n\u001b[1;32m   2072\u001b[0m             \u001b[39m\"\u001b[39;49m\u001b[39mwrong_dtype\u001b[39;49m\u001b[39m\"\u001b[39;49m,\n\u001b[1;32m   2073\u001b[0m             errors\u001b[39m.\u001b[39;49mSchemaError(\n\u001b[1;32m   2074\u001b[0m                 \u001b[39mself\u001b[39;49m,\n\u001b[1;32m   2075\u001b[0m                 check_obj,\n\u001b[1;32m   2076\u001b[0m                 msg,\n\u001b[1;32m   2077\u001b[0m                 failure_cases\u001b[39m=\u001b[39;49mfailure_cases,\n\u001b[1;32m   2078\u001b[0m                 check\u001b[39m=\u001b[39;49m\u001b[39mf\u001b[39;49m\u001b[39m\"\u001b[39;49m\u001b[39mdtype(\u001b[39;49m\u001b[39m'\u001b[39;49m\u001b[39m{\u001b[39;49;00m\u001b[39mself\u001b[39;49m\u001b[39m.\u001b[39;49mdtype\u001b[39m}\u001b[39;49;00m\u001b[39m'\u001b[39;49m\u001b[39m)\u001b[39;49m\u001b[39m\"\u001b[39;49m,\n\u001b[1;32m   2079\u001b[0m             ),\n\u001b[1;32m   2080\u001b[0m         )\n\u001b[1;32m   2082\u001b[0m check_results \u001b[39m=\u001b[39m []\n",
      "File \u001b[0;32m~/projects/learning/learning/lib/python3.10/site-packages/pandera/error_handlers.py:32\u001b[0m, in \u001b[0;36mSchemaErrorHandler.collect_error\u001b[0;34m(self, reason_code, schema_error, original_exc)\u001b[0m\n\u001b[1;32m     31\u001b[0m \u001b[39mif\u001b[39;00m \u001b[39mnot\u001b[39;00m \u001b[39mself\u001b[39m\u001b[39m.\u001b[39m_lazy:\n\u001b[0;32m---> 32\u001b[0m     \u001b[39mraise\u001b[39;00m schema_error \u001b[39mfrom\u001b[39;00m \u001b[39moriginal_exc\u001b[39;00m\n\u001b[1;32m     34\u001b[0m \u001b[39m# delete data of validated object from SchemaError object to prevent\u001b[39;00m\n\u001b[1;32m     35\u001b[0m \u001b[39m# storing copies of the validated DataFrame/Series for every\u001b[39;00m\n\u001b[1;32m     36\u001b[0m \u001b[39m# SchemaError collected.\u001b[39;00m\n",
      "\u001b[0;31mSchemaError\u001b[0m: expected series 'n_punctual_stops' to have type float64, got object",
      "\nThe above exception was the direct cause of the following exception:\n",
      "\u001b[0;31mSchemaError\u001b[0m                               Traceback (most recent call last)",
      "\u001b[1;32m/home/nilsgandlau/projects/learning/python/typed_dataframes.ipynb Cell 28\u001b[0m in \u001b[0;36m<cell line: 7>\u001b[0;34m()\u001b[0m\n\u001b[1;32m      <a href='vscode-notebook-cell://wsl%2Bubuntu-22.04/home/nilsgandlau/projects/learning/python/typed_dataframes.ipynb#X36sdnNjb2RlLXJlbW90ZQ%3D%3D?line=0'>1</a>\u001b[0m df \u001b[39m=\u001b[39m pd\u001b[39m.\u001b[39mDataFrame({\n\u001b[1;32m      <a href='vscode-notebook-cell://wsl%2Bubuntu-22.04/home/nilsgandlau/projects/learning/python/typed_dataframes.ipynb#X36sdnNjb2RlLXJlbW90ZQ%3D%3D?line=1'>2</a>\u001b[0m     \u001b[39m'\u001b[39m\u001b[39mn_stops\u001b[39m\u001b[39m'\u001b[39m: [\u001b[39m100.0\u001b[39m, \u001b[39m100.0\u001b[39m, \u001b[39m100.0\u001b[39m],\n\u001b[1;32m      <a href='vscode-notebook-cell://wsl%2Bubuntu-22.04/home/nilsgandlau/projects/learning/python/typed_dataframes.ipynb#X36sdnNjb2RlLXJlbW90ZQ%3D%3D?line=2'>3</a>\u001b[0m     \u001b[39m# 'n_punctual_stops': [80.0, 60.0, 50.0],\u001b[39;00m\n\u001b[1;32m      <a href='vscode-notebook-cell://wsl%2Bubuntu-22.04/home/nilsgandlau/projects/learning/python/typed_dataframes.ipynb#X36sdnNjb2RlLXJlbW90ZQ%3D%3D?line=3'>4</a>\u001b[0m     \u001b[39m'\u001b[39m\u001b[39mn_punctual_stops\u001b[39m\u001b[39m'\u001b[39m: [\u001b[39m'\u001b[39m\u001b[39m10\u001b[39m\u001b[39m'\u001b[39m, \u001b[39m'\u001b[39m\u001b[39m5\u001b[39m\u001b[39m'\u001b[39m, \u001b[39m'\u001b[39m\u001b[39m10\u001b[39m\u001b[39m'\u001b[39m],\n\u001b[1;32m      <a href='vscode-notebook-cell://wsl%2Bubuntu-22.04/home/nilsgandlau/projects/learning/python/typed_dataframes.ipynb#X36sdnNjb2RlLXJlbW90ZQ%3D%3D?line=4'>5</a>\u001b[0m })\n\u001b[0;32m----> <a href='vscode-notebook-cell://wsl%2Bubuntu-22.04/home/nilsgandlau/projects/learning/python/typed_dataframes.ipynb#X36sdnNjb2RlLXJlbW90ZQ%3D%3D?line=6'>7</a>\u001b[0m calculate_punctuality(df)\n",
      "File \u001b[0;32m~/projects/learning/learning/lib/python3.10/site-packages/pandera/decorators.py:681\u001b[0m, in \u001b[0;36mcheck_types.<locals>._wrapper\u001b[0;34m(wrapped_, instance, args, kwargs)\u001b[0m\n\u001b[1;32m    679\u001b[0m     out \u001b[39m=\u001b[39m validate_arguments(wrapped_)(\u001b[39m*\u001b[39margs, \u001b[39m*\u001b[39m\u001b[39m*\u001b[39mkwargs)\n\u001b[1;32m    680\u001b[0m \u001b[39melse\u001b[39;00m:\n\u001b[0;32m--> 681\u001b[0m     validated_pos, validated_kwd \u001b[39m=\u001b[39m validate_inputs(\n\u001b[1;32m    682\u001b[0m         instance, args, kwargs\n\u001b[1;32m    683\u001b[0m     )\n\u001b[1;32m    684\u001b[0m     out \u001b[39m=\u001b[39m wrapped_(\u001b[39m*\u001b[39mvalidated_pos\u001b[39m.\u001b[39mvalues(), \u001b[39m*\u001b[39m\u001b[39m*\u001b[39mvalidated_kwd)\n\u001b[1;32m    685\u001b[0m \u001b[39mreturn\u001b[39;00m _check_arg(\u001b[39m\"\u001b[39m\u001b[39mreturn\u001b[39m\u001b[39m\"\u001b[39m, out)\n",
      "File \u001b[0;32m~/projects/learning/learning/lib/python3.10/site-packages/pandera/decorators.py:640\u001b[0m, in \u001b[0;36mcheck_types.<locals>.validate_inputs\u001b[0;34m(instance, args, kwargs)\u001b[0m\n\u001b[1;32m    636\u001b[0m \u001b[39mif\u001b[39;00m instance \u001b[39mis\u001b[39;00m \u001b[39mnot\u001b[39;00m \u001b[39mNone\u001b[39;00m:\n\u001b[1;32m    637\u001b[0m     \u001b[39m# If the wrapped function is a method -> add \"self\" as the first positional arg\u001b[39;00m\n\u001b[1;32m    638\u001b[0m     args \u001b[39m=\u001b[39m (instance, \u001b[39m*\u001b[39margs)\n\u001b[0;32m--> 640\u001b[0m validated_pos \u001b[39m=\u001b[39m validate_args(sig\u001b[39m.\u001b[39;49mbind_partial(\u001b[39m*\u001b[39;49margs)\u001b[39m.\u001b[39;49marguments)\n\u001b[1;32m    641\u001b[0m validated_kwd \u001b[39m=\u001b[39m validate_args(sig\u001b[39m.\u001b[39mbind_partial(\u001b[39m*\u001b[39m\u001b[39m*\u001b[39mkwargs)\u001b[39m.\u001b[39marguments)\n\u001b[1;32m    643\u001b[0m \u001b[39mif\u001b[39;00m instance \u001b[39mis\u001b[39;00m \u001b[39mnot\u001b[39;00m \u001b[39mNone\u001b[39;00m:\n\u001b[1;32m    644\u001b[0m     \u001b[39m# If the decorated func is a method, \"wrapped\" is a bound method\u001b[39;00m\n\u001b[1;32m    645\u001b[0m     \u001b[39m# -> remove \"self\" before passing positional args through\u001b[39;00m\n",
      "File \u001b[0;32m~/projects/learning/learning/lib/python3.10/site-packages/pandera/decorators.py:625\u001b[0m, in \u001b[0;36mcheck_types.<locals>.validate_args\u001b[0;34m(arguments)\u001b[0m\n\u001b[1;32m    624\u001b[0m \u001b[39mdef\u001b[39;00m \u001b[39mvalidate_args\u001b[39m(arguments: Dict[\u001b[39mstr\u001b[39m, Any]) \u001b[39m-\u001b[39m\u001b[39m>\u001b[39m Dict[\u001b[39mstr\u001b[39m, Any]:\n\u001b[0;32m--> 625\u001b[0m     \u001b[39mreturn\u001b[39;00m {\n\u001b[1;32m    626\u001b[0m         arg_name: _check_arg(arg_name, arg_value)\n\u001b[1;32m    627\u001b[0m         \u001b[39mfor\u001b[39;00m arg_name, arg_value \u001b[39min\u001b[39;00m arguments\u001b[39m.\u001b[39mitems()\n\u001b[1;32m    628\u001b[0m     }\n",
      "File \u001b[0;32m~/projects/learning/learning/lib/python3.10/site-packages/pandera/decorators.py:626\u001b[0m, in \u001b[0;36m<dictcomp>\u001b[0;34m(.0)\u001b[0m\n\u001b[1;32m    624\u001b[0m \u001b[39mdef\u001b[39;00m \u001b[39mvalidate_args\u001b[39m(arguments: Dict[\u001b[39mstr\u001b[39m, Any]) \u001b[39m-\u001b[39m\u001b[39m>\u001b[39m Dict[\u001b[39mstr\u001b[39m, Any]:\n\u001b[1;32m    625\u001b[0m     \u001b[39mreturn\u001b[39;00m {\n\u001b[0;32m--> 626\u001b[0m         arg_name: _check_arg(arg_name, arg_value)\n\u001b[1;32m    627\u001b[0m         \u001b[39mfor\u001b[39;00m arg_name, arg_value \u001b[39min\u001b[39;00m arguments\u001b[39m.\u001b[39mitems()\n\u001b[1;32m    628\u001b[0m     }\n",
      "File \u001b[0;32m~/projects/learning/learning/lib/python3.10/site-packages/pandera/decorators.py:613\u001b[0m, in \u001b[0;36mcheck_types.<locals>._check_arg\u001b[0;34m(arg_name, arg_value)\u001b[0m\n\u001b[1;32m    603\u001b[0m         arg_value \u001b[39m=\u001b[39m schema\u001b[39m.\u001b[39mvalidate(\n\u001b[1;32m    604\u001b[0m             arg_value,\n\u001b[1;32m    605\u001b[0m             head,\n\u001b[0;32m   (...)\u001b[0m\n\u001b[1;32m    610\u001b[0m             inplace,\n\u001b[1;32m    611\u001b[0m         )\n\u001b[1;32m    612\u001b[0m     \u001b[39mexcept\u001b[39;00m errors\u001b[39m.\u001b[39mSchemaError \u001b[39mas\u001b[39;00m e:\n\u001b[0;32m--> 613\u001b[0m         _handle_schema_error(\n\u001b[1;32m    614\u001b[0m             \u001b[39m\"\u001b[39;49m\u001b[39mcheck_types\u001b[39;49m\u001b[39m\"\u001b[39;49m, wrapped, schema, arg_value, e\n\u001b[1;32m    615\u001b[0m         )\n\u001b[1;32m    617\u001b[0m \u001b[39mif\u001b[39;00m data_container_type \u001b[39mand\u001b[39;00m config \u001b[39mand\u001b[39;00m config\u001b[39m.\u001b[39mto_format:\n\u001b[1;32m    618\u001b[0m     arg_value \u001b[39m=\u001b[39m data_container_type\u001b[39m.\u001b[39mto_format(arg_value, config)\n",
      "File \u001b[0;32m~/projects/learning/learning/lib/python3.10/site-packages/pandera/decorators.py:98\u001b[0m, in \u001b[0;36m_handle_schema_error\u001b[0;34m(decorator_name, fn, schema, arg_df, schema_error)\u001b[0m\n\u001b[1;32m     96\u001b[0m     func_name \u001b[39m=\u001b[39m fn\u001b[39m.\u001b[39m\u001b[39m__self__\u001b[39m\u001b[39m.\u001b[39m\u001b[39m__class__\u001b[39m\u001b[39m.\u001b[39m\u001b[39m__name__\u001b[39m \u001b[39m+\u001b[39m \u001b[39m\"\u001b[39m\u001b[39m.\u001b[39m\u001b[39m\"\u001b[39m \u001b[39m+\u001b[39m func_name\n\u001b[1;32m     97\u001b[0m msg \u001b[39m=\u001b[39m \u001b[39mf\u001b[39m\u001b[39m\"\u001b[39m\u001b[39merror in \u001b[39m\u001b[39m{\u001b[39;00mdecorator_name\u001b[39m}\u001b[39;00m\u001b[39m decorator of function \u001b[39m\u001b[39m'\u001b[39m\u001b[39m{\u001b[39;00mfunc_name\u001b[39m}\u001b[39;00m\u001b[39m'\u001b[39m\u001b[39m: \u001b[39m\u001b[39m{\u001b[39;00mschema_error\u001b[39m}\u001b[39;00m\u001b[39m\"\u001b[39m\n\u001b[0;32m---> 98\u001b[0m \u001b[39mraise\u001b[39;00m errors\u001b[39m.\u001b[39mSchemaError(\n\u001b[1;32m     99\u001b[0m     schema,\n\u001b[1;32m    100\u001b[0m     arg_df,\n\u001b[1;32m    101\u001b[0m     msg,\n\u001b[1;32m    102\u001b[0m     failure_cases\u001b[39m=\u001b[39mschema_error\u001b[39m.\u001b[39mfailure_cases,\n\u001b[1;32m    103\u001b[0m     check\u001b[39m=\u001b[39mschema_error\u001b[39m.\u001b[39mcheck,\n\u001b[1;32m    104\u001b[0m     check_index\u001b[39m=\u001b[39mschema_error\u001b[39m.\u001b[39mcheck_index,\n\u001b[1;32m    105\u001b[0m ) \u001b[39mfrom\u001b[39;00m \u001b[39mschema_error\u001b[39;00m\n",
      "\u001b[0;31mSchemaError\u001b[0m: error in check_types decorator of function 'calculate_punctuality': expected series 'n_punctual_stops' to have type float64, got object"
     ]
    }
   ],
   "source": [
    "df = pd.DataFrame({\n",
    "    'n_stops': [100.0, 100.0, 100.0],\n",
    "    # 'n_punctual_stops': [80.0, 60.0, 50.0],\n",
    "    'n_punctual_stops': ['10', '5', '10'],\n",
    "})\n",
    "\n",
    "calculate_punctuality(df)"
   ]
  }
 ],
 "metadata": {
  "kernelspec": {
   "display_name": "learning",
   "language": "python",
   "name": "python3"
  },
  "language_info": {
   "codemirror_mode": {
    "name": "ipython",
    "version": 3
   },
   "file_extension": ".py",
   "mimetype": "text/x-python",
   "name": "python",
   "nbconvert_exporter": "python",
   "pygments_lexer": "ipython3",
   "version": "3.10.5 (main, Jul 20 2022, 15:16:58) [GCC 11.2.0]"
  },
  "orig_nbformat": 4,
  "vscode": {
   "interpreter": {
    "hash": "b670abb3a23ea06bbf564f8decfece70d87a6c1ad86d035cc5658e7795de025d"
   }
  }
 },
 "nbformat": 4,
 "nbformat_minor": 2
}
