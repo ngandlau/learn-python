{
 "cells": [
  {
   "cell_type": "code",
   "execution_count": 1,
   "metadata": {},
   "outputs": [
    {
     "data": {
      "text/html": [
       "<div>\n",
       "<style scoped>\n",
       "    .dataframe tbody tr th:only-of-type {\n",
       "        vertical-align: middle;\n",
       "    }\n",
       "\n",
       "    .dataframe tbody tr th {\n",
       "        vertical-align: top;\n",
       "    }\n",
       "\n",
       "    .dataframe thead th {\n",
       "        text-align: right;\n",
       "    }\n",
       "</style>\n",
       "<table border=\"1\" class=\"dataframe\">\n",
       "  <thead>\n",
       "    <tr style=\"text-align: right;\">\n",
       "      <th></th>\n",
       "      <th>string_column</th>\n",
       "      <th>int_column</th>\n",
       "      <th>float_column</th>\n",
       "      <th>date_column</th>\n",
       "    </tr>\n",
       "  </thead>\n",
       "  <tbody>\n",
       "    <tr>\n",
       "      <th>0</th>\n",
       "      <td>these</td>\n",
       "      <td>1</td>\n",
       "      <td>0.5</td>\n",
       "      <td>2022-01-01</td>\n",
       "    </tr>\n",
       "    <tr>\n",
       "      <th>1</th>\n",
       "      <td>are</td>\n",
       "      <td>2</td>\n",
       "      <td>0.3</td>\n",
       "      <td>2022-01-01</td>\n",
       "    </tr>\n",
       "    <tr>\n",
       "      <th>2</th>\n",
       "      <td>strings</td>\n",
       "      <td>3</td>\n",
       "      <td>0.2</td>\n",
       "      <td>2022-01-01</td>\n",
       "    </tr>\n",
       "  </tbody>\n",
       "</table>\n",
       "</div>"
      ],
      "text/plain": [
       "  string_column  int_column  float_column date_column\n",
       "0         these           1           0.5  2022-01-01\n",
       "1           are           2           0.3  2022-01-01\n",
       "2       strings           3           0.2  2022-01-01"
      ]
     },
     "execution_count": 1,
     "metadata": {},
     "output_type": "execute_result"
    }
   ],
   "source": [
    "import pandas as pd\n",
    "import numpy as np\n",
    "from datetime import datetime\n",
    "\n",
    "df = pd.DataFrame({\n",
    "    'string_column': [\"these\", \"are\", \"strings\"],\n",
    "    'int_column': [1, 2, 3],\n",
    "    'float_column': [0.5, 0.3, 0.2],\n",
    "    'date_column': [datetime(year=2022, month=1, day=1)]*3\n",
    "})\n",
    "\n",
    "df"
   ]
  },
  {
   "cell_type": "code",
   "execution_count": 2,
   "metadata": {},
   "outputs": [
    {
     "name": "stdout",
     "output_type": "stream",
     "text": [
      "False\n",
      "True\n",
      "True\n"
     ]
    }
   ],
   "source": [
    "print(df['string_column'].dtype == str)\n",
    "print(df['int_column'].dtype == np.int64)\n",
    "print(df['float_column'].dtype == np.float64)"
   ]
  },
  {
   "cell_type": "code",
   "execution_count": 13,
   "metadata": {},
   "outputs": [
    {
     "name": "stdout",
     "output_type": "stream",
     "text": [
      "'string_column' is of type object but should be <class 'str'>\n"
     ]
    },
    {
     "data": {
      "text/plain": [
       "False"
      ]
     },
     "execution_count": 13,
     "metadata": {},
     "output_type": "execute_result"
    }
   ],
   "source": [
    "from typing import Any, Dict\n",
    "import pandas as pd\n",
    "import numpy as np\n",
    "\n",
    "df = pd.DataFrame({\n",
    "    'string_column': [\"these\", \"are\", \"strings\"],\n",
    "    'int_column': [1, 2, 3],\n",
    "    'float_column': [0.5, 0.3, 0.2],\n",
    "})\n",
    "\n",
    "target_schema = {\n",
    "    'string_column': str,\n",
    "    'int_column': np.int64,\n",
    "    'float_column': np.float64\n",
    "}\n",
    "\n",
    "def has_correct_schema(df: pd.DataFrame, target_schema: Dict[str, Any]) -> bool:\n",
    "    columns_have_correct_dtype = []\n",
    "    for colname in target_schema.keys():\n",
    "        actual_dtype = df[colname].dtype\n",
    "        target_dtype = target_schema[colname]\n",
    "        is_correct_dtype = actual_dtype == target_dtype\n",
    "        if not is_correct_dtype:\n",
    "            print(f\"'{colname}' is of type {actual_dtype} but should be {target_dtype}\")\n",
    "        columns_have_correct_dtype.append(is_correct_dtype)\n",
    "    return all(columns_have_correct_dtype)\n",
    "\n",
    "has_correct_schema(df=df, target_schema=target_schema)\n",
    "\n",
    "# Returns:\n",
    "# -------\n",
    "# 'string_column' is of type object but should be <class 'str'>\n",
    "# False"
   ]
  },
  {
   "cell_type": "code",
   "execution_count": 15,
   "metadata": {},
   "outputs": [
    {
     "data": {
      "text/html": [
       "<div>\n",
       "<style scoped>\n",
       "    .dataframe tbody tr th:only-of-type {\n",
       "        vertical-align: middle;\n",
       "    }\n",
       "\n",
       "    .dataframe tbody tr th {\n",
       "        vertical-align: top;\n",
       "    }\n",
       "\n",
       "    .dataframe thead th {\n",
       "        text-align: right;\n",
       "    }\n",
       "</style>\n",
       "<table border=\"1\" class=\"dataframe\">\n",
       "  <thead>\n",
       "    <tr style=\"text-align: right;\">\n",
       "      <th></th>\n",
       "      <th>index</th>\n",
       "      <th>dtype</th>\n",
       "    </tr>\n",
       "  </thead>\n",
       "  <tbody>\n",
       "    <tr>\n",
       "      <th>0</th>\n",
       "      <td>string_column</td>\n",
       "      <td>object</td>\n",
       "    </tr>\n",
       "    <tr>\n",
       "      <th>1</th>\n",
       "      <td>int_column</td>\n",
       "      <td>int64</td>\n",
       "    </tr>\n",
       "    <tr>\n",
       "      <th>2</th>\n",
       "      <td>float_column</td>\n",
       "      <td>float64</td>\n",
       "    </tr>\n",
       "    <tr>\n",
       "      <th>3</th>\n",
       "      <td>date_column</td>\n",
       "      <td>datetime64[ns]</td>\n",
       "    </tr>\n",
       "  </tbody>\n",
       "</table>\n",
       "</div>"
      ],
      "text/plain": [
       "           index           dtype\n",
       "0  string_column          object\n",
       "1     int_column           int64\n",
       "2   float_column         float64\n",
       "3    date_column  datetime64[ns]"
      ]
     },
     "execution_count": 15,
     "metadata": {},
     "output_type": "execute_result"
    }
   ],
   "source": [
    "df_dtypes = df.dtypes.reset_index(name=\"dtype\")\n",
    "df_dtypes"
   ]
  },
  {
   "cell_type": "code",
   "execution_count": 21,
   "metadata": {},
   "outputs": [
    {
     "data": {
      "text/plain": [
       "array([dtype('O')], dtype=object)"
      ]
     },
     "execution_count": 21,
     "metadata": {},
     "output_type": "execute_result"
    }
   ],
   "source": [
    "df_dtypes[df_dtypes['index'] == 'string_column']['dtype'].values"
   ]
  }
 ],
 "metadata": {
  "kernelspec": {
   "display_name": "Python 3.10.5 ('learning': venv)",
   "language": "python",
   "name": "python3"
  },
  "language_info": {
   "codemirror_mode": {
    "name": "ipython",
    "version": 3
   },
   "file_extension": ".py",
   "mimetype": "text/x-python",
   "name": "python",
   "nbconvert_exporter": "python",
   "pygments_lexer": "ipython3",
   "version": "3.10.5 (main, Jul 20 2022, 15:16:58) [GCC 11.2.0]"
  },
  "orig_nbformat": 4,
  "vscode": {
   "interpreter": {
    "hash": "b670abb3a23ea06bbf564f8decfece70d87a6c1ad86d035cc5658e7795de025d"
   }
  }
 },
 "nbformat": 4,
 "nbformat_minor": 2
}
